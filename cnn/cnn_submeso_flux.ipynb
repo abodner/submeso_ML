{
 "cells": [
  {
   "cell_type": "code",
   "execution_count": 3,
   "metadata": {},
   "outputs": [
    {
     "data": {
      "text/plain": [
       "<torch._C.Generator at 0x14c3a4107950>"
      ]
     },
     "execution_count": 3,
     "metadata": {},
     "output_type": "execute_result"
    }
   ],
   "source": [
    "import torch\n",
    "import torch.nn.functional as F\n",
    "import torch.utils.data as Data\n",
    "import torchvision\n",
    "from torch import nn, optim\n",
    "from torch.autograd import Variable\n",
    "\n",
    "np.random.seed(14)  # For reproducibility\n",
    "torch.manual_seed(14)  # For reproducibility"
   ]
  },
  {
   "cell_type": "code",
   "execution_count": null,
   "metadata": {},
   "outputs": [],
   "source": [
    "# load datasets\n",
    "CASE_NAME = '*/'\n",
    "BASE = '/scratch/ab10313/submeso_ML_data/'\n",
    "PATH = BASE+CASE_NAME\n",
    "\n",
    "FULL_PATH_PP = PATH+'preprocessed_data/'\n",
    "os.mkdir(FULL_PATH_PP)\n",
    "\n",
    "# load all datasets into input/out/loss xarrays\n",
    "\n",
    "X_input = xr.open_mfdataset(FULL_PATH_PP+'*m_MLD_lowres.nc')\n",
    "Y_output = xr.open_mfdataset(FULL_PATH_PP+'*s_MLD_lowres.nc')\n",
    "L_loss = xr.open_mfdataset(FULL_PATH_PP+'Bm_*_MLD_lowres.nc')"
   ]
  },
  {
   "cell_type": "code",
   "execution_count": null,
   "metadata": {},
   "outputs": [],
   "source": [
    "# Load data: input, output (loss)\n",
    "\n",
    "# Split into 80% training and 20% testing.\n",
    "\n",
    "L = int(len(X) * 0.8)\n",
    "# Create non local training data\n",
    "# Define a data loader (4 inputs, 3 outputs)\n",
    "\n",
    "# Define our X,Y pairs (state, subgrid tendency) for the linear regression local network.local_torch_dataset = Data.TensorDataset(\n",
    "torch_dataset = Data.TensorDataset(\n",
    "    torch.from_numpy(np.array(X[:L])).double(),\n",
    "    torch.from_numpy(np.array(Y[:L])).double(),\n",
    ")\n",
    "\n",
    "BATCH_SIZE = 1024  # Number of sample in each batch\n",
    "loader = Data.DataLoader(dataset=torch_dataset, batch_size=BATCH_SIZE, shuffle=True)\n",
    "\n",
    "\n",
    "print(\"N training data: \", len(X[:L]))\n",
    "print(\"N testing data: \", len(X[L:]))\n",
    "\n",
    "# Define a test dataloader (4 inputs, 3 outputs)\n",
    "torch_dataset_test = Data.TensorDataset(\n",
    "    torch.from_numpy(np.array(X[L:])).double(),\n",
    "    torch.from_numpy(np.array(Y[L:])).double(),\n",
    ")\n",
    "\n",
    "loader_test = Data.DataLoader(\n",
    "    dataset=torch_dataset_test, batch_size=BATCH_SIZE, shuffle=True\n",
    ")"
   ]
  },
  {
   "cell_type": "code",
   "execution_count": 2,
   "metadata": {},
   "outputs": [],
   "source": [
    "# define network structure in pytorch\n",
    "import torch.nn.functional as FF\n",
    "\n",
    "def make_block(in_channels: int, out_channels: int, kernel_size: int, \n",
    "        ReLU = 'ReLU', batch_norm = True) -> list:\n",
    "    '''\n",
    "    Packs convolutional layer and optionally ReLU/BatchNorm2d\n",
    "    layers in a list\n",
    "    '''\n",
    "    conv = nn.Conv2d(in_channels, out_channels, kernel_size, \n",
    "        padding='same', padding_mode='circular')\n",
    "    block = [conv]\n",
    "    if ReLU == 'ReLU':\n",
    "        block.append(nn.ReLU())\n",
    "    elif ReLU == 'LeakyReLU':\n",
    "        block.append(nn.LeakyReLU(0.2))\n",
    "    elif ReLU == 'False':\n",
    "        pass\n",
    "    else:\n",
    "        print('Error: wrong ReLU parameter')\n",
    "    if batch_norm:\n",
    "        block.append(nn.BatchNorm2d(out_channels))\n",
    "    return block\n",
    "\n",
    "\n",
    "class CNN(nn.Module):\n",
    "    def __init__(self):\n",
    "        super().__init__()\n",
    "        self.conv1 = nn.Conv2d(4, 128, 5)  # 4 inputs, 128 neurons for first hidden layer\n",
    "        self.conv2 = nn.Conv2d(128, 64, 5)  # 128 inputs, 64 neurons for first hidden layer\n",
    "        self.conv3 = nn.Conv2d(64, 32, 5)  # 64 inputs, 32 neurons for first hidden layer\n",
    "        self.conv4 = nn.Conv2d(32, 16, 5)  # 32 inputs, 16 neurons for first hidden layer\n",
    "        self.fc1 = nn.Linear(16, 3)        # 16 inputs, 3 outputs\n",
    "        \n",
    "    def forward(self, x):\n",
    "        x = FF.relu(self.conv1(x))\n",
    "        x = FF.relu(self.conv2(x))\n",
    "        x = FF.relu(self.conv3(x))\n",
    "        x = FF.relu(self.conv4(x))\n",
    "        x = self.fc1(x)\n",
    "        return x\n",
    "    \n",
    "    \n"
   ]
  },
  {
   "cell_type": "code",
   "execution_count": null,
   "metadata": {},
   "outputs": [],
   "source": [
    "# train network \n",
    "def train_model(net, criterion, trainloader, optimizer):\n",
    "    net.train()\n",
    "    test_loss = 0\n",
    "    for step, (batch_x, batch_y) in enumerate(trainloader):  # for each training step\n",
    "        b_x = Variable(batch_x)  # Inputs\n",
    "        b_y = Variable(batch_y)  # outputs\n",
    "        prediction = net(b_x)\n",
    "        loss = criterion(prediction, b_y)  # Calculating loss\n",
    "        optimizer.zero_grad()  # clear gradients for next train\n",
    "        loss.backward()  # backpropagation, compute gradients\n",
    "        optimizer.step()  # apply gradients to update weights\n",
    "\n",
    "\n",
    "def test_model(net, criterion, trainloader, optimizer, text=\"validation\"):\n",
    "    net.eval()  # Evaluation mode (important when having dropout layers)\n",
    "    test_loss = 0\n",
    "    with torch.no_grad():\n",
    "        for step, (batch_x, batch_y) in enumerate(\n",
    "            trainloader\n",
    "        ):  # for each training step\n",
    "            b_x = Variable(batch_x)  # Inputs\n",
    "            b_y = Variable(batch_y)  # outputs\n",
    "            prediction = net(b_x)\n",
    "            loss = criterion(prediction, b_y)  # Calculating loss\n",
    "            test_loss = test_loss + loss.data.numpy()  # Keep track of the loss\n",
    "        test_loss /= len(trainloader)  # dividing by the number of batches\n",
    "        #         print(len(trainloader))\n",
    "        print(text + \" loss:\", test_loss)\n",
    "    return test_loss\n",
    "\n",
    "\n",
    "criterion = torch.nn.MSELoss()  # MSE loss function"
   ]
  },
  {
   "cell_type": "code",
   "execution_count": null,
   "metadata": {},
   "outputs": [],
   "source": [
    "torch.manual_seed(14)  # For reproducibility\n",
    "cnn_SMflux = CNN().double()\n",
    "\n",
    "n_epochs = 50  # Number of epocs could be increased\n",
    "optimizer = optim.Adam(cnn_SMflux.parameters(), lr=0.03)\n",
    "validation_loss = list()\n",
    "train_loss = list()\n",
    "# time0 = time()\n",
    "for epoch in range(1, n_epochs + 1):\n",
    "    train_model(cnn_SMflux, criterion, loader, optimizer)\n",
    "    train_loss.append(test_model(cnn_SMflux, criterion, loader, optimizer, \"train\"))\n",
    "    validation_loss.append(test_model(cnn_SMflux, criterion, loader_test, optimizer))\n",
    "plt.plot(train_loss, \"b\", label=\"training loss\")\n",
    "plt.plot(validation_loss, \"r\", label=\"validation loss\")\n",
    "\n",
    "plt.legend();"
   ]
  }
 ],
 "metadata": {
  "kernelspec": {
   "display_name": "my_env",
   "language": "python",
   "name": "my_env"
  },
  "language_info": {
   "codemirror_mode": {
    "name": "ipython",
    "version": 3
   },
   "file_extension": ".py",
   "mimetype": "text/x-python",
   "name": "python",
   "nbconvert_exporter": "python",
   "pygments_lexer": "ipython3",
   "version": "3.9.5"
  }
 },
 "nbformat": 4,
 "nbformat_minor": 4
}
