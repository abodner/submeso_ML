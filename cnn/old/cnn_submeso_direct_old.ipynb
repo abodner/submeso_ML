{
 "cells": [
  {
   "cell_type": "code",
   "execution_count": 86,
   "metadata": {},
   "outputs": [
    {
     "data": {
      "text/plain": [
       "<torch._C.Generator at 0x148eb5754530>"
      ]
     },
     "execution_count": 86,
     "metadata": {},
     "output_type": "execute_result"
    }
   ],
   "source": [
    "import torch\n",
    "import torch.nn.functional as F\n",
    "import torch.utils.data as Data\n",
    "import torchvision\n",
    "from torch import nn, optim\n",
    "from torch.autograd import Variable\n",
    "import numpy as np\n",
    "import os\n",
    "import glob\n",
    "import xarray as xr\n",
    "from sklearn import preprocessing\n",
    "import netCDF4 as nc\n",
    "\n",
    "\n",
    "np.random.seed(14)  # For reproducibility\n",
    "torch.manual_seed(14)  # For reproducibility"
   ]
  },
  {
   "cell_type": "markdown",
   "metadata": {},
   "source": [
    "# Dataloader"
   ]
  },
  {
   "cell_type": "markdown",
   "metadata": {},
   "source": [
    "### Create input and output channels"
   ]
  },
  {
   "cell_type": "code",
   "execution_count": 204,
   "metadata": {},
   "outputs": [],
   "source": [
    "# function that splits datasets along the spacial axes and concats them back into single array under time\n",
    "\n",
    "def normalize(data):\n",
    "    normalized_data =  (data - data.mean(skipna=True).values)/data.std(skipna=True).values\n",
    "    return normalized_data\n",
    "\n",
    "\n",
    "def load_norm_data(var_name_string):\n",
    "    PATH_LIST = glob.glob(BASE+'*/preprocessed_data/'+var_name_string+'.nc') \n",
    "    data_app = normalize(xr.open_dataarray(PATH_LIST[0])).to_numpy()[:,8:-8,8:-8]\n",
    "    for i_file in np.arange(1,len(PATH_LIST)):\n",
    "        PATH = PATH_LIST[i_file]\n",
    "        data = normalize(xr.open_dataarray(PATH)).to_numpy()[:,8:-8,8:-8]\n",
    "        data_app = np.concatenate((data_app,data),axis=0)\n",
    "    return data_app\n",
    "\n",
    "\n",
    "def split_data(data):\n",
    "    data_split_halfs = np.concatenate((np.split(data,2,axis=1)[0],np.split(data,2,axis=1)[1]),0)\n",
    "    data_split_quarters = np.concatenate((np.split(data_split_halfs,2,axis=2)[0],np.split(data_split_halfs,2,axis=2)[1]),0)\n",
    "    return data_split_quarters\n",
    "\n",
    "\n",
    "\n",
    "def load_split_norm_data(var_name_string):\n",
    "    loaded_data = load_norm_data(var_name_string)\n",
    "    final_data = split_data(loaded_data)\n",
    "    return final_data\n",
    "    \n",
    "\n",
    "\n",
    "\n"
   ]
  },
  {
   "cell_type": "code",
   "execution_count": 205,
   "metadata": {},
   "outputs": [
    {
     "data": {
      "text/plain": [
       "(13760, 12, 6)"
      ]
     },
     "execution_count": 205,
     "metadata": {},
     "output_type": "execute_result"
    }
   ],
   "source": [
    "ds_Bm.shape"
   ]
  },
  {
   "cell_type": "code",
   "execution_count": 207,
   "metadata": {},
   "outputs": [
    {
     "name": "stdout",
     "output_type": "stream",
     "text": [
      "X input shape:\n",
      "(6880, 4, 12, 12)\n",
      "\n",
      "Y output shape:\n",
      "(6880, 3, 12, 12)\n",
      "\n",
      "grad b shape:\n",
      "(6880, 3, 12, 12)\n"
     ]
    }
   ],
   "source": [
    "# load preprocessed data, convert to numpy and stack channels\n",
    "\n",
    "BASE = '/scratch/ab10313/submeso_ML_data/'\n",
    "FULL_PATH_PP = glob.glob(BASE+'*/preprocessed_data/')\n",
    "\n",
    "# X INPUT\n",
    "ds_Bm = load_split_norm_data('Bm_MLD_lowres')\n",
    "ds_Um = load_split_norm_data('Um_MLD_lowres')\n",
    "ds_Vm = load_split_norm_data('Vm_MLD_lowres')\n",
    "ds_Wm = load_split_norm_data('Wm_MLD_lowres')\n",
    "\n",
    "\n",
    "X_input = np.stack([ds_Bm,ds_Um,ds_Vm,ds_Wm],axis=1)\n",
    "print('X input shape:')\n",
    "print( X_input.shape)\n",
    "print('')\n",
    "\n",
    "\n",
    "# Y OUTPUT\n",
    "ds_UsBs = load_split_norm_data('UsBs_MLD_lowres')\n",
    "ds_VsBs = load_split_norm_data('VsBs_MLD_lowres')\n",
    "ds_WsBs = load_split_norm_data('WsBs_MLD_lowres')\n",
    "\n",
    "Y_output = np.stack([ds_UsBs,ds_VsBs,ds_WsBs],axis=1)\n",
    "print('Y output shape:')\n",
    "print(Y_output.shape)\n",
    "print('')\n",
    "\n",
    "\n",
    "# GRAD B\n",
    "ds_Bm_x = load_split_norm_data('Bm_x_MLD_lowres')\n",
    "ds_Bm_y = load_split_norm_data('Bm_y_MLD_lowres')\n",
    "ds_Bm_z = load_split_norm_data('Bm_z_MLD_lowres')\n",
    "\n",
    "grad_b = np.stack([ds_Bm_x,ds_Bm_y,ds_Bm_z],axis=1)\n",
    "print('grad b shape:')\n",
    "print( grad_b.shape)\n"
   ]
  },
  {
   "cell_type": "markdown",
   "metadata": {},
   "source": [
    "### randomly generate train, test and validation sets"
   ]
  },
  {
   "cell_type": "code",
   "execution_count": 208,
   "metadata": {},
   "outputs": [
    {
     "name": "stdout",
     "output_type": "stream",
     "text": [
      "Dataset: train 80.0%, test 10.0%, val 10.0%\n",
      "no overlapping indecies\n"
     ]
    }
   ],
   "source": [
    "# randomnly generate train, test and validation time indecies \n",
    "import random\n",
    "time_ind = X_input.shape[0]\n",
    "rand_ind = np.arange(time_ind)\n",
    "rand_seed = 14\n",
    "random.Random(rand_seed).shuffle(rand_ind)\n",
    "train_percent = 0.8\n",
    "test_percent = 0.1 \n",
    "print(f\"Dataset: train {np.round(train_percent*100)}%, test {np.round(test_percent*100)}%, val {np.round((1-train_percent-test_percent)*100)}%\")\n",
    "train_ind, test_ind, val_ind =  rand_ind[:round(train_percent*time_ind)], rand_ind[round(train_percent*time_ind):round((train_percent+test_percent)*time_ind)], rand_ind[round((train_percent+test_percent)*time_ind):]                                                                        \n",
    "\n",
    "# check no overlapping indecies\n",
    "if np.intersect1d(train_ind, test_ind).any() or np.intersect1d(train_ind, val_ind).any() or np.intersect1d(val_ind, test_ind).any():\n",
    "    print('overlapping indecies')\n",
    "else:\n",
    "    print ('no overlapping indecies')\n",
    "    "
   ]
  },
  {
   "cell_type": "markdown",
   "metadata": {},
   "source": [
    "### defined train, test and val dataloaders"
   ]
  },
  {
   "cell_type": "code",
   "execution_count": 209,
   "metadata": {},
   "outputs": [
    {
     "name": "stdout",
     "output_type": "stream",
     "text": [
      "TRAIN\n",
      "X input shape:\n",
      "(5504, 4, 12, 12)\n",
      "Y output shape:\n",
      "(5504, 3, 12, 12)\n",
      "\n",
      "TEST\n",
      "X input shape:\n",
      "(688, 4, 12, 12)\n",
      "Y output shape:\n",
      "(688, 3, 12, 12)\n",
      "\n",
      "VAL\n",
      "X input shape:\n",
      "(688, 4, 12, 12)\n",
      "Y output shape:\n",
      "(688, 3, 12, 12)\n",
      "\n"
     ]
    }
   ],
   "source": [
    "# Define X,Y pairs (state, subgrid fluxes) for local network.local_torch_dataset = Data.TensorDataset(\n",
    "BATCH_SIZE = 32  # Number of sample in each batch\n",
    "\n",
    "\n",
    "###### training dataset #######\n",
    "torch_dataset_train = Data.TensorDataset(\n",
    "    torch.from_numpy(X_input[train_ind]).double(),\n",
    "    torch.from_numpy(Y_output[train_ind]).double(),\n",
    ")\n",
    "\n",
    "loader_train = Data.DataLoader(\n",
    "    dataset=torch_dataset_train, batch_size=BATCH_SIZE, shuffle=True\n",
    ")\n",
    "print('TRAIN')\n",
    "print('X input shape:')\n",
    "print( X_input[train_ind].shape)\n",
    "print('Y output shape:')\n",
    "print( Y_output[train_ind].shape)\n",
    "print('')\n",
    "\n",
    "###### test dataset #######\n",
    "torch_dataset_test = Data.TensorDataset(\n",
    "    torch.from_numpy(X_input[test_ind]).double(),\n",
    "    torch.from_numpy(Y_output[test_ind]).double(),    \n",
    ")\n",
    "\n",
    "loader_test = Data.DataLoader(\n",
    "    dataset=torch_dataset_test, batch_size=BATCH_SIZE, shuffle=True\n",
    ")\n",
    "\n",
    "print('TEST')\n",
    "print('X input shape:')\n",
    "print( X_input[test_ind].shape)\n",
    "print('Y output shape:')\n",
    "print( Y_output[test_ind].shape)\n",
    "print('')\n",
    "\n",
    "###### validation dataset #######\n",
    "torch_dataset_val = Data.TensorDataset(\n",
    "    torch.from_numpy(X_input[val_ind]).double(),\n",
    "    torch.from_numpy(Y_output[val_ind]).double(),\n",
    ")\n",
    "\n",
    "loader_val = Data.DataLoader(\n",
    "    dataset=torch_dataset_val, batch_size=BATCH_SIZE, shuffle=True\n",
    ")\n",
    "\n",
    "print('VAL')\n",
    "print('X input shape:')\n",
    "print( X_input[val_ind].shape)\n",
    "print('Y output shape:')\n",
    "print( Y_output[val_ind].shape)\n",
    "print('')"
   ]
  },
  {
   "cell_type": "markdown",
   "metadata": {},
   "source": [
    "## CNN - direct fluxes 3 output channels"
   ]
  },
  {
   "cell_type": "code",
   "execution_count": 210,
   "metadata": {},
   "outputs": [],
   "source": [
    "# define network structure in pytorch\n",
    "import torch.nn.functional as FF\n",
    "\n",
    "class CNN_direct(nn.Module):\n",
    "    def __init__(self):\n",
    "        super().__init__()\n",
    "        self.conv1 = nn.Conv2d(4, 128, 5,padding='same')  # 4 inputs, 128 neurons for first hidden layer\n",
    "        self.conv2 = nn.Conv2d(128, 64, 5,padding='same')  # 128 inputs, 64 neurons for first hidden layer\n",
    "        self.conv3 = nn.Conv2d(64, 32, 5,padding='same')  # 64 inputs, 32 neurons for first hidden layer\n",
    "        self.conv4 = nn.Conv2d(32, 16, 5,padding='same')  # 32 inputs, 24 neurons for first hidden layer\n",
    "        self.conv5 = nn.Conv2d(16, 3, 5,padding='same')  # 32 inputs, 24 neurons for first hidden layer\n",
    "\n",
    "    def forward(self, x):\n",
    "        x = FF.relu(self.conv1(x))\n",
    "        x = FF.relu(self.conv2(x))\n",
    "        x = FF.relu(self.conv3(x))\n",
    "        x = FF.relu(self.conv4(x))\n",
    "        x = self.conv5(x)\n",
    "        return x\n",
    " \n",
    "    \n",
    "# define network structure in pytorch\n",
    "import torch.nn.functional as FF\n",
    "\n",
    "#class CNN_direct(nn.Module):\n",
    "#    def __init__(self):\n",
    "#        super().__init__()\n",
    "#        self.conv1 = nn.Conv2d(4, 64, 5,padding='same')  # 4 inputs, 128 neurons for first hidden layer\n",
    "#        self.conv2 = nn.Conv2d(64, 32, 5,padding='same')  # 64 inputs, 32 neurons for first hidden layer\n",
    "#        self.conv3 = nn.Conv2d(32, 3, 5,padding='same')  # 32 inputs, 24 neurons for first hidden layer\n",
    "\n",
    "#    def forward(self, x):\n",
    "#        x = FF.relu(self.conv1(x))\n",
    "#        x = FF.relu(self.conv2(x))\n",
    "#        x = self.conv3(x)\n",
    "#        return x\n",
    "    "
   ]
  },
  {
   "cell_type": "markdown",
   "metadata": {},
   "source": [
    "## Train and test model: direct fluxes"
   ]
  },
  {
   "cell_type": "code",
   "execution_count": 211,
   "metadata": {},
   "outputs": [],
   "source": [
    "# train network \n",
    "def train_model_direct(net, criterion, trainloader, optimizer,  text=\"train\"):\n",
    "    device = torch.device(\"cuda:0\" if torch.cuda.is_available() else \"cpu\")\n",
    "    net.to(device)\n",
    "    device_name = torch.cuda.get_device_name(0) if torch.cuda.is_available() else \"cpu\"\n",
    "    print(f\"Training starts on device {device_name}, number of samples {len(trainloader)}\")\n",
    "    \n",
    "    net.train()\n",
    "    train_loss = 0\n",
    "    for step, (batch_x, batch_y) in enumerate(trainloader):  # for each training step\n",
    "        b_x = Variable(batch_x)  # Inputs\n",
    "        b_y = Variable(batch_y)  # outputs\n",
    "        prediction = net(b_x.to(device))\n",
    "        loss = criterion(prediction, b_y.to(device))  # Calculating loss\n",
    "        optimizer.zero_grad()  # clear gradients for next train\n",
    "        loss.backward()  # backpropagation, compute gradients\n",
    "        optimizer.step()  # apply gradients to update weights\n",
    "        nb = b_y.shape[0]\n",
    "        train_loss = train_loss + nb * loss.detach().cpu().numpy()  # Keep track of the loss\n",
    "    train_loss /= len(trainloader)  # dividing by the number of batches\n",
    "    print(text + \" loss:\", train_loss)\n",
    "    return train_loss\n",
    "\n",
    "\n",
    "def test_model_direct(net, criterion, testloader, optimizer, text=\"validation\"):\n",
    "    device = torch.device(\"cuda:0\" if torch.cuda.is_available() else \"cpu\")\n",
    "    net.to(device)\n",
    "    device_name = torch.cuda.get_device_name(0) if torch.cuda.is_available() else \"cpu\"\n",
    "    print(f\"Training starts on device {device_name}, number of samples {len(testloader)}\")\n",
    "    \n",
    "    net.eval()  # Evaluation mode (important when having dropout layers)\n",
    "    test_loss = 0\n",
    "    with torch.no_grad():\n",
    "        for step, (batch_x, batch_y) in enumerate(\n",
    "            testloader\n",
    "        ):  # for each training step\n",
    "            b_x = Variable(batch_x)  # Inputs\n",
    "            b_y = Variable(batch_y)  # outputs\n",
    "            prediction = net(b_x.to(device))\n",
    "            loss = criterion(prediction, b_y.to(device))  # Calculating loss\n",
    "            nb = b_y.shape[0]\n",
    "            test_loss = test_loss + nb * loss.detach().cpu().numpy()  # Keep track of the loss\n",
    "        test_loss /= len(testloader)  # dividing by the number of batches\n",
    "        #         print(len(trainloader))\n",
    "        print(text + \" loss:\", test_loss)\n",
    "    return test_loss\n",
    "\n",
    "\n",
    "criterion = torch.nn.MSELoss()  # MSE loss function"
   ]
  },
  {
   "cell_type": "code",
   "execution_count": 216,
   "metadata": {},
   "outputs": [
    {
     "data": {
      "text/plain": [
       "device(type='cpu')"
      ]
     },
     "execution_count": 216,
     "metadata": {},
     "output_type": "execute_result"
    }
   ],
   "source": [
    "device = torch.device(\"cuda:0\" if torch.cuda.is_available() else \"cpu\")\n",
    "device"
   ]
  },
  {
   "cell_type": "markdown",
   "metadata": {},
   "source": [
    "## train CNN!"
   ]
  },
  {
   "cell_type": "code",
   "execution_count": 212,
   "metadata": {},
   "outputs": [
    {
     "name": "stdout",
     "output_type": "stream",
     "text": [
      "epoch: 1\n",
      "Training starts on device cpu, number of samples 172\n"
     ]
    },
    {
     "ename": "KeyboardInterrupt",
     "evalue": "",
     "output_type": "error",
     "traceback": [
      "\u001b[0;31m---------------------------------------------------------------------------\u001b[0m",
      "\u001b[0;31mKeyboardInterrupt\u001b[0m                         Traceback (most recent call last)",
      "\u001b[0;32m/state/partition1/job-27049201/ipykernel_1051351/967042946.py\u001b[0m in \u001b[0;36m<module>\u001b[0;34m\u001b[0m\n\u001b[1;32m     10\u001b[0m     \u001b[0mprint\u001b[0m\u001b[0;34m(\u001b[0m\u001b[0;34m\"epoch:\"\u001b[0m\u001b[0;34m,\u001b[0m \u001b[0mepoch\u001b[0m\u001b[0;34m)\u001b[0m\u001b[0;34m\u001b[0m\u001b[0;34m\u001b[0m\u001b[0m\n\u001b[1;32m     11\u001b[0m    \u001b[0;31m# train_model_direct(cnn_submeso, criterion, loader_train, optimizer,  text=\"train\")\u001b[0m\u001b[0;34m\u001b[0m\u001b[0;34m\u001b[0m\u001b[0;34m\u001b[0m\u001b[0m\n\u001b[0;32m---> 12\u001b[0;31m     \u001b[0mtrain_loss\u001b[0m\u001b[0;34m.\u001b[0m\u001b[0mappend\u001b[0m\u001b[0;34m(\u001b[0m\u001b[0mtrain_model_direct\u001b[0m\u001b[0;34m(\u001b[0m\u001b[0mcnn_submeso\u001b[0m\u001b[0;34m,\u001b[0m \u001b[0mcriterion\u001b[0m\u001b[0;34m,\u001b[0m \u001b[0mloader_train\u001b[0m\u001b[0;34m,\u001b[0m \u001b[0moptimizer\u001b[0m\u001b[0;34m)\u001b[0m\u001b[0;34m)\u001b[0m\u001b[0;34m\u001b[0m\u001b[0;34m\u001b[0m\u001b[0m\n\u001b[0m\u001b[1;32m     13\u001b[0m    \u001b[0;31m# test_model_direct(cnn_submeso, criterion, loader_val, optimizer, text=\"validation\")\u001b[0m\u001b[0;34m\u001b[0m\u001b[0;34m\u001b[0m\u001b[0;34m\u001b[0m\u001b[0m\n\u001b[1;32m     14\u001b[0m     \u001b[0mvalidation_loss\u001b[0m\u001b[0;34m.\u001b[0m\u001b[0mappend\u001b[0m\u001b[0;34m(\u001b[0m\u001b[0mtest_model_direct\u001b[0m\u001b[0;34m(\u001b[0m\u001b[0mcnn_submeso\u001b[0m\u001b[0;34m,\u001b[0m \u001b[0mcriterion\u001b[0m\u001b[0;34m,\u001b[0m \u001b[0mloader_val\u001b[0m\u001b[0;34m,\u001b[0m \u001b[0moptimizer\u001b[0m\u001b[0;34m)\u001b[0m\u001b[0;34m)\u001b[0m\u001b[0;34m\u001b[0m\u001b[0;34m\u001b[0m\u001b[0m\n",
      "\u001b[0;32m/state/partition1/job-27049201/ipykernel_1051351/2817336191.py\u001b[0m in \u001b[0;36mtrain_model_direct\u001b[0;34m(net, criterion, trainloader, optimizer, text)\u001b[0m\n\u001b[1;32m     14\u001b[0m         \u001b[0mloss\u001b[0m \u001b[0;34m=\u001b[0m \u001b[0mcriterion\u001b[0m\u001b[0;34m(\u001b[0m\u001b[0mprediction\u001b[0m\u001b[0;34m,\u001b[0m \u001b[0mb_y\u001b[0m\u001b[0;34m.\u001b[0m\u001b[0mto\u001b[0m\u001b[0;34m(\u001b[0m\u001b[0mdevice\u001b[0m\u001b[0;34m)\u001b[0m\u001b[0;34m)\u001b[0m  \u001b[0;31m# Calculating loss\u001b[0m\u001b[0;34m\u001b[0m\u001b[0;34m\u001b[0m\u001b[0m\n\u001b[1;32m     15\u001b[0m         \u001b[0moptimizer\u001b[0m\u001b[0;34m.\u001b[0m\u001b[0mzero_grad\u001b[0m\u001b[0;34m(\u001b[0m\u001b[0;34m)\u001b[0m  \u001b[0;31m# clear gradients for next train\u001b[0m\u001b[0;34m\u001b[0m\u001b[0;34m\u001b[0m\u001b[0m\n\u001b[0;32m---> 16\u001b[0;31m         \u001b[0mloss\u001b[0m\u001b[0;34m.\u001b[0m\u001b[0mbackward\u001b[0m\u001b[0;34m(\u001b[0m\u001b[0;34m)\u001b[0m  \u001b[0;31m# backpropagation, compute gradients\u001b[0m\u001b[0;34m\u001b[0m\u001b[0;34m\u001b[0m\u001b[0m\n\u001b[0m\u001b[1;32m     17\u001b[0m         \u001b[0moptimizer\u001b[0m\u001b[0;34m.\u001b[0m\u001b[0mstep\u001b[0m\u001b[0;34m(\u001b[0m\u001b[0;34m)\u001b[0m  \u001b[0;31m# apply gradients to update weights\u001b[0m\u001b[0;34m\u001b[0m\u001b[0;34m\u001b[0m\u001b[0m\n\u001b[1;32m     18\u001b[0m         \u001b[0mnb\u001b[0m \u001b[0;34m=\u001b[0m \u001b[0mb_y\u001b[0m\u001b[0;34m.\u001b[0m\u001b[0mshape\u001b[0m\u001b[0;34m[\u001b[0m\u001b[0;36m0\u001b[0m\u001b[0;34m]\u001b[0m\u001b[0;34m\u001b[0m\u001b[0;34m\u001b[0m\u001b[0m\n",
      "\u001b[0;32m/ext3/miniconda3/lib/python3.9/site-packages/torch/_tensor.py\u001b[0m in \u001b[0;36mbackward\u001b[0;34m(self, gradient, retain_graph, create_graph, inputs)\u001b[0m\n\u001b[1;32m    394\u001b[0m                 \u001b[0mcreate_graph\u001b[0m\u001b[0;34m=\u001b[0m\u001b[0mcreate_graph\u001b[0m\u001b[0;34m,\u001b[0m\u001b[0;34m\u001b[0m\u001b[0;34m\u001b[0m\u001b[0m\n\u001b[1;32m    395\u001b[0m                 inputs=inputs)\n\u001b[0;32m--> 396\u001b[0;31m         \u001b[0mtorch\u001b[0m\u001b[0;34m.\u001b[0m\u001b[0mautograd\u001b[0m\u001b[0;34m.\u001b[0m\u001b[0mbackward\u001b[0m\u001b[0;34m(\u001b[0m\u001b[0mself\u001b[0m\u001b[0;34m,\u001b[0m \u001b[0mgradient\u001b[0m\u001b[0;34m,\u001b[0m \u001b[0mretain_graph\u001b[0m\u001b[0;34m,\u001b[0m \u001b[0mcreate_graph\u001b[0m\u001b[0;34m,\u001b[0m \u001b[0minputs\u001b[0m\u001b[0;34m=\u001b[0m\u001b[0minputs\u001b[0m\u001b[0;34m)\u001b[0m\u001b[0;34m\u001b[0m\u001b[0;34m\u001b[0m\u001b[0m\n\u001b[0m\u001b[1;32m    397\u001b[0m \u001b[0;34m\u001b[0m\u001b[0m\n\u001b[1;32m    398\u001b[0m     \u001b[0;32mdef\u001b[0m \u001b[0mregister_hook\u001b[0m\u001b[0;34m(\u001b[0m\u001b[0mself\u001b[0m\u001b[0;34m,\u001b[0m \u001b[0mhook\u001b[0m\u001b[0;34m)\u001b[0m\u001b[0;34m:\u001b[0m\u001b[0;34m\u001b[0m\u001b[0;34m\u001b[0m\u001b[0m\n",
      "\u001b[0;32m/ext3/miniconda3/lib/python3.9/site-packages/torch/autograd/__init__.py\u001b[0m in \u001b[0;36mbackward\u001b[0;34m(tensors, grad_tensors, retain_graph, create_graph, grad_variables, inputs)\u001b[0m\n\u001b[1;32m    171\u001b[0m     \u001b[0;31m# some Python versions print out the first line of a multi-line function\u001b[0m\u001b[0;34m\u001b[0m\u001b[0;34m\u001b[0m\u001b[0;34m\u001b[0m\u001b[0m\n\u001b[1;32m    172\u001b[0m     \u001b[0;31m# calls in the traceback and some print out the last line\u001b[0m\u001b[0;34m\u001b[0m\u001b[0;34m\u001b[0m\u001b[0;34m\u001b[0m\u001b[0m\n\u001b[0;32m--> 173\u001b[0;31m     Variable._execution_engine.run_backward(  # Calls into the C++ engine to run the backward pass\n\u001b[0m\u001b[1;32m    174\u001b[0m         \u001b[0mtensors\u001b[0m\u001b[0;34m,\u001b[0m \u001b[0mgrad_tensors_\u001b[0m\u001b[0;34m,\u001b[0m \u001b[0mretain_graph\u001b[0m\u001b[0;34m,\u001b[0m \u001b[0mcreate_graph\u001b[0m\u001b[0;34m,\u001b[0m \u001b[0minputs\u001b[0m\u001b[0;34m,\u001b[0m\u001b[0;34m\u001b[0m\u001b[0;34m\u001b[0m\u001b[0m\n\u001b[1;32m    175\u001b[0m         allow_unreachable=True, accumulate_grad=True)  # Calls into the C++ engine to run the backward pass\n",
      "\u001b[0;31mKeyboardInterrupt\u001b[0m: "
     ]
    }
   ],
   "source": [
    "torch.manual_seed(14)  # For reproducibility\n",
    "cnn_submeso = CNN_direct().double()\n",
    "\n",
    "n_epochs = 50  # Number of epocs could be increased\n",
    "optimizer = optim.Adam(cnn_submeso.parameters(), lr=0.03)\n",
    "validation_loss = list()\n",
    "train_loss = list()\n",
    "# time0 = time()\n",
    "for epoch in range(1, n_epochs + 1):\n",
    "    print(\"epoch:\", epoch)\n",
    "   # train_model_direct(cnn_submeso, criterion, loader_train, optimizer,  text=\"train\")\n",
    "    train_loss.append(train_model_direct(cnn_submeso, criterion, loader_train, optimizer))\n",
    "   # test_model_direct(cnn_submeso, criterion, loader_val, optimizer, text=\"validation\")\n",
    "    validation_loss.append(test_model_direct(cnn_submeso, criterion, loader_val, optimizer))\n"
   ]
  },
  {
   "cell_type": "code",
   "execution_count": 9,
   "metadata": {},
   "outputs": [
    {
     "data": {
      "image/png": "[encoded data removed]",
      "text/plain": [
       "<Figure size 432x288 with 1 Axes>"
      ]
     },
     "metadata": {
      "needs_background": "light"
     },
     "output_type": "display_data"
    }
   ],
   "source": [
    "import matplotlib.pyplot as plt\n",
    "\n",
    "plt.plot(train_loss[1:], \"b\", label=\"training loss\")\n",
    "plt.plot(validation_loss[1:], \"r\", label=\"validation loss\")\n",
    "\n",
    "plt.legend();"
   ]
  },
  {
   "cell_type": "code",
   "execution_count": 67,
   "metadata": {},
   "outputs": [
    {
     "data": {
      "text/plain": [
       "<matplotlib.colorbar.Colorbar at 0x14f386237d00>"
      ]
     },
     "execution_count": 67,
     "metadata": {},
     "output_type": "execute_result"
    },
    {
     "data": {
      "image/png": "[encoded data removed]",
      "text/plain": [
       "<Figure size 432x288 with 2 Axes>"
      ]
     },
     "metadata": {
      "needs_background": "light"
     },
     "output_type": "display_data"
    }
   ],
   "source": [
    "plt.pcolor(b_y[0,0,:,:])\n",
    "plt.colorbar()"
   ]
  },
  {
   "cell_type": "code",
   "execution_count": 71,
   "metadata": {},
   "outputs": [
    {
     "data": {
      "text/plain": [
       "<matplotlib.colorbar.Colorbar at 0x14f385f53c10>"
      ]
     },
     "execution_count": 71,
     "metadata": {},
     "output_type": "execute_result"
    },
    {
     "data": {
      "image/png": "[encoded data removed]",
      "text/plain": [
       "<Figure size 432x288 with 2 Axes>"
      ]
     },
     "metadata": {
      "needs_background": "light"
     },
     "output_type": "display_data"
    }
   ],
   "source": [
    "device = torch.device(\"cuda:0\" if torch.cuda.is_available() else \"cpu\")\n",
    "plt.pcolor(cnn_submeso(b_x.to(device)).detach().cpu().numpy()[0,0,:,:])\n",
    "plt.colorbar()"
   ]
  },
  {
   "cell_type": "code",
   "execution_count": null,
   "metadata": {},
   "outputs": [],
   "source": []
  }
 ],
 "metadata": {
  "kernelspec": {
   "display_name": "my_env",
   "language": "python",
   "name": "my_env"
  },
  "language_info": {
   "codemirror_mode": {
    "name": "ipython",
    "version": 3
   },
   "file_extension": ".py",
   "mimetype": "text/x-python",
   "name": "python",
   "nbconvert_exporter": "python",
   "pygments_lexer": "ipython3",
   "version": "3.9.5"
  }
 },
 "nbformat": 4,
 "nbformat_minor": 4
}
