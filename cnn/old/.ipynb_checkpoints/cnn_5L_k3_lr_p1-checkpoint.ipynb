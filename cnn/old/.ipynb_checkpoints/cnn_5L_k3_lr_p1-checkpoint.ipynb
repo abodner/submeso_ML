{
 "cells": [
  {
   "cell_type": "code",
   "execution_count": 1,
   "metadata": {},
   "outputs": [
    {
     "data": {
      "text/plain": [
       "<torch._C.Generator at 0x149eb40fa550>"
      ]
     },
     "execution_count": 1,
     "metadata": {},
     "output_type": "execute_result"
    }
   ],
   "source": [
    "import torch\n",
    "import torch.nn.functional as F\n",
    "import torch.utils.data as Data\n",
    "import torchvision\n",
    "from torch import nn, optim\n",
    "from torch.autograd import Variable\n",
    "import numpy as np\n",
    "import os\n",
    "import glob\n",
    "import xarray as xr\n",
    "from sklearn import preprocessing\n",
    "import netCDF4 as nc\n",
    "import matplotlib.pyplot as plt\n",
    "\n",
    "\n",
    "\n",
    "np.random.seed(14)  # For reproducibility\n",
    "torch.manual_seed(14)  # For reproducibility"
   ]
  },
  {
   "cell_type": "markdown",
   "metadata": {},
   "source": [
    "# Dataloader"
   ]
  },
  {
   "cell_type": "markdown",
   "metadata": {},
   "source": [
    "### Create input and output channels"
   ]
  },
  {
   "cell_type": "code",
   "execution_count": 2,
   "metadata": {},
   "outputs": [
    {
     "name": "stdout",
     "output_type": "stream",
     "text": [
      "X input shape:\n",
      "(7704, 2, 40, 40)\n",
      "\n",
      "Y output shape:\n",
      "(7704, 1, 40, 40)\n",
      "\n"
     ]
    }
   ],
   "source": [
    "# load preprocessed data into input and output channels\n",
    "\n",
    "BASE = '/scratch/ab10313/pleiades/'\n",
    "PATH_NN = BASE+'NN_data/'\n",
    "\n",
    "# X INPUT\n",
    "grad_B = np.load(PATH_NN+'grad_B.npy')\n",
    "HML = np.load(PATH_NN+'HML.npy')\n",
    "TAU = np.load(PATH_NN+'TAU.npy')\n",
    "U = np.load(PATH_NN+'U.npy')\n",
    "V = np.load(PATH_NN+'V.npy')\n",
    "Q = np.load(PATH_NN+'Q.npy')\n",
    "HBL = np.load(PATH_NN+'HBL.npy')\n",
    "#FCOR = np.load(PATH_NN+'FCOR.nc')\n",
    "\n",
    "\n",
    "X_input = np.stack([grad_B, HML, TAU, U, V, Q, HBL],axis=1)\n",
    "print('X input shape:')\n",
    "print( X_input.shape)\n",
    "print('')\n",
    "\n",
    "\n",
    "# Y OUTPUT\n",
    "WB_sg = np.load(PATH_NN+'WB_sg.npy')\n",
    "              \n",
    "Y_output = np.tile(WB_sg,(1,1,1,1)).reshape(WB_sg.shape[0],1,WB_sg.shape[1],WB_sg.shape[2]) \n",
    "print('Y output shape:')\n",
    "print(Y_output.shape)\n",
    "print('')\n",
    "\n"
   ]
  },
  {
   "cell_type": "markdown",
   "metadata": {},
   "source": [
    "### randomly generate train, test and validation sets"
   ]
  },
  {
   "cell_type": "code",
   "execution_count": 3,
   "metadata": {},
   "outputs": [
    {
     "name": "stdout",
     "output_type": "stream",
     "text": [
      "Dataset: train 90.0%, test 10.0%\n",
      "no overlapping indecies\n"
     ]
    }
   ],
   "source": [
    "# TRAIN AND TEST ONLY\n",
    "# randomnly generate train, test and validation time indecies \n",
    "import random\n",
    "time_ind = X_input.shape[0]\n",
    "rand_ind = np.arange(time_ind)\n",
    "rand_seed = 14\n",
    "random.Random(rand_seed).shuffle(rand_ind)\n",
    "train_percent = 0.9\n",
    "test_percent = 0.1 \n",
    "print(f\"Dataset: train {np.round(train_percent*100)}%, test {np.round(test_percent*100)}%\")\n",
    "train_ind, test_ind =  rand_ind[:round(train_percent*time_ind)], rand_ind[round((train_percent)*time_ind):]                                                                        \n",
    "\n",
    "# check no overlapping indecies\n",
    "if np.intersect1d(train_ind, test_ind).any():\n",
    "    print('overlapping indecies')\n",
    "else:\n",
    "    print ('no overlapping indecies')\n",
    "    "
   ]
  },
  {
   "cell_type": "markdown",
   "metadata": {},
   "source": [
    "### defined train, test and val dataloaders"
   ]
  },
  {
   "cell_type": "code",
   "execution_count": 4,
   "metadata": {},
   "outputs": [
    {
     "name": "stdout",
     "output_type": "stream",
     "text": [
      "TRAIN\n",
      "X input shape:\n",
      "(6934, 2, 40, 40)\n",
      "Y output shape:\n",
      "(6934, 1, 40, 40)\n",
      "\n",
      "TEST\n",
      "X input shape:\n",
      "(770, 2, 40, 40)\n",
      "Y output shape:\n",
      "(770, 1, 40, 40)\n",
      "\n"
     ]
    }
   ],
   "source": [
    "# Define X,Y pairs (state, subgrid fluxes) for local network.local_torch_dataset = Data.TensorDataset(\n",
    "BATCH_SIZE = 64  # Number of sample in each batch\n",
    "\n",
    "\n",
    "###### training dataset #######\n",
    "torch_dataset_train = Data.TensorDataset(\n",
    "    torch.from_numpy(X_input[train_ind]).double(),\n",
    "    torch.from_numpy(Y_output[train_ind]).double(),\n",
    ")\n",
    "\n",
    "loader_train = Data.DataLoader(\n",
    "    dataset=torch_dataset_train, batch_size=BATCH_SIZE, shuffle=True\n",
    ")\n",
    "print('TRAIN')\n",
    "print('X input shape:')\n",
    "print( X_input[train_ind].shape)\n",
    "print('Y output shape:')\n",
    "print( Y_output[train_ind].shape)\n",
    "print('')\n",
    "\n",
    "###### test dataset #######\n",
    "torch_dataset_test = Data.TensorDataset(\n",
    "    torch.from_numpy(X_input[test_ind]).double(),\n",
    "    torch.from_numpy(Y_output[test_ind]).double(),    \n",
    ")\n",
    "\n",
    "BATCH_SIZE_TEST = len(torch_dataset_test)\n",
    "\n",
    "loader_test = Data.DataLoader(\n",
    "    dataset=torch_dataset_test, batch_size=BATCH_SIZE_TEST, shuffle=True\n",
    ")\n",
    "\n",
    "print('TEST')\n",
    "print('X input shape:')\n",
    "print( X_input[test_ind].shape)\n",
    "print('Y output shape:')\n",
    "print( Y_output[test_ind].shape)\n",
    "print('')\n",
    "\n"
   ]
  },
  {
   "cell_type": "markdown",
   "metadata": {},
   "source": [
    "## CNN - direct fluxes 3 output channels"
   ]
  },
  {
   "cell_type": "code",
   "execution_count": 5,
   "metadata": {},
   "outputs": [],
   "source": [
    "# define network structure in pytorch\n",
    "import torch.nn.functional as FF\n",
    "\n",
    "class CNN_direct(nn.Module):\n",
    "    def __init__(self):\n",
    "        super().__init__()\n",
    "        self.conv1 = nn.Conv2d(7, 128, 3, padding='same', padding_mode='reflect')  # 7 inputs, 128 neurons for first hidden layer\n",
    "        self.conv1_bn=nn.BatchNorm2d(128)\n",
    "        self.conv2 = nn.Conv2d(128, 64, 3, padding='same', padding_mode='reflect')  # 128 inputs, 64 neurons for first hidden layer\n",
    "        self.conv2_bn=nn.BatchNorm2d(64)\n",
    "        self.conv3 = nn.Conv2d(64, 32, 3, padding='same', padding_mode='reflect')  # 64 inputs, 32 neurons for first hidden layer\n",
    "        self.conv3_bn=nn.BatchNorm2d(32)  \n",
    "        self.conv4 = nn.Conv2d(32, 16, 3, padding='same', padding_mode='reflect')  # 32 inputs, 16 neurons for first hidden layer\n",
    "        self.conv4_bn=nn.BatchNorm2d(16) \n",
    "        self.conv5 = nn.Conv2d(16, 1, 3, padding='same', padding_mode='reflect')  # 16 inputs, 1 neurons for first hidden layer\n",
    "        self.conv5_bn=nn.BatchNorm2d(1) \n",
    "\n",
    "    def forward(self, x):\n",
    "        x = self.conv1(x)\n",
    "        x = F.relu(self.conv1_bn(x))\n",
    "        x = self.conv2(x)\n",
    "        x = F.relu(self.conv2_bn(x))\n",
    "        x = self.conv3(x)\n",
    "        x = F.relu(self.conv3_bn(x))\n",
    "        x = self.conv4(x)\n",
    "        x = F.relu(self.conv4_bn(x))\n",
    "        x = self.conv5(x)\n",
    "        x = self.conv5_bn(x)\n",
    "        return x\n",
    " \n",
    "    \n"
   ]
  },
  {
   "cell_type": "markdown",
   "metadata": {},
   "source": [
    "## Train and test model: direct fluxes"
   ]
  },
  {
   "cell_type": "code",
   "execution_count": 6,
   "metadata": {},
   "outputs": [],
   "source": [
    "# train network \n",
    "def train_model_direct(net, criterion, trainloader, optimizer, len_train_dataset, text=\"train\"):\n",
    "    device = torch.device(\"cuda:0\" if torch.cuda.is_available() else \"cpu\")\n",
    "    net.to(device)\n",
    "    device_name = torch.cuda.get_device_name(0) if torch.cuda.is_available() else \"cpu\"\n",
    "    print(f\"Training starts on device {device_name}, number of samples {len(trainloader)}\")\n",
    "    \n",
    "    net.train()\n",
    "    train_loss = 0\n",
    "    for step, (batch_x, batch_y) in enumerate(trainloader):  # for each training step\n",
    "        b_x = Variable(batch_x)  # Inputs\n",
    "        b_y = Variable(batch_y)  # outputs\n",
    "        prediction = net(b_x.to(device))\n",
    "        loss = criterion(prediction, b_y.to(device))  # Calculating loss\n",
    "        optimizer.zero_grad()  # clear gradients for next train\n",
    "        loss.backward()  # backpropagation, compute gradients\n",
    "        optimizer.step()  # apply gradients to update weights\n",
    "        nb = b_y.shape[0]\n",
    "        train_loss = train_loss + nb * loss.detach().cpu().numpy()  # Keep track of the loss\n",
    "    train_loss /= len_train_dataset  # dividing by the number of batches\n",
    "    print(text + \" loss:\", train_loss)\n",
    "    return train_loss\n",
    "\n",
    "\n",
    "def test_model_direct(net, criterion, testloader, optimizer,len_test_dataset, text=\"test\"):\n",
    "    device = torch.device(\"cuda:0\" if torch.cuda.is_available() else \"cpu\")\n",
    "    net.to(device)\n",
    "    device_name = torch.cuda.get_device_name(0) if torch.cuda.is_available() else \"cpu\"\n",
    "    print(f\"Training starts on device {device_name}, number of samples {len(testloader)}\")\n",
    "    \n",
    "    net.eval()  # Evaluation mode (important when having dropout layers)\n",
    "    test_loss = 0\n",
    "    with torch.no_grad():\n",
    "        for step, (batch_x, batch_y) in enumerate(\n",
    "            testloader\n",
    "        ):  # for each training step\n",
    "            b_x = Variable(batch_x)  # Inputs\n",
    "            b_y = Variable(batch_y)  # outputs\n",
    "            prediction = net(b_x.to(device))\n",
    "            loss = criterion(prediction, b_y.to(device))  # Calculating loss\n",
    "            nb = b_y.shape[0]\n",
    "            test_loss = test_loss + nb * loss.detach().cpu().numpy()  # Keep track of the loss\n",
    "        test_loss /= len_test_dataset  # dividing by the number of batches\n",
    "        #         print(len(trainloader))\n",
    "        print(text + \" loss:\", test_loss)\n",
    "    return test_loss\n",
    "\n",
    "\n",
    "\n",
    "def plot_model_direct(net, criterion, testloader, optimizer, len_test_dataset, text=\"test\"):\n",
    "    device = torch.device(\"cuda:0\" if torch.cuda.is_available() else \"cpu\")\n",
    "    net.to(device)\n",
    "    device_name = torch.cuda.get_device_name(0) if torch.cuda.is_available() else \"cpu\"\n",
    "    print(f\"Training starts on device {device_name}, number of samples {len(testloader)}\")\n",
    "    \n",
    "    net.eval()  # Evaluation mode (important when having dropout layers)\n",
    "    test_loss = 0\n",
    "    with torch.no_grad():\n",
    "        for step, (batch_x, batch_y) in enumerate(\n",
    "            testloader\n",
    "        ):  # for each training step\n",
    "            b_x = Variable(batch_x)  # Inputs\n",
    "            b_y = Variable(batch_y)  # outputs\n",
    "            prediction = net(b_x.to(device))\n",
    "            loss = criterion(prediction, b_y.to(device))  # Calculating loss\n",
    "            nb = b_y.shape[0]\n",
    "            test_loss = test_loss + nb * loss.detach().cpu().numpy()  # Keep track of the loss\n",
    "        test_loss /= len_test_dataset  # dividing by the number of batches\n",
    "        #         print(len(trainloader))\n",
    "        print(text + \" loss:\", test_loss)\n",
    "    return b_x, b_y, prediction\n",
    "\n",
    "\n",
    "criterion = torch.nn.MSELoss()  # MSE loss function\n",
    "\n",
    "\n"
   ]
  },
  {
   "cell_type": "markdown",
   "metadata": {},
   "source": [
    "## train CNN!"
   ]
  },
  {
   "cell_type": "code",
   "execution_count": null,
   "metadata": {},
   "outputs": [
    {
     "name": "stdout",
     "output_type": "stream",
     "text": [
      "epoch: 1\n",
      "Training starts on device Quadro RTX 8000, number of samples 109\n",
      "train loss: 0.910581872341866\n",
      "Training starts on device Quadro RTX 8000, number of samples 1\n",
      "test loss: 0.8806703026860332\n",
      "epoch: 2\n",
      "Training starts on device Quadro RTX 8000, number of samples 109\n",
      "train loss: 0.8434115902557657\n",
      "Training starts on device Quadro RTX 8000, number of samples 1\n",
      "test loss: 0.8700357994256387\n",
      "epoch: 3\n",
      "Training starts on device Quadro RTX 8000, number of samples 109\n",
      "train loss: 0.8170534608062281\n",
      "Training starts on device Quadro RTX 8000, number of samples 1\n",
      "test loss: 0.8615960444546775\n",
      "epoch: 4\n",
      "Training starts on device Quadro RTX 8000, number of samples 109\n",
      "train loss: 0.8035719235414834\n",
      "Training starts on device Quadro RTX 8000, number of samples 1\n",
      "test loss: 0.818130884793864\n",
      "epoch: 5\n",
      "Training starts on device Quadro RTX 8000, number of samples 109\n",
      "train loss: 0.797931956134081\n",
      "Training starts on device Quadro RTX 8000, number of samples 1\n",
      "test loss: 0.8237992994498938\n",
      "epoch: 6\n",
      "Training starts on device Quadro RTX 8000, number of samples 109\n",
      "train loss: 0.7987044427423067\n",
      "Training starts on device Quadro RTX 8000, number of samples 1\n",
      "test loss: 0.905056220829659\n",
      "epoch: 7\n",
      "Training starts on device Quadro RTX 8000, number of samples 109\n",
      "train loss: 0.791310498490951\n",
      "Training starts on device Quadro RTX 8000, number of samples 1\n",
      "test loss: 0.8075727124427936\n",
      "epoch: 8\n",
      "Training starts on device Quadro RTX 8000, number of samples 109\n",
      "train loss: 0.7869865765432221\n",
      "Training starts on device Quadro RTX 8000, number of samples 1\n",
      "test loss: 0.806020577925809\n",
      "epoch: 9\n",
      "Training starts on device Quadro RTX 8000, number of samples 109\n",
      "train loss: 0.7906224079633208\n",
      "Training starts on device Quadro RTX 8000, number of samples 1\n",
      "test loss: 0.8150065111782774\n",
      "epoch: 10\n",
      "Training starts on device Quadro RTX 8000, number of samples 109\n",
      "train loss: 0.783853340593983\n",
      "Training starts on device Quadro RTX 8000, number of samples 1\n",
      "test loss: 0.8146340513736402\n",
      "epoch: 11\n",
      "Training starts on device Quadro RTX 8000, number of samples 109\n",
      "train loss: 0.7800563417044422\n",
      "Training starts on device Quadro RTX 8000, number of samples 1\n",
      "test loss: 0.820799917304407\n",
      "epoch: 12\n",
      "Training starts on device Quadro RTX 8000, number of samples 109\n",
      "train loss: 0.7826989046022027\n",
      "Training starts on device Quadro RTX 8000, number of samples 1\n",
      "test loss: 0.7982330509641385\n",
      "epoch: 13\n",
      "Training starts on device Quadro RTX 8000, number of samples 109\n",
      "train loss: 0.7780175152981456\n",
      "Training starts on device Quadro RTX 8000, number of samples 1\n",
      "test loss: 0.8329283001189113\n",
      "epoch: 14\n",
      "Training starts on device Quadro RTX 8000, number of samples 109\n",
      "train loss: 0.7746541537582667\n",
      "Training starts on device Quadro RTX 8000, number of samples 1\n",
      "test loss: 0.81574173059187\n",
      "epoch: 15\n",
      "Training starts on device Quadro RTX 8000, number of samples 109\n",
      "train loss: 0.7728645272614199\n",
      "Training starts on device Quadro RTX 8000, number of samples 1\n",
      "test loss: 0.7962107975098909\n",
      "epoch: 16\n",
      "Training starts on device Quadro RTX 8000, number of samples 109\n",
      "train loss: 0.7721392465847209\n",
      "Training starts on device Quadro RTX 8000, number of samples 1\n",
      "test loss: 0.7922727875279066\n",
      "epoch: 17\n",
      "Training starts on device Quadro RTX 8000, number of samples 109\n",
      "train loss: 0.7719916323169922\n",
      "Training starts on device Quadro RTX 8000, number of samples 1\n",
      "test loss: 0.8156164440903664\n",
      "epoch: 18\n",
      "Training starts on device Quadro RTX 8000, number of samples 109\n",
      "train loss: 0.7728883813042029\n",
      "Training starts on device Quadro RTX 8000, number of samples 1\n",
      "test loss: 0.7915870759105692\n",
      "epoch: 19\n",
      "Training starts on device Quadro RTX 8000, number of samples 109\n",
      "train loss: 0.7706219776991647\n",
      "Training starts on device Quadro RTX 8000, number of samples 1\n",
      "test loss: 0.793363663394145\n",
      "epoch: 20\n",
      "Training starts on device Quadro RTX 8000, number of samples 109\n",
      "train loss: 0.770598596635935\n",
      "Training starts on device Quadro RTX 8000, number of samples 1\n",
      "test loss: 0.7961944184691425\n",
      "epoch: 21\n",
      "Training starts on device Quadro RTX 8000, number of samples 109\n",
      "train loss: 0.7691587753884535\n",
      "Training starts on device Quadro RTX 8000, number of samples 1\n",
      "test loss: 0.7953391828765751\n",
      "epoch: 22\n",
      "Training starts on device Quadro RTX 8000, number of samples 109\n",
      "train loss: 0.7678145999468787\n",
      "Training starts on device Quadro RTX 8000, number of samples 1\n",
      "test loss: 0.7885593575156308\n",
      "epoch: 23\n",
      "Training starts on device Quadro RTX 8000, number of samples 109\n",
      "train loss: 0.7713472542449697\n",
      "Training starts on device Quadro RTX 8000, number of samples 1\n",
      "test loss: 0.819045321892208\n",
      "epoch: 24\n",
      "Training starts on device Quadro RTX 8000, number of samples 109\n",
      "train loss: 0.7663129968227159\n",
      "Training starts on device Quadro RTX 8000, number of samples 1\n",
      "test loss: 0.792163137443333\n",
      "epoch: 25\n",
      "Training starts on device Quadro RTX 8000, number of samples 109\n",
      "train loss: 0.7653191661879709\n",
      "Training starts on device Quadro RTX 8000, number of samples 1\n",
      "test loss: 0.7991296848915924\n",
      "epoch: 26\n",
      "Training starts on device Quadro RTX 8000, number of samples 109\n",
      "train loss: 0.7630878973566723\n",
      "Training starts on device Quadro RTX 8000, number of samples 1\n",
      "test loss: 0.7867040241946588\n",
      "epoch: 27\n",
      "Training starts on device Quadro RTX 8000, number of samples 109\n",
      "train loss: 0.7620956554109627\n",
      "Training starts on device Quadro RTX 8000, number of samples 1\n",
      "test loss: 0.7972175804639035\n",
      "epoch: 28\n",
      "Training starts on device Quadro RTX 8000, number of samples 109\n",
      "train loss: 0.7611932514940551\n",
      "Training starts on device Quadro RTX 8000, number of samples 1\n",
      "test loss: 0.784949700153072\n",
      "epoch: 29\n",
      "Training starts on device Quadro RTX 8000, number of samples 109\n",
      "train loss: 0.7653124335112101\n",
      "Training starts on device Quadro RTX 8000, number of samples 1\n",
      "test loss: 0.81910347972968\n",
      "epoch: 30\n",
      "Training starts on device Quadro RTX 8000, number of samples 109\n",
      "train loss: 0.7630269770629815\n",
      "Training starts on device Quadro RTX 8000, number of samples 1\n",
      "test loss: 0.7966205799195909\n",
      "epoch: 31\n",
      "Training starts on device Quadro RTX 8000, number of samples 109\n",
      "train loss: 0.756648644834346\n",
      "Training starts on device Quadro RTX 8000, number of samples 1\n",
      "test loss: 0.7969086600693888\n",
      "epoch: 32\n",
      "Training starts on device Quadro RTX 8000, number of samples 109\n",
      "train loss: 0.7576236721185338\n",
      "Training starts on device Quadro RTX 8000, number of samples 1\n",
      "test loss: 0.794263390177031\n",
      "epoch: 33\n",
      "Training starts on device Quadro RTX 8000, number of samples 109\n",
      "train loss: 0.7558316966479668\n",
      "Training starts on device Quadro RTX 8000, number of samples 1\n",
      "test loss: 0.7769975653391774\n",
      "epoch: 34\n",
      "Training starts on device Quadro RTX 8000, number of samples 109\n",
      "train loss: 0.7555795971927455\n",
      "Training starts on device Quadro RTX 8000, number of samples 1\n",
      "test loss: 0.7937926260243926\n",
      "epoch: 35\n",
      "Training starts on device Quadro RTX 8000, number of samples 109\n",
      "train loss: 0.7539007436699477\n",
      "Training starts on device Quadro RTX 8000, number of samples 1\n",
      "test loss: 0.79569642963843\n",
      "epoch: 36\n",
      "Training starts on device Quadro RTX 8000, number of samples 109\n",
      "train loss: 0.7529133569913748\n",
      "Training starts on device Quadro RTX 8000, number of samples 1\n",
      "test loss: 0.7808046972253887\n",
      "epoch: 37\n",
      "Training starts on device Quadro RTX 8000, number of samples 109\n",
      "train loss: 0.7484381555578101\n",
      "Training starts on device Quadro RTX 8000, number of samples 1\n",
      "test loss: 0.7735485253315555\n",
      "epoch: 38\n",
      "Training starts on device Quadro RTX 8000, number of samples 109\n",
      "train loss: 0.7460249727109522\n",
      "Training starts on device Quadro RTX 8000, number of samples 1\n",
      "test loss: 0.7796677101010471\n",
      "epoch: 39\n",
      "Training starts on device Quadro RTX 8000, number of samples 109\n",
      "train loss: 0.7476185064812053\n",
      "Training starts on device Quadro RTX 8000, number of samples 1\n",
      "test loss: 0.7770023227999775\n",
      "epoch: 40\n",
      "Training starts on device Quadro RTX 8000, number of samples 109\n",
      "train loss: 0.744004178693532\n",
      "Training starts on device Quadro RTX 8000, number of samples 1\n",
      "test loss: 0.7669351663589067\n",
      "epoch: 41\n",
      "Training starts on device Quadro RTX 8000, number of samples 109\n",
      "train loss: 0.74454276230394\n",
      "Training starts on device Quadro RTX 8000, number of samples 1\n",
      "test loss: 0.7743651317380219\n",
      "epoch: 42\n",
      "Training starts on device Quadro RTX 8000, number of samples 109\n",
      "train loss: 0.747903666037151\n",
      "Training starts on device Quadro RTX 8000, number of samples 1\n",
      "test loss: 0.7693973259029685\n",
      "epoch: 43\n",
      "Training starts on device Quadro RTX 8000, number of samples 109\n",
      "train loss: 0.7453322866920048\n",
      "Training starts on device Quadro RTX 8000, number of samples 1\n",
      "test loss: 0.7716728830831704\n",
      "epoch: 44\n",
      "Training starts on device Quadro RTX 8000, number of samples 109\n",
      "train loss: 0.7478150862488374\n",
      "Training starts on device Quadro RTX 8000, number of samples 1\n",
      "test loss: 0.762318167456668\n",
      "epoch: 45\n",
      "Training starts on device Quadro RTX 8000, number of samples 109\n",
      "train loss: 0.7400766174186596\n",
      "Training starts on device Quadro RTX 8000, number of samples 1\n",
      "test loss: 0.8241428444765286\n",
      "epoch: 46\n",
      "Training starts on device Quadro RTX 8000, number of samples 109\n",
      "train loss: 0.7362622868321009\n",
      "Training starts on device Quadro RTX 8000, number of samples 1\n",
      "test loss: 0.8044304816089736\n",
      "epoch: 47\n",
      "Training starts on device Quadro RTX 8000, number of samples 109\n",
      "train loss: 0.7327254475865469\n",
      "Training starts on device Quadro RTX 8000, number of samples 1\n",
      "test loss: 0.761339638996551\n",
      "epoch: 48\n",
      "Training starts on device Quadro RTX 8000, number of samples 109\n",
      "train loss: 0.7359140752438931\n",
      "Training starts on device Quadro RTX 8000, number of samples 1\n",
      "test loss: 0.8142632649263533\n",
      "epoch: 49\n",
      "Training starts on device Quadro RTX 8000, number of samples 109\n",
      "train loss: 0.7353160330754254\n",
      "Training starts on device Quadro RTX 8000, number of samples 1\n",
      "test loss: 0.7675802857199551\n",
      "epoch: 50\n",
      "Training starts on device Quadro RTX 8000, number of samples 109\n",
      "train loss: 0.7325130491470931\n",
      "Training starts on device Quadro RTX 8000, number of samples 1\n",
      "test loss: 0.7623884848137554\n",
      "epoch: 51\n",
      "Training starts on device Quadro RTX 8000, number of samples 109\n",
      "train loss: 0.7300447686456505\n",
      "Training starts on device Quadro RTX 8000, number of samples 1\n",
      "test loss: 0.7590338457763094\n",
      "epoch: 52\n",
      "Training starts on device Quadro RTX 8000, number of samples 109\n",
      "train loss: 0.7301008974657547\n",
      "Training starts on device Quadro RTX 8000, number of samples 1\n",
      "test loss: 0.7658532440630991\n",
      "epoch: 53\n",
      "Training starts on device Quadro RTX 8000, number of samples 109\n"
     ]
    }
   ],
   "source": [
    "torch.manual_seed(14)  # For reproducibility\n",
    "cnn_submeso = CNN_direct().double()\n",
    "\n",
    "n_epochs = 100  # Number of epocs could be increased\n",
    "optimizer = optim.Adam(cnn_submeso.parameters(), lr=0.1)\n",
    "test_loss = list()\n",
    "train_loss = list()\n",
    "for epoch in range(1, n_epochs + 1):\n",
    "    print(\"epoch:\", epoch)\n",
    "    train_loss.append(train_model_direct(cnn_submeso, criterion, loader_train, optimizer,len(torch_dataset_train)))\n",
    "    test_loss.append(test_model_direct(cnn_submeso, criterion, loader_test, optimizer,len(torch_dataset_test)))\n"
   ]
  },
  {
   "cell_type": "code",
   "execution_count": null,
   "metadata": {},
   "outputs": [],
   "source": [
    "import matplotlib.pyplot as plt\n",
    "\n",
    "plt.plot(train_loss[1:], \"b\", linewidth=3,label=\"training loss\")\n",
    "plt.plot(test_loss[1:], \"lightblue\",linewidth=3, label=\"test loss\")\n",
    "plt.xlabel('Epochs')\n",
    "plt.ylabel('MSE Loss')\n",
    "plt.legend();"
   ]
  },
  {
   "cell_type": "code",
   "execution_count": null,
   "metadata": {},
   "outputs": [],
   "source": [
    "total_params = sum(\n",
    "\tparam.numel() for param in cnn_submeso.parameters()\n",
    ")\n",
    "total_params\n"
   ]
  },
  {
   "cell_type": "code",
   "execution_count": null,
   "metadata": {},
   "outputs": [],
   "source": [
    "b_x, b_y, prediction = plot_model_direct(cnn_submeso, criterion, loader_test, optimizer,len(torch_dataset_test))"
   ]
  },
  {
   "cell_type": "code",
   "execution_count": null,
   "metadata": {},
   "outputs": [],
   "source": [
    "# compare with FK\n",
    "WB_FK = np.load(PATH_NN+'WB_FK.npy')\n",
    "WB_FK_test = WB_FK[test_ind]"
   ]
  },
  {
   "cell_type": "code",
   "execution_count": null,
   "metadata": {},
   "outputs": [],
   "source": [
    "from scipy import stats\n",
    "\n",
    "device = torch.device(\"cuda:0\" if torch.cuda.is_available() else \"cpu\")\n",
    "\n",
    "corr_pred_wb = stats.pearsonr(cnn_submeso(b_x.to(device)).detach().cpu().numpy().flatten(), b_y.flatten())\n",
    "\n",
    "print(\"correlation between prediction and target,  w'b':\",corr_pred_wb )"
   ]
  },
  {
   "cell_type": "code",
   "execution_count": null,
   "metadata": {},
   "outputs": [],
   "source": [
    "# visualize\n",
    "it =0\n",
    "\n",
    "fig, axes = plt.subplots(nrows=1, ncols=3, figsize=(12, 6))\n",
    "fig.tight_layout() # Or equivalently,  \"plt.tight_layout()\"\n",
    "\n",
    "plt.subplot(231)\n",
    "plt.pcolor(cnn_submeso(b_x.to(device)).detach().cpu().numpy()[it,0,:,:],cmap='Blues',vmin=-2,vmax =2)\n",
    "plt.title('wb prediction')\n",
    "plt.colorbar()\n",
    "plt.axis('off')\n",
    "\n",
    "plt.subplot(232)\n",
    "plt.pcolor(b_y[it,0,:,:],cmap='Blues',vmin=-2,vmax =2)\n",
    "plt.title('wb target')\n",
    "plt.colorbar()\n",
    "plt.axis('off')\n",
    "\n",
    "plt.subplot(233)\n",
    "plt.pcolor(WB_FK_test[it],cmap='Blues',vmin=-2,vmax =2)\n",
    "plt.title('wb FK')\n",
    "plt.colorbar()\n",
    "plt.axis('off')\n",
    "\n"
   ]
  },
  {
   "cell_type": "code",
   "execution_count": 74,
   "metadata": {},
   "outputs": [
    {
     "data": {
      "text/plain": [
       "<matplotlib.legend.Legend at 0x1497706a4910>"
      ]
     },
     "execution_count": 74,
     "metadata": {},
     "output_type": "execute_result"
    },
    {
     "data": {
      "image/png": "[encoded data removed]",
      "text/plain": [
       "<Figure size 432x288 with 1 Axes>"
      ]
     },
     "metadata": {
      "needs_background": "light"
     },
     "output_type": "display_data"
    }
   ],
   "source": [
    "_=plt.hist(b_y.detach().cpu().numpy().flatten(),bins=500,alpha=0.5,histtype='stepfilled',label=\"target\")\n",
    "_=plt.hist(cnn_submeso(b_x.to(device)).detach().cpu().numpy().flatten(),bins=500,alpha=0.5,histtype='stepfilled',label=\"prediction\")\n",
    "\n",
    "plt.xlim([-3,3])\n",
    "plt.legend()"
   ]
  },
  {
   "cell_type": "code",
   "execution_count": 95,
   "metadata": {},
   "outputs": [
    {
     "data": {
      "text/plain": [
       "(-3.0, 3.0, 0.0, 8978.55)"
      ]
     },
     "execution_count": 95,
     "metadata": {},
     "output_type": "execute_result"
    },
    {
     "data": {
      "image/png": "[encoded data removed]",
      "text/plain": [
       "<Figure size 288x720 with 3 Axes>"
      ]
     },
     "metadata": {
      "needs_background": "light"
     },
     "output_type": "display_data"
    }
   ],
   "source": [
    "fig, axes = plt.subplots(nrows=3, ncols=1, figsize=(4, 10))\n",
    "fig.tight_layout() # Or equivalently,  \"plt.tight_layout()\"\n",
    "\n",
    "plt.subplot(311)\n",
    "_=plt.hist(b_y.detach().cpu().numpy()[:,0,:,:].flatten(),bins=500,alpha=0.5,histtype='stepfilled',label=\"target\")\n",
    "_=plt.hist(cnn_submeso(b_x.to(device)).detach().cpu().numpy()[:,0,:,:].flatten(),bins=500,alpha=0.5,histtype='stepfilled',label=\"prediction\")\n",
    "plt.xlim([-3,3])\n",
    "plt.legend()\n",
    "plt.axis('off')\n",
    "plt.title('ub')\n",
    "\n",
    "\n",
    "plt.subplot(312)\n",
    "_=plt.hist(b_y.detach().cpu().numpy()[:,1,:,:].flatten(),bins=500,alpha=0.5,histtype='stepfilled',label=\"target\")\n",
    "_=plt.hist(cnn_submeso(b_x.to(device)).detach().cpu().numpy()[:,1,:,:].flatten(),bins=500,alpha=0.5,histtype='stepfilled',label=\"prediction\")\n",
    "plt.xlim([-3,3])\n",
    "plt.legend()\n",
    "plt.axis('off')\n",
    "plt.title('vb')\n",
    "\n",
    "plt.subplot(313)\n",
    "_=plt.hist(b_y.detach().cpu().numpy()[:,2,:,:].flatten(),bins=500,alpha=0.5,histtype='stepfilled',label=\"target\")\n",
    "_=plt.hist(cnn_submeso(b_x.to(device)).detach().cpu().numpy()[:,2,:,:].flatten(),bins=500,alpha=0.5,histtype='stepfilled',label=\"prediction\")\n",
    "plt.xlim([-3,3])\n",
    "plt.legend()\n",
    "plt.title('wb')\n",
    "plt.axis('off')\n"
   ]
  },
  {
   "cell_type": "code",
   "execution_count": 18,
   "metadata": {},
   "outputs": [],
   "source": [
    "target_da = xr.DataArray(b_y.detach().cpu().numpy(), dims=[\"time\", \"axis\", \"i\",\"j\"])\n",
    "prediction_da = xr.DataArray(cnn_submeso(b_x.to(device)).detach().cpu().numpy(), dims=[\"time\", \"axis\", \"i\",\"j\"])"
   ]
  },
  {
   "cell_type": "code",
   "execution_count": 19,
   "metadata": {},
   "outputs": [
    {
     "name": "stderr",
     "output_type": "stream",
     "text": [
      "/home/ab10313/.local/lib/python3.9/site-packages/xrft/xrft.py:47: FutureWarning: Please provide the name of window adhering to scipy.signal.windows. The boolean option will be deprecated in future releases.\n",
      "  warnings.warn(\n",
      "/home/ab10313/.local/lib/python3.9/site-packages/xrft/xrft.py:1025: FutureWarning: Isotropic wavenumber larger than the Nyquist wavenumber may result.\n",
      "  warnings.warn(msg, FutureWarning)\n",
      "/home/ab10313/.local/lib/python3.9/site-packages/xrft/xrft.py:47: FutureWarning: Please provide the name of window adhering to scipy.signal.windows. The boolean option will be deprecated in future releases.\n",
      "  warnings.warn(\n",
      "/home/ab10313/.local/lib/python3.9/site-packages/xrft/xrft.py:1025: FutureWarning: Isotropic wavenumber larger than the Nyquist wavenumber may result.\n",
      "  warnings.warn(msg, FutureWarning)\n",
      "/home/ab10313/.local/lib/python3.9/site-packages/xrft/xrft.py:47: FutureWarning: Please provide the name of window adhering to scipy.signal.windows. The boolean option will be deprecated in future releases.\n",
      "  warnings.warn(\n",
      "/home/ab10313/.local/lib/python3.9/site-packages/xrft/xrft.py:1025: FutureWarning: Isotropic wavenumber larger than the Nyquist wavenumber may result.\n",
      "  warnings.warn(msg, FutureWarning)\n",
      "/home/ab10313/.local/lib/python3.9/site-packages/xrft/xrft.py:47: FutureWarning: Please provide the name of window adhering to scipy.signal.windows. The boolean option will be deprecated in future releases.\n",
      "  warnings.warn(\n",
      "/home/ab10313/.local/lib/python3.9/site-packages/xrft/xrft.py:1025: FutureWarning: Isotropic wavenumber larger than the Nyquist wavenumber may result.\n",
      "  warnings.warn(msg, FutureWarning)\n",
      "/home/ab10313/.local/lib/python3.9/site-packages/xrft/xrft.py:47: FutureWarning: Please provide the name of window adhering to scipy.signal.windows. The boolean option will be deprecated in future releases.\n",
      "  warnings.warn(\n",
      "/home/ab10313/.local/lib/python3.9/site-packages/xrft/xrft.py:1025: FutureWarning: Isotropic wavenumber larger than the Nyquist wavenumber may result.\n",
      "  warnings.warn(msg, FutureWarning)\n",
      "/home/ab10313/.local/lib/python3.9/site-packages/xrft/xrft.py:47: FutureWarning: Please provide the name of window adhering to scipy.signal.windows. The boolean option will be deprecated in future releases.\n",
      "  warnings.warn(\n",
      "/home/ab10313/.local/lib/python3.9/site-packages/xrft/xrft.py:1025: FutureWarning: Isotropic wavenumber larger than the Nyquist wavenumber may result.\n",
      "  warnings.warn(msg, FutureWarning)\n"
     ]
    }
   ],
   "source": [
    "import xrft\n",
    "\n",
    "# target vs prediction spectra\n",
    "UsBs_target_spectra = xrft.isotropic_power_spectrum(target_da.isel(axis=0),dim=['i','j'], \n",
    "                                           detrend='linear', window=True).compute().mean('time')\n",
    "\n",
    "UsBs_prediction_spectra = xrft.isotropic_power_spectrum(prediction_da.isel(axis=0),dim=['i','j'], \n",
    "                                           detrend='linear', window=True).compute().mean('time')\n",
    "\n",
    "\n",
    "VsBs_target_spectra = xrft.isotropic_power_spectrum(target_da.isel(axis=1),dim=['i','j'], \n",
    "                                           detrend='linear', window=True).compute().mean('time')\n",
    "\n",
    "VsBs_prediction_spectra = xrft.isotropic_power_spectrum(prediction_da.isel(axis=1),dim=['i','j'], \n",
    "                                           detrend='linear', window=True).compute().mean('time')\n",
    "\n",
    "\n",
    "WsBs_target_spectra = xrft.isotropic_power_spectrum(target_da.isel(axis=2),dim=['i','j'], \n",
    "                                           detrend='linear', window=True).compute().mean('time')\n",
    "\n",
    "WsBs_prediction_spectra = xrft.isotropic_power_spectrum(prediction_da.isel(axis=2),dim=['i','j'], \n",
    "                                           detrend='linear', window=True).compute().mean('time')\n"
   ]
  },
  {
   "cell_type": "code",
   "execution_count": 104,
   "metadata": {},
   "outputs": [
    {
     "data": {
      "text/plain": [
       "(0.001, 3)"
      ]
     },
     "execution_count": 104,
     "metadata": {},
     "output_type": "execute_result"
    },
    {
     "data": {
      "image/png": "[encoded data removed]",
      "text/plain": [
       "<Figure size 288x720 with 3 Axes>"
      ]
     },
     "metadata": {
      "needs_background": "light"
     },
     "output_type": "display_data"
    }
   ],
   "source": [
    "fig, axes = plt.subplots(nrows=1, ncols=3, figsize=(4, 10))\n",
    "fig.tight_layout() # Or equivalently,  \"plt.tight_layout()\"\n",
    "\n",
    "plt.subplot(311)\n",
    "#plt.loglog(UsBs_target_spectra.freq_r*2*np.pi, 5e-3*UsBs_target_spectra.freq_r**-2, '--',linewidth=1.5,color='black', label='k^{-2}')\n",
    "#plt.loglog(UsBs_target_spectra.freq_r*2*np.pi, 2e-3*UsBs_target_spectra.freq_r**-3, '--',linewidth=1.5,color='gray', label='k^{-3}')\n",
    "plt.loglog(UsBs_target_spectra.freq_r*2*np.pi, UsBs_target_spectra/UsBs_target_spectra[0],linewidth=3, label='target')\n",
    "plt.loglog(UsBs_prediction_spectra.freq_r*2*np.pi, UsBs_prediction_spectra/UsBs_prediction_spectra[0],linewidth=3, label='prediction')\n",
    "plt.legend()\n",
    "#plt.xlabel('$k_r$')\n",
    "plt.ylabel('Normalized isotropic spectra')\n",
    "plt.title('UsBs')\n",
    "plt.ylim([1e-3,3])\n",
    "\n",
    "plt.subplot(312)\n",
    "#plt.loglog(VsBs_target_spectra.freq_r*2*np.pi, 5e-3*VsBs_target_spectra.freq_r**-2, '--',linewidth=1.5,color='black', label='k^{-2}')\n",
    "#plt.loglog(VsBs_target_spectra.freq_r*2*np.pi, 2e-3*VsBs_target_spectra.freq_r**-3, '--',linewidth=1.5,color='gray', label='k^{-3}')\n",
    "plt.loglog(VsBs_target_spectra.freq_r*2*np.pi, VsBs_target_spectra/VsBs_target_spectra[0],linewidth=3, label='target')\n",
    "plt.loglog(VsBs_prediction_spectra.freq_r*2*np.pi, VsBs_prediction_spectra/VsBs_prediction_spectra[0],linewidth=3, label='prediction')\n",
    "plt.legend()\n",
    "#plt.xlabel('$k_r$')\n",
    "#plt.ylabel('Normalized isotropic spectra')\n",
    "plt.title('VsBs')\n",
    "plt.ylim([1e-3,3])\n",
    "\n",
    "\n",
    "plt.subplot(313)\n",
    "#plt.loglog(WsBs_target_spectra.freq_r*2*np.pi, 5e-3*WsBs_target_spectra.freq_r**-2, '--',linewidth=1.5,color='black', label='k^{-2}')\n",
    "#plt.loglog(WsBs_target_spectra.freq_r*2*np.pi, 2e-3*WsBs_target_spectra.freq_r**-3, '--',linewidth=1.5,color='gray', label='k^{-3}')\n",
    "plt.loglog(WsBs_target_spectra.freq_r*2*np.pi, WsBs_target_spectra/WsBs_target_spectra[0],linewidth=3, label='target')\n",
    "plt.loglog(WsBs_target_spectra.freq_r*2*np.pi, WsBs_prediction_spectra/WsBs_prediction_spectra[0],linewidth=3, label='prediction')\n",
    "plt.legend()\n",
    "plt.xlabel('$k_r$')\n",
    "#plt.ylabel('Normalized isotropic spectra')\n",
    "plt.title('WsBs')\n",
    "plt.ylim([1e-3,3])"
   ]
  },
  {
   "cell_type": "code",
   "execution_count": null,
   "metadata": {},
   "outputs": [],
   "source": []
  }
 ],
 "metadata": {
  "kernelspec": {
   "display_name": "my_env",
   "language": "python",
   "name": "my_env"
  },
  "language_info": {
   "codemirror_mode": {
    "name": "ipython",
    "version": 3
   },
   "file_extension": ".py",
   "mimetype": "text/x-python",
   "name": "python",
   "nbconvert_exporter": "python",
   "pygments_lexer": "ipython3",
   "version": "3.9.5"
  }
 },
 "nbformat": 4,
 "nbformat_minor": 4
}
