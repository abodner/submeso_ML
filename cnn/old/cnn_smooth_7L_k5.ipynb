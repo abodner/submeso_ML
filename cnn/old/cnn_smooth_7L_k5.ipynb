{
 "cells": [
  {
   "cell_type": "code",
   "execution_count": 1,
   "metadata": {},
   "outputs": [],
   "source": [
    "import torch\n",
    "import torch.nn.functional as F\n",
    "import torch.utils.data as Data\n",
    "import torchvision\n",
    "from torch import nn, optim\n",
    "from torch.autograd import Variable\n",
    "import numpy as np\n",
    "import os\n",
    "import glob\n",
    "import xarray as xr\n",
    "from sklearn import preprocessing\n",
    "import netCDF4 as nc\n",
    "import matplotlib.pyplot as plt\n",
    "\n",
    "\n",
    "np.random.seed(14)  # For reproducibility\n",
    "torch.manual_seed(14)  # For reproducibility\n",
    "\n",
    "BASE = '/scratch/ab10313/pleiades/'\n",
    "PATH_NN = BASE+'NN_data_smooth/'"
   ]
  },
  {
   "cell_type": "code",
   "execution_count": 2,
   "metadata": {},
   "outputs": [
    {
     "data": {
      "text/plain": [
       "device(type='cuda', index=0)"
      ]
     },
     "execution_count": 2,
     "metadata": {},
     "output_type": "execute_result"
    }
   ],
   "source": [
    "device = torch.device(\"cuda:0\" if torch.cuda.is_available() else \"cpu\")\n",
    "device"
   ]
  },
  {
   "cell_type": "markdown",
   "metadata": {},
   "source": [
    "# Dataloader"
   ]
  },
  {
   "cell_type": "markdown",
   "metadata": {},
   "source": [
    "### Create input and output channels"
   ]
  },
  {
   "cell_type": "code",
   "execution_count": 3,
   "metadata": {},
   "outputs": [
    {
     "name": "stdout",
     "output_type": "stream",
     "text": [
      "X input shape:\n",
      "(8450, 8, 40, 40)\n",
      "\n",
      "Y output shape:\n",
      "(8450, 1, 40, 40)\n",
      "\n"
     ]
    },
    {
     "data": {
      "text/plain": [
       "False"
      ]
     },
     "execution_count": 3,
     "metadata": {},
     "output_type": "execute_result"
    }
   ],
   "source": [
    "# load preprocessed data into input and output channels\n",
    "\n",
    "\n",
    "\n",
    "# X INPUT\n",
    "grad_B = np.load(PATH_NN+'grad_B.npy')\n",
    "HML = np.load(PATH_NN+'HML.npy')\n",
    "TAU = np.load(PATH_NN+'TAU.npy')\n",
    "U = np.load(PATH_NN+'U.npy')\n",
    "V = np.load(PATH_NN+'V.npy')\n",
    "Q = np.load(PATH_NN+'Q.npy')\n",
    "HBL = np.load(PATH_NN+'HBL.npy')\n",
    "FCOR = np.load(PATH_NN+'FCOR.npy')\n",
    "\n",
    "\n",
    "X_input = np.stack([FCOR, grad_B, HML, TAU, U, V, Q, HBL],axis=1)\n",
    "print('X input shape:')\n",
    "print( X_input.shape)\n",
    "print('')\n",
    "\n",
    "\n",
    "# Y OUTPUT\n",
    "WB_sg = np.load(PATH_NN+'WB_sg.npy')\n",
    "WB_sg_mean = np.load(PATH_NN+'WB_sg_mean.npy')\n",
    "WB_sg_std = np.load(PATH_NN+'WB_sg_std.npy')\n",
    "              \n",
    "Y_output = np.tile(WB_sg,(1,1,1,1)).reshape(WB_sg.shape[0],1,WB_sg.shape[1],WB_sg.shape[2]) \n",
    "print('Y output shape:')\n",
    "print(Y_output.shape)\n",
    "print('')\n",
    "\n",
    "np.isnan(X_input).any()\n",
    "np.isnan(Y_output).any()"
   ]
  },
  {
   "cell_type": "markdown",
   "metadata": {},
   "source": [
    "### randomly generate train, test and validation sets"
   ]
  },
  {
   "cell_type": "code",
   "execution_count": 4,
   "metadata": {},
   "outputs": [
    {
     "name": "stdout",
     "output_type": "stream",
     "text": [
      "Dataset: train 90.0%, test 10.0%\n",
      "no overlapping indecies\n"
     ]
    }
   ],
   "source": [
    "# TRAIN AND TEST ONLY\n",
    "# randomnly generate train, test and validation time indecies \n",
    "import random\n",
    "time_ind = X_input.shape[0]\n",
    "rand_ind = np.arange(time_ind)\n",
    "rand_seed = 14\n",
    "random.Random(rand_seed).shuffle(rand_ind)\n",
    "train_percent = 0.9\n",
    "test_percent = 0.1 \n",
    "print(f\"Dataset: train {np.round(train_percent*100)}%, test {np.round(test_percent*100)}%\")\n",
    "train_ind, test_ind =  rand_ind[:round(train_percent*time_ind)], rand_ind[round((train_percent)*time_ind):]                                                                        \n",
    "\n",
    "# check no overlapping indecies\n",
    "if np.intersect1d(train_ind, test_ind).any():\n",
    "    print('overlapping indecies')\n",
    "else:\n",
    "    print ('no overlapping indecies')\n",
    "    "
   ]
  },
  {
   "cell_type": "markdown",
   "metadata": {},
   "source": [
    "### defined train, test and val dataloaders"
   ]
  },
  {
   "cell_type": "code",
   "execution_count": 5,
   "metadata": {},
   "outputs": [
    {
     "name": "stdout",
     "output_type": "stream",
     "text": [
      "TRAIN\n",
      "X input shape:\n",
      "(7605, 8, 40, 40)\n",
      "Y output shape:\n",
      "(7605, 1, 40, 40)\n",
      "\n",
      "TEST\n",
      "X input shape:\n",
      "(845, 8, 40, 40)\n",
      "Y output shape:\n",
      "(845, 1, 40, 40)\n",
      "\n"
     ]
    }
   ],
   "source": [
    "# Define X,Y pairs (state, subgrid fluxes) for local network.local_torch_dataset = Data.TensorDataset(\n",
    "BATCH_SIZE = 64  # Number of sample in each batch\n",
    "\n",
    "\n",
    "###### training dataset #######\n",
    "torch_dataset_train = Data.TensorDataset(\n",
    "    torch.from_numpy(X_input[train_ind]).double(),\n",
    "    torch.from_numpy(Y_output[train_ind]).double(),\n",
    ")\n",
    "\n",
    "loader_train = Data.DataLoader(\n",
    "    dataset=torch_dataset_train, batch_size=BATCH_SIZE, shuffle=True\n",
    ")\n",
    "print('TRAIN')\n",
    "print('X input shape:')\n",
    "print( X_input[train_ind].shape)\n",
    "print('Y output shape:')\n",
    "print( Y_output[train_ind].shape)\n",
    "print('')\n",
    "\n",
    "###### test dataset #######\n",
    "torch_dataset_test = Data.TensorDataset(\n",
    "    torch.from_numpy(X_input[test_ind]).double(),\n",
    "    torch.from_numpy(Y_output[test_ind]).double(),    \n",
    ")\n",
    "\n",
    "BATCH_SIZE_TEST = len(torch_dataset_test)\n",
    "\n",
    "loader_test = Data.DataLoader(\n",
    "    dataset=torch_dataset_test, batch_size=BATCH_SIZE_TEST, shuffle=False\n",
    ")\n",
    "\n",
    "print('TEST')\n",
    "print('X input shape:')\n",
    "print( X_input[test_ind].shape)\n",
    "print('Y output shape:')\n",
    "print( Y_output[test_ind].shape)\n",
    "print('')\n",
    "\n"
   ]
  },
  {
   "cell_type": "markdown",
   "metadata": {},
   "source": [
    "## CNN - direct fluxes 3 output channels"
   ]
  },
  {
   "cell_type": "code",
   "execution_count": 6,
   "metadata": {},
   "outputs": [],
   "source": [
    "# define network structure in pytorch\n",
    "import torch.nn.functional as FF\n",
    "\n",
    "class CNN_direct(nn.Module):\n",
    "    def __init__(self):\n",
    "        super().__init__()\n",
    "        self.conv1 = nn.Conv2d(8, 128, 5, padding='same', padding_mode='reflect')  # 7 inputs, 128 neurons for first hidden layer\n",
    "        self.conv1_bn=nn.BatchNorm2d(128)\n",
    "        self.conv2 = nn.Conv2d(128, 64, 5, padding='same', padding_mode='reflect')  # 128 inputs, 64 neurons for first hidden layer\n",
    "        self.conv2_bn=nn.BatchNorm2d(64)\n",
    "        self.conv3 = nn.Conv2d(64, 48, 5, padding='same', padding_mode='reflect')  # 64 inputs, 32 neurons for first hidden layer\n",
    "        self.conv3_bn=nn.BatchNorm2d(48)  \n",
    "        self.conv4 = nn.Conv2d(48, 32, 5, padding='same', padding_mode='reflect')  # 32 inputs, 16 neurons for first hidden layer\n",
    "        self.conv4_bn=nn.BatchNorm2d(32) \n",
    "        self.conv5 = nn.Conv2d(32, 16, 5, padding='same', padding_mode='reflect')  # 64 inputs, 32 neurons for first hidden layer\n",
    "        self.conv5_bn=nn.BatchNorm2d(16)  \n",
    "        self.conv6 = nn.Conv2d(16, 8, 5, padding='same', padding_mode='reflect')  # 32 inputs, 16 neurons for first hidden layer\n",
    "        self.conv6_bn=nn.BatchNorm2d(8) \n",
    "        self.conv7 = nn.Conv2d(8, 1, 5, padding='same', padding_mode='reflect')  # 16 inputs, 1 neurons for first hidden layer\n",
    "        self.conv7_bn=nn.BatchNorm2d(1) \n",
    "\n",
    "    def forward(self, x):\n",
    "        x = self.conv1(x)\n",
    "        x = F.relu(self.conv1_bn(x))\n",
    "        x = self.conv2(x)\n",
    "        x = F.relu(self.conv2_bn(x))\n",
    "        x = self.conv3(x)\n",
    "        x = F.relu(self.conv3_bn(x))\n",
    "        x = self.conv4(x)\n",
    "        x = F.relu(self.conv4_bn(x))\n",
    "        x = self.conv5(x)\n",
    "        x = F.relu(self.conv5_bn(x))\n",
    "        x = self.conv6(x)\n",
    "        x = F.relu(self.conv6_bn(x))\n",
    "        x = self.conv7(x)\n",
    "        x = self.conv7_bn(x)\n",
    "        return x\n",
    " \n",
    "    \n"
   ]
  },
  {
   "cell_type": "markdown",
   "metadata": {},
   "source": [
    "## Train and test model: direct fluxes"
   ]
  },
  {
   "cell_type": "code",
   "execution_count": 39,
   "metadata": {},
   "outputs": [],
   "source": [
    "# train network \n",
    "def train_model_direct(net, criterion, trainloader, optimizer, len_train_dataset, text=\"train\"):\n",
    "    device = torch.device(\"cuda:0\" if torch.cuda.is_available() else \"cpu\")\n",
    "    net.to(device)\n",
    "    device_name = torch.cuda.get_device_name(0) if torch.cuda.is_available() else \"cpu\"\n",
    "    print(f\"Training starts on device {device_name}, number of samples {len(trainloader)}\")\n",
    "    \n",
    "    net.train()\n",
    "    train_loss = 0\n",
    "    for step, (batch_x, batch_y) in enumerate(trainloader):  # for each training step\n",
    "        b_x = Variable(batch_x)  # Inputs\n",
    "        b_y = Variable(batch_y)  # outputs\n",
    "        prediction = net(b_x.to(device))\n",
    "        loss = criterion(prediction, b_y.to(device))  # Calculating loss\n",
    "        optimizer.zero_grad()  # clear gradients for next train\n",
    "        loss.backward()  # backpropagation, compute gradients\n",
    "        optimizer.step()  # apply gradients to update weights\n",
    "        nb = b_y.shape[0]\n",
    "        train_loss = train_loss + nb * loss.detach().cpu().numpy()  # Keep track of the loss\n",
    "    train_loss /= len_train_dataset  # dividing by the number of batches\n",
    "    print(text + \" loss:\", train_loss)\n",
    "    return train_loss\n",
    "\n",
    "\n",
    "def test_model_direct(net, criterion, testloader, optimizer,len_test_dataset, text=\"test\"):\n",
    "    device = torch.device(\"cuda:0\" if torch.cuda.is_available() else \"cpu\")\n",
    "    net.to(device)\n",
    "    device_name = torch.cuda.get_device_name(0) if torch.cuda.is_available() else \"cpu\"\n",
    "    print(f\"Training starts on device {device_name}, number of samples {len(testloader)}\")\n",
    "    \n",
    "    net.eval()  # Evaluation mode (important when having dropout layers)\n",
    "    test_loss = 0\n",
    "    with torch.no_grad():\n",
    "        for step, (batch_x, batch_y) in enumerate(\n",
    "            testloader\n",
    "        ):  # for each training step\n",
    "            b_x = Variable(batch_x)  # Inputs\n",
    "            b_y = Variable(batch_y)  # outputs\n",
    "            prediction = net(b_x.to(device))\n",
    "            loss = criterion(prediction, b_y.to(device))  # Calculating loss\n",
    "            nb = b_y.shape[0]\n",
    "            test_loss = test_loss + nb * loss.detach().cpu().numpy()  # Keep track of the loss\n",
    "        test_loss /= len_test_dataset  # dividing by the number of batches\n",
    "        #         print(len(trainloader))\n",
    "        print(text + \" loss:\", test_loss)\n",
    "    return test_loss\n",
    "\n",
    "\n",
    "\n",
    "def plot_model_direct(net, criterion, testloader, len_test_dataset, text=\"test\"):\n",
    "    device = torch.device(\"cuda:0\" if torch.cuda.is_available() else \"cpu\")\n",
    "    net.to(device)\n",
    "    device_name = torch.cuda.get_device_name(0) if torch.cuda.is_available() else \"cpu\"\n",
    "    print(f\"Training starts on device {device_name}, number of samples {len(testloader)}\")\n",
    "    \n",
    "    net.eval()  # Evaluation mode (important when having dropout layers)\n",
    "    test_loss = 0\n",
    "    #with torch.no_grad():\n",
    "    for step, (batch_x, batch_y) in enumerate(\n",
    "        testloader\n",
    "    ):  # for each training step\n",
    "        b_x = Variable(batch_x, requires_grad=True)  # Inputs\n",
    "        b_y = Variable(batch_y)  # outputs\n",
    "        prediction = net(b_x.to(device))\n",
    "        loss = criterion(prediction, b_y.to(device))  # Calculating loss\n",
    "        nb = b_y.shape[0]\n",
    "        test_loss = test_loss + nb * loss.detach().cpu().numpy()  # Keep track of the loss\n",
    "    test_loss /= len_test_dataset  # dividing by the number of batches\n",
    "    #         print(len(trainloader))\n",
    "    print(text + \" loss:\", test_loss)\n",
    "    return b_x, b_y, prediction\n",
    "\n",
    "\n",
    "criterion = torch.nn.MSELoss()  # MSE loss function\n",
    "\n",
    "\n"
   ]
  },
  {
   "cell_type": "markdown",
   "metadata": {},
   "source": [
    "## train CNN!"
   ]
  },
  {
   "cell_type": "code",
   "execution_count": 8,
   "metadata": {
    "collapsed": true,
    "jupyter": {
     "outputs_hidden": true
    }
   },
   "outputs": [
    {
     "name": "stdout",
     "output_type": "stream",
     "text": [
      "epoch: 1\n",
      "Training starts on device Quadro RTX 8000, number of samples 119\n",
      "train loss: 0.8251161618481393\n",
      "Training starts on device Quadro RTX 8000, number of samples 1\n",
      "test loss: 0.7787913606411213\n",
      "epoch: 2\n",
      "Training starts on device Quadro RTX 8000, number of samples 119\n",
      "train loss: 0.7634972137960055\n",
      "Training starts on device Quadro RTX 8000, number of samples 1\n",
      "test loss: 0.7766909568639883\n",
      "epoch: 3\n",
      "Training starts on device Quadro RTX 8000, number of samples 119\n",
      "train loss: 0.7257400363567302\n",
      "Training starts on device Quadro RTX 8000, number of samples 1\n",
      "test loss: 0.6926198366593557\n",
      "epoch: 4\n",
      "Training starts on device Quadro RTX 8000, number of samples 119\n",
      "train loss: 0.670388575319088\n",
      "Training starts on device Quadro RTX 8000, number of samples 1\n",
      "test loss: 0.6380634896926571\n",
      "epoch: 5\n",
      "Training starts on device Quadro RTX 8000, number of samples 119\n",
      "train loss: 0.63130848290173\n",
      "Training starts on device Quadro RTX 8000, number of samples 1\n",
      "test loss: 0.6417838919485511\n",
      "epoch: 6\n",
      "Training starts on device Quadro RTX 8000, number of samples 119\n",
      "train loss: 0.6036277855877358\n",
      "Training starts on device Quadro RTX 8000, number of samples 1\n",
      "test loss: 0.6098512885208585\n",
      "epoch: 7\n",
      "Training starts on device Quadro RTX 8000, number of samples 119\n",
      "train loss: 0.5707812447895001\n",
      "Training starts on device Quadro RTX 8000, number of samples 1\n",
      "test loss: 0.568543678764828\n",
      "epoch: 8\n",
      "Training starts on device Quadro RTX 8000, number of samples 119\n",
      "train loss: 0.5531498851640956\n",
      "Training starts on device Quadro RTX 8000, number of samples 1\n",
      "test loss: 0.5571044325459462\n",
      "epoch: 9\n",
      "Training starts on device Quadro RTX 8000, number of samples 119\n",
      "train loss: 0.5361136897055865\n",
      "Training starts on device Quadro RTX 8000, number of samples 1\n",
      "test loss: 0.5374237355594199\n",
      "epoch: 10\n",
      "Training starts on device Quadro RTX 8000, number of samples 119\n",
      "train loss: 0.5219794793925776\n",
      "Training starts on device Quadro RTX 8000, number of samples 1\n",
      "test loss: 0.5480904334889328\n",
      "epoch: 11\n",
      "Training starts on device Quadro RTX 8000, number of samples 119\n",
      "train loss: 0.5149183316568814\n",
      "Training starts on device Quadro RTX 8000, number of samples 1\n",
      "test loss: 0.536184584217443\n",
      "epoch: 12\n",
      "Training starts on device Quadro RTX 8000, number of samples 119\n",
      "train loss: 0.4981534577949437\n",
      "Training starts on device Quadro RTX 8000, number of samples 1\n",
      "test loss: 0.4951256988629111\n",
      "epoch: 13\n",
      "Training starts on device Quadro RTX 8000, number of samples 119\n",
      "train loss: 0.491153710281992\n",
      "Training starts on device Quadro RTX 8000, number of samples 1\n",
      "test loss: 0.4881699076329154\n",
      "epoch: 14\n",
      "Training starts on device Quadro RTX 8000, number of samples 119\n",
      "train loss: 0.4786571745786231\n",
      "Training starts on device Quadro RTX 8000, number of samples 1\n",
      "test loss: 0.5041792494263618\n",
      "epoch: 15\n",
      "Training starts on device Quadro RTX 8000, number of samples 119\n",
      "train loss: 0.4774342703144464\n",
      "Training starts on device Quadro RTX 8000, number of samples 1\n",
      "test loss: 0.562321562731813\n",
      "epoch: 16\n",
      "Training starts on device Quadro RTX 8000, number of samples 119\n",
      "train loss: 0.4655259200786947\n",
      "Training starts on device Quadro RTX 8000, number of samples 1\n",
      "test loss: 0.4542510405012696\n",
      "epoch: 17\n",
      "Training starts on device Quadro RTX 8000, number of samples 119\n",
      "train loss: 0.4559730340878144\n",
      "Training starts on device Quadro RTX 8000, number of samples 1\n",
      "test loss: 0.47452072209505686\n",
      "epoch: 18\n",
      "Training starts on device Quadro RTX 8000, number of samples 119\n",
      "train loss: 0.4517670750882097\n",
      "Training starts on device Quadro RTX 8000, number of samples 1\n",
      "test loss: 0.48661367500920266\n",
      "epoch: 19\n",
      "Training starts on device Quadro RTX 8000, number of samples 119\n",
      "train loss: 0.44339484520151107\n",
      "Training starts on device Quadro RTX 8000, number of samples 1\n",
      "test loss: 0.6399205128161336\n",
      "epoch: 20\n",
      "Training starts on device Quadro RTX 8000, number of samples 119\n",
      "train loss: 0.4406721125745863\n",
      "Training starts on device Quadro RTX 8000, number of samples 1\n",
      "test loss: 0.5249232251585287\n",
      "epoch: 21\n",
      "Training starts on device Quadro RTX 8000, number of samples 119\n",
      "train loss: 0.43542171339288954\n",
      "Training starts on device Quadro RTX 8000, number of samples 1\n",
      "test loss: 0.4391109534907001\n",
      "epoch: 22\n",
      "Training starts on device Quadro RTX 8000, number of samples 119\n",
      "train loss: 0.42823590354706237\n",
      "Training starts on device Quadro RTX 8000, number of samples 1\n",
      "test loss: 0.6001014890229612\n",
      "epoch: 23\n",
      "Training starts on device Quadro RTX 8000, number of samples 119\n",
      "train loss: 0.4247058726913481\n",
      "Training starts on device Quadro RTX 8000, number of samples 1\n",
      "test loss: 0.4183010185462109\n",
      "epoch: 24\n",
      "Training starts on device Quadro RTX 8000, number of samples 119\n",
      "train loss: 0.41527533204442924\n",
      "Training starts on device Quadro RTX 8000, number of samples 1\n",
      "test loss: 0.425959258540221\n",
      "epoch: 25\n",
      "Training starts on device Quadro RTX 8000, number of samples 119\n",
      "train loss: 0.4116324306102194\n",
      "Training starts on device Quadro RTX 8000, number of samples 1\n",
      "test loss: 0.4072764562824513\n",
      "epoch: 26\n",
      "Training starts on device Quadro RTX 8000, number of samples 119\n",
      "train loss: 0.4089722701308463\n",
      "Training starts on device Quadro RTX 8000, number of samples 1\n",
      "test loss: 0.4404578443272717\n",
      "epoch: 27\n",
      "Training starts on device Quadro RTX 8000, number of samples 119\n",
      "train loss: 0.4038255762430415\n",
      "Training starts on device Quadro RTX 8000, number of samples 1\n",
      "test loss: 0.4303933522378077\n",
      "epoch: 28\n",
      "Training starts on device Quadro RTX 8000, number of samples 119\n",
      "train loss: 0.4001671657772698\n",
      "Training starts on device Quadro RTX 8000, number of samples 1\n",
      "test loss: 0.49443710036333843\n",
      "epoch: 29\n",
      "Training starts on device Quadro RTX 8000, number of samples 119\n",
      "train loss: 0.40044686375635946\n",
      "Training starts on device Quadro RTX 8000, number of samples 1\n",
      "test loss: 0.3932214596155897\n",
      "epoch: 30\n",
      "Training starts on device Quadro RTX 8000, number of samples 119\n",
      "train loss: 0.3865074934108479\n",
      "Training starts on device Quadro RTX 8000, number of samples 1\n",
      "test loss: 0.455714997326352\n",
      "epoch: 31\n",
      "Training starts on device Quadro RTX 8000, number of samples 119\n",
      "train loss: 0.38835634931083235\n",
      "Training starts on device Quadro RTX 8000, number of samples 1\n",
      "test loss: 0.3927635953818624\n",
      "epoch: 32\n",
      "Training starts on device Quadro RTX 8000, number of samples 119\n",
      "train loss: 0.38225655535413267\n",
      "Training starts on device Quadro RTX 8000, number of samples 1\n",
      "test loss: 0.37604994994821866\n",
      "epoch: 33\n",
      "Training starts on device Quadro RTX 8000, number of samples 119\n",
      "train loss: 0.3784828516395903\n",
      "Training starts on device Quadro RTX 8000, number of samples 1\n",
      "test loss: 0.39023255108356286\n",
      "epoch: 34\n",
      "Training starts on device Quadro RTX 8000, number of samples 119\n",
      "train loss: 0.37818573269699807\n",
      "Training starts on device Quadro RTX 8000, number of samples 1\n",
      "test loss: 0.44481174680871816\n",
      "epoch: 35\n",
      "Training starts on device Quadro RTX 8000, number of samples 119\n",
      "train loss: 0.37316295310880043\n",
      "Training starts on device Quadro RTX 8000, number of samples 1\n",
      "test loss: 0.3767460966035816\n",
      "epoch: 36\n",
      "Training starts on device Quadro RTX 8000, number of samples 119\n",
      "train loss: 0.37022576390619605\n",
      "Training starts on device Quadro RTX 8000, number of samples 1\n",
      "test loss: 0.3742071007922622\n",
      "epoch: 37\n",
      "Training starts on device Quadro RTX 8000, number of samples 119\n",
      "train loss: 0.36466681558837377\n",
      "Training starts on device Quadro RTX 8000, number of samples 1\n",
      "test loss: 0.3810472068962173\n",
      "epoch: 38\n",
      "Training starts on device Quadro RTX 8000, number of samples 119\n",
      "train loss: 0.3634304004423947\n",
      "Training starts on device Quadro RTX 8000, number of samples 1\n",
      "test loss: 0.4724549252162274\n",
      "epoch: 39\n",
      "Training starts on device Quadro RTX 8000, number of samples 119\n",
      "train loss: 0.3570278638096097\n",
      "Training starts on device Quadro RTX 8000, number of samples 1\n",
      "test loss: 0.3888404097473718\n",
      "epoch: 40\n",
      "Training starts on device Quadro RTX 8000, number of samples 119\n",
      "train loss: 0.3596972277196042\n",
      "Training starts on device Quadro RTX 8000, number of samples 1\n",
      "test loss: 0.3706751616974725\n",
      "epoch: 41\n",
      "Training starts on device Quadro RTX 8000, number of samples 119\n",
      "train loss: 0.35304977471543686\n",
      "Training starts on device Quadro RTX 8000, number of samples 1\n",
      "test loss: 0.3535766570665057\n",
      "epoch: 42\n",
      "Training starts on device Quadro RTX 8000, number of samples 119\n",
      "train loss: 0.3541547557097155\n",
      "Training starts on device Quadro RTX 8000, number of samples 1\n",
      "test loss: 0.40082884950908554\n",
      "epoch: 43\n",
      "Training starts on device Quadro RTX 8000, number of samples 119\n",
      "train loss: 0.3448208349684946\n",
      "Training starts on device Quadro RTX 8000, number of samples 1\n",
      "test loss: 0.34223630943249406\n",
      "epoch: 44\n",
      "Training starts on device Quadro RTX 8000, number of samples 119\n",
      "train loss: 0.34332650562188866\n",
      "Training starts on device Quadro RTX 8000, number of samples 1\n",
      "test loss: 0.375034333047141\n",
      "epoch: 45\n",
      "Training starts on device Quadro RTX 8000, number of samples 119\n",
      "train loss: 0.3384564273405395\n",
      "Training starts on device Quadro RTX 8000, number of samples 1\n",
      "test loss: 0.3734103386206564\n",
      "epoch: 46\n",
      "Training starts on device Quadro RTX 8000, number of samples 119\n",
      "train loss: 0.3404993129787843\n",
      "Training starts on device Quadro RTX 8000, number of samples 1\n",
      "test loss: 0.35480545937445007\n",
      "epoch: 47\n",
      "Training starts on device Quadro RTX 8000, number of samples 119\n",
      "train loss: 0.3391074343243776\n",
      "Training starts on device Quadro RTX 8000, number of samples 1\n",
      "test loss: 0.38597327868559006\n",
      "epoch: 48\n",
      "Training starts on device Quadro RTX 8000, number of samples 119\n",
      "train loss: 0.33900286739044644\n",
      "Training starts on device Quadro RTX 8000, number of samples 1\n",
      "test loss: 0.34734257689153875\n",
      "epoch: 49\n",
      "Training starts on device Quadro RTX 8000, number of samples 119\n",
      "train loss: 0.3321307989088297\n",
      "Training starts on device Quadro RTX 8000, number of samples 1\n",
      "test loss: 0.3388993342080486\n",
      "epoch: 50\n",
      "Training starts on device Quadro RTX 8000, number of samples 119\n",
      "train loss: 0.3274141431389935\n",
      "Training starts on device Quadro RTX 8000, number of samples 1\n",
      "test loss: 0.3439126575616599\n",
      "epoch: 51\n",
      "Training starts on device Quadro RTX 8000, number of samples 119\n",
      "train loss: 0.3271480226714213\n",
      "Training starts on device Quadro RTX 8000, number of samples 1\n",
      "test loss: 0.44533341613681154\n",
      "epoch: 52\n",
      "Training starts on device Quadro RTX 8000, number of samples 119\n",
      "train loss: 0.32563496027696187\n",
      "Training starts on device Quadro RTX 8000, number of samples 1\n",
      "test loss: 0.3684492493785335\n",
      "epoch: 53\n",
      "Training starts on device Quadro RTX 8000, number of samples 119\n",
      "train loss: 0.32637490899746685\n",
      "Training starts on device Quadro RTX 8000, number of samples 1\n",
      "test loss: 0.3658077815472436\n",
      "epoch: 54\n",
      "Training starts on device Quadro RTX 8000, number of samples 119\n",
      "train loss: 0.3240661039512292\n",
      "Training starts on device Quadro RTX 8000, number of samples 1\n",
      "test loss: 0.3311144371276666\n",
      "epoch: 55\n",
      "Training starts on device Quadro RTX 8000, number of samples 119\n",
      "train loss: 0.3174058214413287\n",
      "Training starts on device Quadro RTX 8000, number of samples 1\n",
      "test loss: 0.33341134219751906\n",
      "epoch: 56\n",
      "Training starts on device Quadro RTX 8000, number of samples 119\n",
      "train loss: 0.3249527947730644\n",
      "Training starts on device Quadro RTX 8000, number of samples 1\n",
      "test loss: 0.33211727667116225\n",
      "epoch: 57\n",
      "Training starts on device Quadro RTX 8000, number of samples 119\n",
      "train loss: 0.3168527454144669\n",
      "Training starts on device Quadro RTX 8000, number of samples 1\n",
      "test loss: 0.32297721283991015\n",
      "epoch: 58\n",
      "Training starts on device Quadro RTX 8000, number of samples 119\n",
      "train loss: 0.3119372585448667\n",
      "Training starts on device Quadro RTX 8000, number of samples 1\n",
      "test loss: 0.3213826320193048\n",
      "epoch: 59\n",
      "Training starts on device Quadro RTX 8000, number of samples 119\n",
      "train loss: 0.3101236799011266\n",
      "Training starts on device Quadro RTX 8000, number of samples 1\n",
      "test loss: 0.3437628854913232\n",
      "epoch: 60\n",
      "Training starts on device Quadro RTX 8000, number of samples 119\n",
      "train loss: 0.30630068615873207\n",
      "Training starts on device Quadro RTX 8000, number of samples 1\n",
      "test loss: 0.3404611111228265\n",
      "epoch: 61\n",
      "Training starts on device Quadro RTX 8000, number of samples 119\n",
      "train loss: 0.3079769765879303\n",
      "Training starts on device Quadro RTX 8000, number of samples 1\n",
      "test loss: 0.31406009856501926\n",
      "epoch: 62\n",
      "Training starts on device Quadro RTX 8000, number of samples 119\n",
      "train loss: 0.30423157442327237\n",
      "Training starts on device Quadro RTX 8000, number of samples 1\n",
      "test loss: 0.3514899221971628\n",
      "epoch: 63\n",
      "Training starts on device Quadro RTX 8000, number of samples 119\n",
      "train loss: 0.30324198163003074\n",
      "Training starts on device Quadro RTX 8000, number of samples 1\n",
      "test loss: 0.3297323558329348\n",
      "epoch: 64\n",
      "Training starts on device Quadro RTX 8000, number of samples 119\n",
      "train loss: 0.3000117332026813\n",
      "Training starts on device Quadro RTX 8000, number of samples 1\n",
      "test loss: 0.33199837232917595\n",
      "epoch: 65\n",
      "Training starts on device Quadro RTX 8000, number of samples 119\n",
      "train loss: 0.2961940923783267\n",
      "Training starts on device Quadro RTX 8000, number of samples 1\n",
      "test loss: 0.3501630825516462\n",
      "epoch: 66\n",
      "Training starts on device Quadro RTX 8000, number of samples 119\n",
      "train loss: 0.2963792727482935\n",
      "Training starts on device Quadro RTX 8000, number of samples 1\n",
      "test loss: 0.3143990442085944\n",
      "epoch: 67\n",
      "Training starts on device Quadro RTX 8000, number of samples 119\n",
      "train loss: 0.2956885040316501\n",
      "Training starts on device Quadro RTX 8000, number of samples 1\n",
      "test loss: 0.32806876762712156\n",
      "epoch: 68\n",
      "Training starts on device Quadro RTX 8000, number of samples 119\n",
      "train loss: 0.2934362726041342\n",
      "Training starts on device Quadro RTX 8000, number of samples 1\n",
      "test loss: 0.30583491956307385\n",
      "epoch: 69\n",
      "Training starts on device Quadro RTX 8000, number of samples 119\n",
      "train loss: 0.29579062526824845\n",
      "Training starts on device Quadro RTX 8000, number of samples 1\n",
      "test loss: 0.3083219071649422\n",
      "epoch: 70\n",
      "Training starts on device Quadro RTX 8000, number of samples 119\n",
      "train loss: 0.2964224478002971\n",
      "Training starts on device Quadro RTX 8000, number of samples 1\n",
      "test loss: 0.31961412564964026\n",
      "epoch: 71\n",
      "Training starts on device Quadro RTX 8000, number of samples 119\n",
      "train loss: 0.2906496816694019\n",
      "Training starts on device Quadro RTX 8000, number of samples 1\n",
      "test loss: 0.322441275301373\n",
      "epoch: 72\n",
      "Training starts on device Quadro RTX 8000, number of samples 119\n",
      "train loss: 0.2902836634038982\n",
      "Training starts on device Quadro RTX 8000, number of samples 1\n",
      "test loss: 0.31258644488236265\n",
      "epoch: 73\n",
      "Training starts on device Quadro RTX 8000, number of samples 119\n",
      "train loss: 0.28614030177708816\n",
      "Training starts on device Quadro RTX 8000, number of samples 1\n",
      "test loss: 0.29506730570250794\n",
      "epoch: 74\n",
      "Training starts on device Quadro RTX 8000, number of samples 119\n",
      "train loss: 0.28777962473549756\n",
      "Training starts on device Quadro RTX 8000, number of samples 1\n",
      "test loss: 0.2991160487259157\n",
      "epoch: 75\n",
      "Training starts on device Quadro RTX 8000, number of samples 119\n",
      "train loss: 0.2823488726797595\n",
      "Training starts on device Quadro RTX 8000, number of samples 1\n",
      "test loss: 0.2986008410412906\n",
      "epoch: 76\n",
      "Training starts on device Quadro RTX 8000, number of samples 119\n",
      "train loss: 0.28753905652072187\n",
      "Training starts on device Quadro RTX 8000, number of samples 1\n",
      "test loss: 0.3314759328897303\n",
      "epoch: 77\n",
      "Training starts on device Quadro RTX 8000, number of samples 119\n",
      "train loss: 0.2794744678242459\n",
      "Training starts on device Quadro RTX 8000, number of samples 1\n",
      "test loss: 0.2934542265776883\n",
      "epoch: 78\n",
      "Training starts on device Quadro RTX 8000, number of samples 119\n",
      "train loss: 0.2799889040370204\n",
      "Training starts on device Quadro RTX 8000, number of samples 1\n",
      "test loss: 0.3362012875792667\n",
      "epoch: 79\n",
      "Training starts on device Quadro RTX 8000, number of samples 119\n",
      "train loss: 0.27841370999869813\n",
      "Training starts on device Quadro RTX 8000, number of samples 1\n",
      "test loss: 0.28736532336671144\n",
      "epoch: 80\n",
      "Training starts on device Quadro RTX 8000, number of samples 119\n",
      "train loss: 0.28113007226576275\n",
      "Training starts on device Quadro RTX 8000, number of samples 1\n",
      "test loss: 0.304500531583708\n",
      "epoch: 81\n",
      "Training starts on device Quadro RTX 8000, number of samples 119\n",
      "train loss: 0.2816644480177065\n",
      "Training starts on device Quadro RTX 8000, number of samples 1\n",
      "test loss: 0.2935852372865909\n",
      "epoch: 82\n",
      "Training starts on device Quadro RTX 8000, number of samples 119\n",
      "train loss: 0.27822771496417664\n",
      "Training starts on device Quadro RTX 8000, number of samples 1\n",
      "test loss: 0.34944460837553404\n",
      "epoch: 83\n",
      "Training starts on device Quadro RTX 8000, number of samples 119\n",
      "train loss: 0.27982190061700046\n",
      "Training starts on device Quadro RTX 8000, number of samples 1\n",
      "test loss: 0.30878355154491316\n",
      "epoch: 84\n",
      "Training starts on device Quadro RTX 8000, number of samples 119\n",
      "train loss: 0.27342126739420664\n",
      "Training starts on device Quadro RTX 8000, number of samples 1\n",
      "test loss: 0.27665728100045156\n",
      "epoch: 85\n",
      "Training starts on device Quadro RTX 8000, number of samples 119\n",
      "train loss: 0.27489141809426976\n",
      "Training starts on device Quadro RTX 8000, number of samples 1\n",
      "test loss: 0.2935513187424154\n",
      "epoch: 86\n",
      "Training starts on device Quadro RTX 8000, number of samples 119\n",
      "train loss: 0.2716045002214889\n",
      "Training starts on device Quadro RTX 8000, number of samples 1\n",
      "test loss: 0.29019546021293063\n",
      "epoch: 87\n",
      "Training starts on device Quadro RTX 8000, number of samples 119\n",
      "train loss: 0.27659728788789517\n",
      "Training starts on device Quadro RTX 8000, number of samples 1\n",
      "test loss: 0.2884223624714778\n",
      "epoch: 88\n",
      "Training starts on device Quadro RTX 8000, number of samples 119\n",
      "train loss: 0.27083361672004724\n",
      "Training starts on device Quadro RTX 8000, number of samples 1\n",
      "test loss: 0.30084456887137034\n",
      "epoch: 89\n",
      "Training starts on device Quadro RTX 8000, number of samples 119\n",
      "train loss: 0.26443285899466096\n",
      "Training starts on device Quadro RTX 8000, number of samples 1\n",
      "test loss: 0.27843143306472706\n",
      "epoch: 90\n",
      "Training starts on device Quadro RTX 8000, number of samples 119\n",
      "train loss: 0.27242439476210395\n",
      "Training starts on device Quadro RTX 8000, number of samples 1\n",
      "test loss: 0.4009883552585157\n",
      "epoch: 91\n",
      "Training starts on device Quadro RTX 8000, number of samples 119\n",
      "train loss: 0.2734141145923573\n",
      "Training starts on device Quadro RTX 8000, number of samples 1\n",
      "test loss: 0.3447713875725495\n",
      "epoch: 92\n",
      "Training starts on device Quadro RTX 8000, number of samples 119\n",
      "train loss: 0.2692812932679895\n",
      "Training starts on device Quadro RTX 8000, number of samples 1\n",
      "test loss: 0.2762098079880702\n",
      "epoch: 93\n",
      "Training starts on device Quadro RTX 8000, number of samples 119\n",
      "train loss: 0.26627187983406064\n",
      "Training starts on device Quadro RTX 8000, number of samples 1\n",
      "test loss: 0.2764233423866794\n",
      "epoch: 94\n",
      "Training starts on device Quadro RTX 8000, number of samples 119\n",
      "train loss: 0.26514380973832646\n",
      "Training starts on device Quadro RTX 8000, number of samples 1\n",
      "test loss: 0.3009601600900057\n",
      "epoch: 95\n",
      "Training starts on device Quadro RTX 8000, number of samples 119\n",
      "train loss: 0.2620272184782907\n",
      "Training starts on device Quadro RTX 8000, number of samples 1\n",
      "test loss: 0.2705246617130027\n",
      "epoch: 96\n",
      "Training starts on device Quadro RTX 8000, number of samples 119\n",
      "train loss: 0.2653513973051736\n",
      "Training starts on device Quadro RTX 8000, number of samples 1\n",
      "test loss: 0.2780877041093043\n",
      "epoch: 97\n",
      "Training starts on device Quadro RTX 8000, number of samples 119\n",
      "train loss: 0.2667291565705725\n",
      "Training starts on device Quadro RTX 8000, number of samples 1\n",
      "test loss: 0.2872644052005357\n",
      "epoch: 98\n",
      "Training starts on device Quadro RTX 8000, number of samples 119\n",
      "train loss: 0.2638232142220674\n",
      "Training starts on device Quadro RTX 8000, number of samples 1\n",
      "test loss: 0.2749937994455191\n",
      "epoch: 99\n",
      "Training starts on device Quadro RTX 8000, number of samples 119\n",
      "train loss: 0.2605110440536126\n",
      "Training starts on device Quadro RTX 8000, number of samples 1\n",
      "test loss: 0.2834623794101856\n",
      "epoch: 100\n",
      "Training starts on device Quadro RTX 8000, number of samples 119\n",
      "train loss: 0.2614298041899241\n",
      "Training starts on device Quadro RTX 8000, number of samples 1\n",
      "test loss: 0.2922765019871396\n"
     ]
    }
   ],
   "source": [
    "torch.manual_seed(14)  # For reproducibility\n",
    "cnn_submeso = CNN_direct().double()\n",
    "\n",
    "n_epochs = 100  # Number of epocs could be increased\n",
    "optimizer = optim.Adam(cnn_submeso.parameters(), lr=0.1)\n",
    "test_loss = list()\n",
    "train_loss = list()\n",
    "for epoch in range(1, n_epochs + 1):\n",
    "    print(\"epoch:\", epoch)\n",
    "    train_loss.append(train_model_direct(cnn_submeso, criterion, loader_train, optimizer,len(torch_dataset_train)))\n",
    "    test_loss.append(test_model_direct(cnn_submeso, criterion, loader_test, optimizer,len(torch_dataset_test)))\n",
    "\n",
    "torch.save(cnn_submeso, PATH_NN+'cnn_7l_k5_more_data.pth')"
   ]
  },
  {
   "cell_type": "code",
   "execution_count": 9,
   "metadata": {},
   "outputs": [
    {
     "data": {
      "image/png": "[encoded data removed]",
      "text/plain": [
       "<Figure size 432x288 with 1 Axes>"
      ]
     },
     "metadata": {
      "needs_background": "light"
     },
     "output_type": "display_data"
    }
   ],
   "source": [
    "import matplotlib.pyplot as plt\n",
    "\n",
    "plt.plot(train_loss[1:], \"b\", linewidth=3,label=\"training loss\")\n",
    "plt.plot(test_loss[1:], \"lightblue\",linewidth=3, label=\"test loss\")\n",
    "plt.xlabel('Epochs')\n",
    "plt.ylabel('MSE Loss')\n",
    "plt.legend();"
   ]
  },
  {
   "cell_type": "code",
   "execution_count": 8,
   "metadata": {},
   "outputs": [],
   "source": [
    "cnn_submeso = torch.load(PATH_NN+'cnn_7l_k5_more_data.pth')\n"
   ]
  },
  {
   "cell_type": "code",
   "execution_count": 27,
   "metadata": {},
   "outputs": [
    {
     "data": {
      "text/plain": [
       "CNN_direct(\n",
       "  (conv1): Conv2d(8, 128, kernel_size=(5, 5), stride=(1, 1), padding=same, padding_mode=reflect)\n",
       "  (conv1_bn): BatchNorm2d(128, eps=1e-05, momentum=0.1, affine=True, track_running_stats=True)\n",
       "  (conv2): Conv2d(128, 64, kernel_size=(5, 5), stride=(1, 1), padding=same, padding_mode=reflect)\n",
       "  (conv2_bn): BatchNorm2d(64, eps=1e-05, momentum=0.1, affine=True, track_running_stats=True)\n",
       "  (conv3): Conv2d(64, 48, kernel_size=(5, 5), stride=(1, 1), padding=same, padding_mode=reflect)\n",
       "  (conv3_bn): BatchNorm2d(48, eps=1e-05, momentum=0.1, affine=True, track_running_stats=True)\n",
       "  (conv4): Conv2d(48, 32, kernel_size=(5, 5), stride=(1, 1), padding=same, padding_mode=reflect)\n",
       "  (conv4_bn): BatchNorm2d(32, eps=1e-05, momentum=0.1, affine=True, track_running_stats=True)\n",
       "  (conv5): Conv2d(32, 16, kernel_size=(5, 5), stride=(1, 1), padding=same, padding_mode=reflect)\n",
       "  (conv5_bn): BatchNorm2d(16, eps=1e-05, momentum=0.1, affine=True, track_running_stats=True)\n",
       "  (conv6): Conv2d(16, 8, kernel_size=(5, 5), stride=(1, 1), padding=same, padding_mode=reflect)\n",
       "  (conv6_bn): BatchNorm2d(8, eps=1e-05, momentum=0.1, affine=True, track_running_stats=True)\n",
       "  (conv7): Conv2d(8, 1, kernel_size=(5, 5), stride=(1, 1), padding=same, padding_mode=reflect)\n",
       "  (conv7_bn): BatchNorm2d(1, eps=1e-05, momentum=0.1, affine=True, track_running_stats=True)\n",
       ")"
      ]
     },
     "execution_count": 27,
     "metadata": {},
     "output_type": "execute_result"
    }
   ],
   "source": [
    "cnn_submeso"
   ]
  },
  {
   "cell_type": "code",
   "execution_count": 9,
   "metadata": {},
   "outputs": [
    {
     "data": {
      "text/plain": [
       "362691"
      ]
     },
     "execution_count": 9,
     "metadata": {},
     "output_type": "execute_result"
    }
   ],
   "source": [
    "total_params = sum(\n",
    "\tparam.numel() for param in cnn_submeso.parameters()\n",
    ")\n",
    "total_params\n"
   ]
  },
  {
   "cell_type": "code",
   "execution_count": 40,
   "metadata": {},
   "outputs": [
    {
     "name": "stdout",
     "output_type": "stream",
     "text": [
      "Training starts on device Quadro RTX 8000, number of samples 1\n",
      "test loss: 0.2922765019871396\n"
     ]
    }
   ],
   "source": [
    "b_x, b_y, prediction = plot_model_direct(cnn_submeso, criterion, loader_test,len(torch_dataset_test))"
   ]
  },
  {
   "cell_type": "code",
   "execution_count": 32,
   "metadata": {},
   "outputs": [
    {
     "data": {
      "text/plain": [
       "torch.Size([845, 1, 40, 40])"
      ]
     },
     "execution_count": 32,
     "metadata": {},
     "output_type": "execute_result"
    }
   ],
   "source": [
    "prediction.shape"
   ]
  },
  {
   "cell_type": "code",
   "execution_count": 41,
   "metadata": {},
   "outputs": [],
   "source": [
    "def Jacobian_norm(x,y):\n",
    "  if y.shape[1] != 1:\n",
    "    print('Sorry')\n",
    "  \n",
    "  dydx = torch.zeros(x.shape[1])\n",
    "\n",
    "  grad = torch.autograd.grad(\n",
    "    outputs=y, inputs=x,\n",
    "    grad_outputs=torch.ones_like(y),\n",
    "    retain_graph=True, create_graph=True)[0]\n",
    "      \n",
    "  if grad.shape != x.shape:\n",
    "    print('Error in dimensions')\n",
    "\n",
    "  return torch.mean(grad**2, dim=[-2,-1]).mean(dim=0)"
   ]
  },
  {
   "cell_type": "code",
   "execution_count": 42,
   "metadata": {},
   "outputs": [],
   "source": [
    "jacobian = Jacobian_norm(b_x,prediction)"
   ]
  },
  {
   "cell_type": "code",
   "execution_count": 48,
   "metadata": {},
   "outputs": [
    {
     "data": {
      "text/plain": [
       "<BarContainer object of 8 artists>"
      ]
     },
     "execution_count": 48,
     "metadata": {},
     "output_type": "execute_result"
    },
    {
     "data": {
      "image/png": "[encoded data removed]",
      "text/plain": [
       "<Figure size 432x288 with 1 Axes>"
      ]
     },
     "metadata": {
      "needs_background": "light"
     },
     "output_type": "display_data"
    }
   ],
   "source": [
    "plt.bar(np.arange(8),jacobian.detach())"
   ]
  },
  {
   "cell_type": "code",
   "execution_count": null,
   "metadata": {},
   "outputs": [],
   "source": [
    "FCOR, grad_B, HML, TAU, U, V, Q, HBL"
   ]
  },
  {
   "cell_type": "code",
   "execution_count": 11,
   "metadata": {},
   "outputs": [],
   "source": [
    "# compare with FK\n",
    "WB_FK = np.load(PATH_NN+'WB_FK.npy')\n",
    "WB_FK_test = WB_FK[test_ind]\n",
    "\n",
    "# compare with FK_Lf\n",
    "Lf_FK11 = np.load(PATH_NN+'Lf_FK11.npy')\n",
    "Lf_FK11_test = Lf_FK11[test_ind]\n",
    "\n",
    "# compare with Bod_Lf\n",
    "Lf_BD23 = np.load(PATH_NN+'Lf_BD23.npy')\n",
    "Lf_BD23_test = Lf_BD23[test_ind]\n",
    "\n",
    "# renormalize using mean and std \n",
    "WB_sg_mean_test = WB_sg_mean[test_ind]\n",
    "WB_sg_std_test = WB_sg_std[test_ind] "
   ]
  },
  {
   "cell_type": "code",
   "execution_count": 12,
   "metadata": {},
   "outputs": [
    {
     "name": "stdout",
     "output_type": "stream",
     "text": [
      "correlation between prediction and target,  w'b': (0.8527765728920924, 0.0)\n"
     ]
    }
   ],
   "source": [
    "from scipy import stats\n",
    "\n",
    "device = torch.device(\"cuda:0\" if torch.cuda.is_available() else \"cpu\")\n",
    "\n",
    "corr_pred_wb = stats.pearsonr(cnn_submeso(b_x.to(device)).detach().cpu().numpy().flatten(), b_y.flatten())\n",
    "\n",
    "print(\"correlation between prediction and target,  w'b':\",corr_pred_wb )"
   ]
  },
  {
   "cell_type": "code",
   "execution_count": 316,
   "metadata": {},
   "outputs": [
    {
     "data": {
      "text/plain": [
       "<function matplotlib.pyplot.show(close=None, block=None)>"
      ]
     },
     "execution_count": 316,
     "metadata": {},
     "output_type": "execute_result"
    },
    {
     "data": {
      "image/png": "[encoded data removed]",
      "text/plain": [
       "<Figure size 864x432 with 8 Axes>"
      ]
     },
     "metadata": {
      "needs_background": "light"
     },
     "output_type": "display_data"
    }
   ],
   "source": [
    "# visualize\n",
    "it =720\n",
    "\n",
    "\n",
    "mean_it = WB_sg_mean_test[it]\n",
    "std_it = WB_sg_std_test[it]\n",
    "\n",
    "plt.subplots(nrows=2, ncols=2, figsize=(12, 6))\n",
    "#fig.tight_layout() # Or equivalently,  \"plt.tight_layout()\"\n",
    "\n",
    "plt.subplot(222)\n",
    "plt.pcolor((cnn_submeso(b_x.to(device)).detach().cpu().numpy()[it,0,:,:])*std_it + mean_it,cmap='RdBu_r', vmin=-1e-8, vmax=1e-8)\n",
    "plt.title('$\\overline{wb}^z$ CNN prediction',fontsize = 12)\n",
    "plt.colorbar()\n",
    "plt.axis('off')\n",
    "\n",
    "plt.subplot(221)\n",
    "plt.pcolor((b_y[it,0,:,:])*std_it + mean_it,cmap='RdBu_r',vmin=-1e-8, vmax=1e-8)\n",
    "plt.title('$\\overline{wb}^z$ LLC4320',fontsize = 12)\n",
    "plt.colorbar()\n",
    "plt.axis('off')\n",
    "\n",
    "plt.subplot(223)\n",
    "plt.pcolor((0.07*25e3/np.maximum(Lf_FK11_test[it],5000))*WB_FK_test[it],cmap='RdBu_r',vmin=-1e-8, vmax=1e-8)\n",
    "plt.title('$\\overline{wb}^z$ FK11 param',fontsize = 12)\n",
    "plt.colorbar()\n",
    "plt.axis('off')\n",
    "\n",
    "plt.subplot(224)\n",
    "plt.pcolor((0.07*25e3/(Lf_BD23_test[it]))*WB_FK_test[it],cmap='RdBu_r',vmin=-1e-8, vmax=1e-8)\n",
    "plt.title('$\\overline{wb}^z$ Bodner23 param',fontsize = 12)\n",
    "plt.colorbar()\n",
    "plt.axis('off')\n",
    "plt.show\n",
    "#plt.savefig(BASE+'plots/cnn_prediction_snapshot_.png')"
   ]
  },
  {
   "cell_type": "code",
   "execution_count": 13,
   "metadata": {},
   "outputs": [
    {
     "data": {
      "text/plain": [
       "(845, 1, 40, 40)"
      ]
     },
     "execution_count": 13,
     "metadata": {},
     "output_type": "execute_result"
    }
   ],
   "source": [
    "b_y.detach().cpu().numpy().shape"
   ]
  },
  {
   "cell_type": "code",
   "execution_count": 14,
   "metadata": {},
   "outputs": [],
   "source": [
    "mean_tile = np.transpose(np.tile(WB_sg_mean_test,(40,40,1,1)))\n",
    "std_tile = np.transpose(np.tile(WB_sg_std_test,(40,40,1,1)))"
   ]
  },
  {
   "cell_type": "code",
   "execution_count": 15,
   "metadata": {},
   "outputs": [
    {
     "data": {
      "text/plain": [
       "Text(0.5, 0, '$\\\\overline{wb}^z$')"
      ]
     },
     "execution_count": 15,
     "metadata": {},
     "output_type": "execute_result"
    },
    {
     "data": {
      "image/png": "[encoded data removed]",
      "text/plain": [
       "<Figure size 1080x360 with 3 Axes>"
      ]
     },
     "metadata": {
      "needs_background": "light"
     },
     "output_type": "display_data"
    }
   ],
   "source": [
    "plt.subplots(nrows=1, ncols=3, figsize=(15, 5))\n",
    "\n",
    "plt.subplot(131)\n",
    "_=plt.hist(((0.07*25e3/np.maximum(Lf_FK11_test[:],5000))*WB_FK_test[:]).flatten(),bins=1000,alpha=0.5,histtype='stepfilled',label=\"FK11 param\")\n",
    "_=plt.hist((b_y.detach().cpu().numpy()*std_tile + mean_tile).flatten(),bins=1000,alpha=0.5,histtype='stepfilled',label=\"LLC4320\")\n",
    "plt.xlim([-.5e-8,3.5e-8])\n",
    "plt.ylim([0,3e5])\n",
    "plt.legend()\n",
    "plt.xlabel('$\\overline{wb}^z$',fontsize=12)\n",
    "\n",
    "plt.subplot(132)\n",
    "_=plt.hist(((0.07*25e3/np.maximum(Lf_BD23_test[:],5000))*WB_FK_test[:]).flatten(),bins=1000,alpha=0.5,histtype='stepfilled',label=\"Bodner23 param\")\n",
    "_=plt.hist((b_y.detach().cpu().numpy()*std_tile + mean_tile).flatten(),bins=1000,alpha=0.5,histtype='stepfilled',label=\"LLC4320\")\n",
    "plt.xlim([-.5e-8,3.5e-8])\n",
    "plt.ylim([0,3e5])\n",
    "plt.legend()\n",
    "plt.xlabel('$\\overline{wb}^z$',fontsize=12)\n",
    "\n",
    "\n",
    "plt.subplot(133)\n",
    "_=plt.hist((cnn_submeso(b_x.to(device)).detach().cpu().numpy()*std_tile + mean_tile).flatten(),bins=1000,alpha=0.5,histtype='stepfilled',label=\"CNN prediction\")\n",
    "_=plt.hist((b_y.detach().cpu().numpy()*std_tile + mean_tile).flatten(),bins=1000,alpha=0.5,histtype='stepfilled',label=\"LLC4320\")\n",
    "plt.xlim([-.5e-8,3.5e-8])\n",
    "plt.ylim([0,3e5])\n",
    "plt.legend()\n",
    "plt.xlabel('$\\overline{wb}^z$',fontsize=12)\n",
    "\n",
    "\n",
    "\n",
    "#plt.savefig(BASE+'plots/cnn_prediction_hist.png')\n",
    "#plt.xlabel('$\\overline{wb}^z$')\n"
   ]
  },
  {
   "cell_type": "code",
   "execution_count": 18,
   "metadata": {},
   "outputs": [],
   "source": [
    "target_da = xr.DataArray((b_y.detach().cpu().numpy()*std_tile + mean_tile), dims=[\"time\", \"axis\", \"i\",\"j\"])[:,0,:,:]\n",
    "param_FK11_da = xr.DataArray((0.07*25e3/np.maximum(Lf_FK11_test[:],5000))*WB_FK_test[:], dims=[\"time\", \"i\",\"j\"])\n",
    "param_BD23_da = xr.DataArray((0.07*25e3/np.maximum(Lf_BD23_test[:],5000))*WB_FK_test[:], dims=[\"time\", \"i\",\"j\"])\n",
    "prediction_da = xr.DataArray((cnn_submeso(b_x.to(device)).detach().cpu().numpy()*std_tile + mean_tile), dims=[\"time\", \"axis\", \"i\",\"j\"])[:,0,:,:]"
   ]
  },
  {
   "cell_type": "code",
   "execution_count": 19,
   "metadata": {},
   "outputs": [
    {
     "name": "stderr",
     "output_type": "stream",
     "text": [
      "/home/ab10313/.local/lib/python3.9/site-packages/xrft/xrft.py:47: FutureWarning: Please provide the name of window adhering to scipy.signal.windows. The boolean option will be deprecated in future releases.\n",
      "  warnings.warn(\n",
      "/home/ab10313/.local/lib/python3.9/site-packages/xrft/xrft.py:1025: FutureWarning: Isotropic wavenumber larger than the Nyquist wavenumber may result.\n",
      "  warnings.warn(msg, FutureWarning)\n",
      "/home/ab10313/.local/lib/python3.9/site-packages/xrft/xrft.py:47: FutureWarning: Please provide the name of window adhering to scipy.signal.windows. The boolean option will be deprecated in future releases.\n",
      "  warnings.warn(\n",
      "/home/ab10313/.local/lib/python3.9/site-packages/xrft/xrft.py:1025: FutureWarning: Isotropic wavenumber larger than the Nyquist wavenumber may result.\n",
      "  warnings.warn(msg, FutureWarning)\n",
      "/home/ab10313/.local/lib/python3.9/site-packages/xrft/xrft.py:47: FutureWarning: Please provide the name of window adhering to scipy.signal.windows. The boolean option will be deprecated in future releases.\n",
      "  warnings.warn(\n",
      "/home/ab10313/.local/lib/python3.9/site-packages/xrft/xrft.py:1025: FutureWarning: Isotropic wavenumber larger than the Nyquist wavenumber may result.\n",
      "  warnings.warn(msg, FutureWarning)\n",
      "/home/ab10313/.local/lib/python3.9/site-packages/xrft/xrft.py:47: FutureWarning: Please provide the name of window adhering to scipy.signal.windows. The boolean option will be deprecated in future releases.\n",
      "  warnings.warn(\n",
      "/home/ab10313/.local/lib/python3.9/site-packages/xrft/xrft.py:1025: FutureWarning: Isotropic wavenumber larger than the Nyquist wavenumber may result.\n",
      "  warnings.warn(msg, FutureWarning)\n"
     ]
    }
   ],
   "source": [
    "import xrft\n",
    "\n",
    "# target vs prediction spectra\n",
    "\n",
    "WsBs_target_spectra = xrft.isotropic_power_spectrum(target_da,dim=['i','j'], \n",
    "                                           detrend='linear', window=True).compute().mean('time')\n",
    "\n",
    "WsBs_prediction_spectra = xrft.isotropic_power_spectrum(prediction_da,dim=['i','j'], \n",
    "                                           detrend='linear', window=True).compute().mean('time')\n",
    "\n",
    "WsBs_param_FK11_spectra = xrft.isotropic_power_spectrum(param_FK11_da,dim=['i','j'], \n",
    "                                           detrend='linear', window=True).compute().mean('time')\n",
    "\n",
    "WsBs_param_BD23_spectra = xrft.isotropic_power_spectrum(param_BD23_da,dim=['i','j'], \n",
    "                                           detrend='linear', window=True).compute().mean('time')\n",
    "\n"
   ]
  },
  {
   "cell_type": "code",
   "execution_count": 26,
   "metadata": {},
   "outputs": [
    {
     "data": {
      "text/plain": [
       "Text(0.5, 1.0, 'WsBs')"
      ]
     },
     "execution_count": 26,
     "metadata": {},
     "output_type": "execute_result"
    },
    {
     "data": {
      "image/png": "[encoded data removed]",
      "text/plain": [
       "<Figure size 288x720 with 1 Axes>"
      ]
     },
     "metadata": {
      "needs_background": "light"
     },
     "output_type": "display_data"
    }
   ],
   "source": [
    "fig, axes = plt.subplots(nrows=1, ncols=3, figsize=(4, 10))\n",
    "fig.tight_layout() # Or equivalently,  \"plt.tight_layout()\"\n",
    "\n",
    "plt.subplot(311)\n",
    "#plt.loglog(WsBs_target_spectra.freq_r*2*np.pi, 5e-3*WsBs_target_spectra.freq_r**-2, '--',linewidth=1.5,color='black', label='k^{-2}')\n",
    "#plt.loglog(WsBs_target_spectra.freq_r*2*np.pi, 2e-3*WsBs_target_spectra.freq_r**-3, '--',linewidth=1.5,color='gray', label='k^{-3}')\n",
    "plt.loglog(WsBs_target_spectra.freq_r*2*np.pi, WsBs_target_spectra,linewidth=3, label='target')\n",
    "plt.loglog(WsBs_target_spectra.freq_r*2*np.pi, WsBs_prediction_spectra,linewidth=3, label='prediction')\n",
    "plt.loglog(WsBs_target_spectra.freq_r*2*np.pi, WsBs_param_FK11_spectra,linewidth=3, label='FK11')\n",
    "plt.loglog(WsBs_target_spectra.freq_r*2*np.pi, WsBs_param_BD23_spectra,linewidth=3, label='Bodner23')\n",
    "#plt.loglog(WsBs_target_spectra.freq_r*2*np.pi, WsBs_param_BD_spectra*WsBs_target_spectra.freq_r,linewidth=3, label='BD23')\n",
    "\n",
    "\n",
    "\n",
    "plt.legend()\n",
    "plt.xlabel('$k_r$')\n",
    "#plt.ylabel('Normalized isotropic spectra')\n",
    "plt.title('WsBs')\n",
    "#plt.ylim([1e-3,1e-1])"
   ]
  },
  {
   "cell_type": "code",
   "execution_count": 24,
   "metadata": {},
   "outputs": [],
   "source": [
    "np.save(PATH_NN+'test_prediction_7L_k7.npy',cnn_submeso(b_x.to(device)).detach().cpu().numpy()[:,0,:,:])\n",
    "np.save(PATH_NN+'test_target_7L_k7.npy',b_y[:,0,:,:])\n",
    "np.save(PATH_NN+'test_WB_FK.npy',WB_FK_test)\n"
   ]
  },
  {
   "cell_type": "code",
   "execution_count": 50,
   "metadata": {},
   "outputs": [],
   "source": [
    "test_prediction = np.load(PATH_NN+'test_prediction_7L_k7.npy')\n",
    "test_target = np.load(PATH_NN+'test_target_7L_k7.npy')\n",
    "test_FK = np.load(PATH_NN+'test_WB_FK.npy')\n"
   ]
  },
  {
   "cell_type": "code",
   "execution_count": 25,
   "metadata": {},
   "outputs": [
    {
     "ename": "NameError",
     "evalue": "name 'test_prediction' is not defined",
     "output_type": "error",
     "traceback": [
      "\u001b[0;31m---------------------------------------------------------------------------\u001b[0m",
      "\u001b[0;31mNameError\u001b[0m                                 Traceback (most recent call last)",
      "\u001b[0;32m/state/partition1/job-30475077/ipykernel_3955396/617906154.py\u001b[0m in \u001b[0;36m<module>\u001b[0;34m\u001b[0m\n\u001b[1;32m      6\u001b[0m \u001b[0;34m\u001b[0m\u001b[0m\n\u001b[1;32m      7\u001b[0m \u001b[0mplt\u001b[0m\u001b[0;34m.\u001b[0m\u001b[0msubplot\u001b[0m\u001b[0;34m(\u001b[0m\u001b[0;36m231\u001b[0m\u001b[0;34m)\u001b[0m\u001b[0;34m\u001b[0m\u001b[0;34m\u001b[0m\u001b[0m\n\u001b[0;32m----> 8\u001b[0;31m \u001b[0mplt\u001b[0m\u001b[0;34m.\u001b[0m\u001b[0mpcolor\u001b[0m\u001b[0;34m(\u001b[0m\u001b[0mtest_prediction\u001b[0m\u001b[0;34m[\u001b[0m\u001b[0mit\u001b[0m\u001b[0;34m]\u001b[0m\u001b[0;34m,\u001b[0m\u001b[0mcmap\u001b[0m\u001b[0;34m=\u001b[0m\u001b[0;34m'coolwarm'\u001b[0m\u001b[0;34m,\u001b[0m\u001b[0mvmin\u001b[0m\u001b[0;34m=\u001b[0m\u001b[0;34m-\u001b[0m\u001b[0;36m1.5\u001b[0m\u001b[0;34m,\u001b[0m\u001b[0mvmax\u001b[0m \u001b[0;34m=\u001b[0m\u001b[0;36m1.5\u001b[0m\u001b[0;34m)\u001b[0m\u001b[0;34m\u001b[0m\u001b[0;34m\u001b[0m\u001b[0m\n\u001b[0m\u001b[1;32m      9\u001b[0m \u001b[0mplt\u001b[0m\u001b[0;34m.\u001b[0m\u001b[0mtitle\u001b[0m\u001b[0;34m(\u001b[0m\u001b[0;34m'wb prediction'\u001b[0m\u001b[0;34m)\u001b[0m\u001b[0;34m\u001b[0m\u001b[0;34m\u001b[0m\u001b[0m\n\u001b[1;32m     10\u001b[0m \u001b[0mplt\u001b[0m\u001b[0;34m.\u001b[0m\u001b[0mcolorbar\u001b[0m\u001b[0;34m(\u001b[0m\u001b[0;34m)\u001b[0m\u001b[0;34m\u001b[0m\u001b[0;34m\u001b[0m\u001b[0m\n",
      "\u001b[0;31mNameError\u001b[0m: name 'test_prediction' is not defined"
     ]
    },
    {
     "data": {
      "image/png": "[encoded data removed]",
      "text/plain": [
       "<Figure size 864x432 with 3 Axes>"
      ]
     },
     "metadata": {
      "needs_background": "light"
     },
     "output_type": "display_data"
    }
   ],
   "source": [
    "# visualize\n",
    "it =2\n",
    "\n",
    "fig, axes = plt.subplots(nrows=1, ncols=3, figsize=(12, 6))\n",
    "fig.tight_layout() # Or equivalently,  \"plt.tight_layout()\"\n",
    "\n",
    "plt.subplot(231)\n",
    "plt.pcolor(test_prediction[it],cmap='coolwarm',vmin=-1.5,vmax =1.5)\n",
    "plt.title('wb prediction')\n",
    "plt.colorbar()\n",
    "plt.axis('off')\n",
    "\n",
    "plt.subplot(232)\n",
    "plt.pcolor(test_target[it,:,:],cmap='coolwarm',vmin=-1.5,vmax =1.5)\n",
    "plt.title('wb target')\n",
    "plt.colorbar()\n",
    "plt.axis('off')\n",
    "\n",
    "plt.subplot(233)\n",
    "plt.pcolor(test_FK[it],cmap='coolwarm',vmin=-1.5,vmax =1.5)\n",
    "plt.title('wb FK')\n",
    "plt.colorbar()\n",
    "plt.axis('off')\n"
   ]
  },
  {
   "cell_type": "code",
   "execution_count": 43,
   "metadata": {},
   "outputs": [
    {
     "data": {
      "text/plain": [
       "(0.0, 40.0, 0.0, 40.0)"
      ]
     },
     "execution_count": 43,
     "metadata": {},
     "output_type": "execute_result"
    },
    {
     "data": {
      "image/png": "[encoded data removed]",
      "text/plain": [
       "<Figure size 864x432 with 6 Axes>"
      ]
     },
     "metadata": {
      "needs_background": "light"
     },
     "output_type": "display_data"
    }
   ],
   "source": [
    "# visualize\n",
    "it =2\n",
    "\n",
    "fig, axes = plt.subplots(nrows=1, ncols=3, figsize=(12, 6))\n",
    "fig.tight_layout() # Or equivalently,  \"plt.tight_layout()\"\n",
    "\n",
    "plt.subplot(231)\n",
    "plt.pcolor(test_prediction[it]-test_target[it,:,:],cmap='coolwarm',vmin=-1.5,vmax =1.5)\n",
    "plt.title('wb prediction')\n",
    "plt.colorbar()\n",
    "plt.axis('off')\n",
    "\n",
    "plt.subplot(232)\n",
    "plt.pcolor(test_target[it,:,:],cmap='coolwarm',vmin=-1.5,vmax =1.5)\n",
    "plt.title('wb target')\n",
    "plt.colorbar()\n",
    "plt.axis('off')\n",
    "\n",
    "plt.subplot(233)\n",
    "plt.pcolor(test_FK[it]-test_target[it,:,:],cmap='coolwarm',vmin=-1.5,vmax =1.5)\n",
    "plt.title('wb FK')\n",
    "plt.colorbar()\n",
    "plt.axis('off')\n"
   ]
  },
  {
   "cell_type": "code",
   "execution_count": 37,
   "metadata": {},
   "outputs": [
    {
     "data": {
      "text/plain": [
       "<matplotlib.legend.Legend at 0x14a490482e50>"
      ]
     },
     "execution_count": 37,
     "metadata": {},
     "output_type": "execute_result"
    },
    {
     "data": {
      "image/png": "[encoded data removed]",
      "text/plain": [
       "<Figure size 432x288 with 1 Axes>"
      ]
     },
     "metadata": {
      "needs_background": "light"
     },
     "output_type": "display_data"
    }
   ],
   "source": [
    "_=plt.hist(test_target.flatten(),bins=500,alpha=0.5,histtype='stepfilled',label=\"target\")\n",
    "_=plt.hist(test_prediction.flatten(),bins=500,alpha=0.5,histtype='stepfilled',label=\"prediction\")\n",
    "_=plt.hist(WB_FK_test.flatten(),bins=500,alpha=0.5,histtype='stepfilled',label=\"FK08\")\n",
    "\n",
    "\n",
    "plt.ylim([0,.3e6])\n",
    "plt.xlim([-3,3])\n",
    "plt.legend()"
   ]
  },
  {
   "cell_type": "code",
   "execution_count": null,
   "metadata": {},
   "outputs": [],
   "source": []
  }
 ],
 "metadata": {
  "kernelspec": {
   "display_name": "my_env",
   "language": "python",
   "name": "my_env"
  },
  "language_info": {
   "codemirror_mode": {
    "name": "ipython",
    "version": 3
   },
   "file_extension": ".py",
   "mimetype": "text/x-python",
   "name": "python",
   "nbconvert_exporter": "python",
   "pygments_lexer": "ipython3",
   "version": "3.9.5"
  }
 },
 "nbformat": 4,
 "nbformat_minor": 4
}
