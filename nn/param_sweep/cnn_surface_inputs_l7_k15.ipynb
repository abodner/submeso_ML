{
 "cells": [
  {
   "cell_type": "code",
   "execution_count": 1,
   "metadata": {},
   "outputs": [],
   "source": [
    "import torch\n",
    "import torch.nn.functional as F\n",
    "import torch.utils.data as Data\n",
    "import torchvision\n",
    "from torch import nn, optim\n",
    "from torch.autograd import Variable\n",
    "import numpy as np\n",
    "import os\n",
    "import glob\n",
    "import xarray as xr\n",
    "from sklearn import preprocessing\n",
    "import netCDF4 as nc\n",
    "import matplotlib.pyplot as plt\n",
    "\n",
    "\n",
    "np.random.seed(14)  # For reproducibility\n",
    "torch.manual_seed(14)  # For reproducibility\n",
    "\n",
    "BASE = '/scratch/ab10313/pleiades/'\n",
    "PATH_NN_surface = BASE+'NN_data_surface/'\n",
    "PATH_NN_interior = BASE+'NN_data_interior/'"
   ]
  },
  {
   "cell_type": "code",
   "execution_count": 2,
   "metadata": {},
   "outputs": [
    {
     "data": {
      "text/plain": [
       "device(type='cuda', index=0)"
      ]
     },
     "execution_count": 2,
     "metadata": {},
     "output_type": "execute_result"
    }
   ],
   "source": [
    "device = torch.device(\"cuda:0\" if torch.cuda.is_available() else \"cpu\")\n",
    "device"
   ]
  },
  {
   "cell_type": "markdown",
   "metadata": {},
   "source": [
    "# Dataloader"
   ]
  },
  {
   "cell_type": "markdown",
   "metadata": {},
   "source": [
    "### Create input and output channels"
   ]
  },
  {
   "cell_type": "code",
   "execution_count": 3,
   "metadata": {},
   "outputs": [
    {
     "name": "stdout",
     "output_type": "stream",
     "text": [
      "X input shape:\n",
      "(8460, 3, 40, 40)\n",
      "\n",
      "Y output shape:\n",
      "(8460, 1, 40, 40)\n",
      "\n"
     ]
    },
    {
     "data": {
      "text/plain": [
       "False"
      ]
     },
     "execution_count": 3,
     "metadata": {},
     "output_type": "execute_result"
    }
   ],
   "source": [
    "# load preprocessed data into input and output channels\n",
    "\n",
    "\n",
    "\n",
    "# X INPUT\n",
    "grad_B = np.load(PATH_NN_surface+'grad_B.npy')\n",
    "#FCOR = np.load(PATH_NN+'FCOR.npy')\n",
    "TAU = np.load(PATH_NN_surface+'TAU.npy')\n",
    "Q = np.load(PATH_NN_surface+'Q.npy')\n",
    "\n",
    "X_input = np.stack([ grad_B, TAU, Q],axis=1)\n",
    "print('X input shape:')\n",
    "print( X_input.shape)\n",
    "print('')\n",
    "\n",
    "\n",
    "# Y OUTPUT\n",
    "WB_sg = np.load(PATH_NN_interior+'WB_sg.npy')\n",
    "WB_sg_mean = np.load(PATH_NN_interior+'WB_sg_mean.npy')\n",
    "WB_sg_std = np.load(PATH_NN_interior+'WB_sg_std.npy')\n",
    "              \n",
    "Y_output = np.tile(WB_sg,(1,1,1,1)).reshape(WB_sg.shape[0],1,WB_sg.shape[1],WB_sg.shape[2]) \n",
    "print('Y output shape:')\n",
    "print(Y_output.shape)\n",
    "print('')\n",
    "\n",
    "np.isnan(X_input).any()\n",
    "np.isnan(Y_output).any()"
   ]
  },
  {
   "cell_type": "markdown",
   "metadata": {},
   "source": [
    "### randomly generate train, test and validation sets"
   ]
  },
  {
   "cell_type": "code",
   "execution_count": 4,
   "metadata": {},
   "outputs": [
    {
     "name": "stdout",
     "output_type": "stream",
     "text": [
      "Dataset: train 90.0%, test 10.0%\n",
      "no overlapping indecies\n"
     ]
    }
   ],
   "source": [
    "# TRAIN AND TEST ONLY\n",
    "# randomnly generate train, test and validation time indecies \n",
    "import random\n",
    "time_ind = X_input.shape[0]\n",
    "rand_ind = np.arange(time_ind)\n",
    "rand_seed = 14\n",
    "random.Random(rand_seed).shuffle(rand_ind)\n",
    "train_percent = 0.9\n",
    "test_percent = 0.1 \n",
    "print(f\"Dataset: train {np.round(train_percent*100)}%, test {np.round(test_percent*100)}%\")\n",
    "train_ind, test_ind =  rand_ind[:round(train_percent*time_ind)], rand_ind[round((train_percent)*time_ind):]                                                                        \n",
    "\n",
    "# check no overlapping indecies\n",
    "if np.intersect1d(train_ind, test_ind).any():\n",
    "    print('overlapping indecies')\n",
    "else:\n",
    "    print ('no overlapping indecies')\n",
    "    "
   ]
  },
  {
   "cell_type": "markdown",
   "metadata": {},
   "source": [
    "### defined train, test and val dataloaders"
   ]
  },
  {
   "cell_type": "code",
   "execution_count": 5,
   "metadata": {},
   "outputs": [
    {
     "name": "stdout",
     "output_type": "stream",
     "text": [
      "TRAIN\n",
      "X input shape:\n",
      "(7614, 3, 40, 40)\n",
      "Y output shape:\n",
      "(7614, 1, 40, 40)\n",
      "\n",
      "TEST\n",
      "X input shape:\n",
      "(846, 3, 40, 40)\n",
      "Y output shape:\n",
      "(846, 1, 40, 40)\n",
      "\n"
     ]
    }
   ],
   "source": [
    "# Define X,Y pairs (state, subgrid fluxes) for local network.local_torch_dataset = Data.TensorDataset(\n",
    "BATCH_SIZE = 64  # Number of sample in each batch\n",
    "\n",
    "\n",
    "###### training dataset #######\n",
    "torch_dataset_train = Data.TensorDataset(\n",
    "    torch.from_numpy(X_input[train_ind]).double(),\n",
    "    torch.from_numpy(Y_output[train_ind]).double(),\n",
    ")\n",
    "\n",
    "loader_train = Data.DataLoader(\n",
    "    dataset=torch_dataset_train, batch_size=BATCH_SIZE, shuffle=True\n",
    ")\n",
    "print('TRAIN')\n",
    "print('X input shape:')\n",
    "print( X_input[train_ind].shape)\n",
    "print('Y output shape:')\n",
    "print( Y_output[train_ind].shape)\n",
    "print('')\n",
    "\n",
    "###### test dataset #######\n",
    "torch_dataset_test = Data.TensorDataset(\n",
    "    torch.from_numpy(X_input[test_ind]).double(),\n",
    "    torch.from_numpy(Y_output[test_ind]).double(),    \n",
    ")\n",
    "\n",
    "BATCH_SIZE_TEST = len(torch_dataset_test)\n",
    "\n",
    "loader_test = Data.DataLoader(\n",
    "    dataset=torch_dataset_test, batch_size=BATCH_SIZE_TEST, shuffle=False\n",
    ")\n",
    "\n",
    "print('TEST')\n",
    "print('X input shape:')\n",
    "print( X_input[test_ind].shape)\n",
    "print('Y output shape:')\n",
    "print( Y_output[test_ind].shape)\n",
    "print('')\n",
    "\n"
   ]
  },
  {
   "cell_type": "markdown",
   "metadata": {},
   "source": [
    "## CNN - direct fluxes 3 output channels"
   ]
  },
  {
   "cell_type": "code",
   "execution_count": 6,
   "metadata": {},
   "outputs": [],
   "source": [
    "# define network structure in pytorch\n",
    "import torch.nn.functional as FF\n",
    "\n",
    "class CNN_direct(nn.Module):\n",
    "    def __init__(self):\n",
    "        super().__init__()\n",
    "        self.conv1 = nn.Conv2d(3, 128, 15, padding='same', padding_mode='reflect')  # 7 inputs, 128 neurons for first hidden layer\n",
    "        self.conv1_bn=nn.BatchNorm2d(128)\n",
    "        self.conv2 = nn.Conv2d(128, 64, 15, padding='same', padding_mode='reflect')  # 128 inputs, 64 neurons for first hidden layer\n",
    "        self.conv2_bn=nn.BatchNorm2d(64)\n",
    "        self.conv3 = nn.Conv2d(64, 48, 15, padding='same', padding_mode='reflect')  # 64 inputs, 32 neurons for first hidden layer\n",
    "        self.conv3_bn=nn.BatchNorm2d(48)  \n",
    "        self.conv4 = nn.Conv2d(48, 32, 15, padding='same', padding_mode='reflect')  # 32 inputs, 16 neurons for first hidden layer\n",
    "        self.conv4_bn=nn.BatchNorm2d(32) \n",
    "        self.conv5 = nn.Conv2d(32, 16, 15, padding='same', padding_mode='reflect')  # 64 inputs, 32 neurons for first hidden layer\n",
    "        self.conv5_bn=nn.BatchNorm2d(16)  \n",
    "        self.conv6 = nn.Conv2d(16, 8, 15, padding='same', padding_mode='reflect')  # 32 inputs, 16 neurons for first hidden layer\n",
    "        self.conv6_bn=nn.BatchNorm2d(8) \n",
    "        self.conv7 = nn.Conv2d(8, 1, 15, padding='same', padding_mode='reflect')  # 16 inputs, 1 neurons for first hidden layer\n",
    "        self.conv7_bn=nn.BatchNorm2d(1) \n",
    "\n",
    "    def forward(self, x):\n",
    "        x = self.conv1(x)\n",
    "        x = F.relu(self.conv1_bn(x))\n",
    "        x = self.conv2(x)\n",
    "        x = F.relu(self.conv2_bn(x))\n",
    "        x = self.conv3(x)\n",
    "        x = F.relu(self.conv3_bn(x))\n",
    "        x = self.conv4(x)\n",
    "        x = F.relu(self.conv4_bn(x))\n",
    "        x = self.conv5(x)\n",
    "        x = F.relu(self.conv5_bn(x))\n",
    "        x = self.conv6(x)\n",
    "        x = F.relu(self.conv6_bn(x))\n",
    "        x = self.conv7(x)\n",
    "        x = self.conv7_bn(x)\n",
    "        return x\n",
    " \n",
    "    \n"
   ]
  },
  {
   "cell_type": "markdown",
   "metadata": {},
   "source": [
    "## Train and test model: direct fluxes"
   ]
  },
  {
   "cell_type": "code",
   "execution_count": 10,
   "metadata": {},
   "outputs": [],
   "source": [
    "# train network \n",
    "def train_model_direct(net, criterion, trainloader, optimizer, len_train_dataset, text=\"train\"):\n",
    "    device = torch.device(\"cuda:0\" if torch.cuda.is_available() else \"cpu\")\n",
    "    net.to(device)\n",
    "    device_name = torch.cuda.get_device_name(0) if torch.cuda.is_available() else \"cpu\"\n",
    "    print(f\"Training starts on device {device_name}, number of samples {len(trainloader)}\")\n",
    "    \n",
    "    net.train()\n",
    "    train_loss = 0\n",
    "    for step, (batch_x, batch_y) in enumerate(trainloader):  # for each training step\n",
    "        b_x = Variable(batch_x)  # Inputs\n",
    "        b_y = Variable(batch_y)  # outputs\n",
    "        prediction = net(b_x.to(device))\n",
    "        loss = criterion(prediction, b_y.to(device))  # Calculating loss\n",
    "        optimizer.zero_grad()  # clear gradients for next train\n",
    "        loss.backward()  # backpropagation, compute gradients\n",
    "        optimizer.step()  # apply gradients to update weights\n",
    "        nb = b_y.shape[0]\n",
    "        train_loss = train_loss + nb * loss.detach().cpu().numpy()  # Keep track of the loss\n",
    "    train_loss /= len_train_dataset  # dividing by the number of batches\n",
    "    print(text + \" loss:\", train_loss)\n",
    "    return train_loss\n",
    "\n",
    "\n",
    "def test_model_direct(net, criterion, testloader, optimizer,len_test_dataset, text=\"test\"):\n",
    "    device = torch.device(\"cuda:0\" if torch.cuda.is_available() else \"cpu\")\n",
    "    net.to(device)\n",
    "    device_name = torch.cuda.get_device_name(0) if torch.cuda.is_available() else \"cpu\"\n",
    "    print(f\"Training starts on device {device_name}, number of samples {len(testloader)}\")\n",
    "    \n",
    "    net.eval()  # Evaluation mode (important when having dropout layers)\n",
    "    test_loss = 0\n",
    "    with torch.no_grad():\n",
    "        for step, (batch_x, batch_y) in enumerate(\n",
    "            testloader\n",
    "        ):  # for each training step\n",
    "            b_x = Variable(batch_x)  # Inputs\n",
    "            b_y = Variable(batch_y)  # outputs\n",
    "            prediction = net(b_x.to(device))\n",
    "            loss = criterion(prediction, b_y.to(device))  # Calculating loss\n",
    "            nb = b_y.shape[0]\n",
    "            test_loss = test_loss + nb * loss.detach().cpu().numpy()  # Keep track of the loss\n",
    "        test_loss /= len_test_dataset  # dividing by the number of batches\n",
    "        #         print(len(trainloader))\n",
    "        print(text + \" loss:\", test_loss)\n",
    "    return test_loss\n",
    "\n",
    "\n",
    "\n",
    "def plot_model_direct(net, criterion, testloader, len_test_dataset, text=\"test\"):\n",
    "    device = torch.device(\"cuda:0\" if torch.cuda.is_available() else \"cpu\")\n",
    "    net.to(device)\n",
    "    device_name = torch.cuda.get_device_name(0) if torch.cuda.is_available() else \"cpu\"\n",
    "    print(f\"Training starts on device {device_name}, number of samples {len(testloader)}\")\n",
    "    \n",
    "    net.eval()  # Evaluation mode (important when having dropout layers)\n",
    "    test_loss = 0\n",
    "    #with torch.no_grad():\n",
    "    for step, (batch_x, batch_y) in enumerate(\n",
    "        testloader\n",
    "    ):  # for each training step\n",
    "        b_x = Variable(batch_x, requires_grad=True)  # Inputs\n",
    "        b_y = Variable(batch_y)  # outputs\n",
    "        prediction = net(b_x.to(device))\n",
    "        loss = criterion(prediction, b_y.to(device))  # Calculating loss\n",
    "        nb = b_y.shape[0]\n",
    "        test_loss = test_loss + nb * loss.detach().cpu().numpy()  # Keep track of the loss\n",
    "    test_loss /= len_test_dataset  # dividing by the number of batches\n",
    "    #         print(len(trainloader))\n",
    "    print(text + \" loss:\", test_loss)\n",
    "    return b_x, b_y, prediction\n",
    "\n",
    "\n",
    "criterion = torch.nn.MSELoss()  # MSE loss function\n",
    "\n",
    "\n"
   ]
  },
  {
   "cell_type": "markdown",
   "metadata": {},
   "source": [
    "## train CNN!"
   ]
  },
  {
   "cell_type": "code",
   "execution_count": null,
   "metadata": {},
   "outputs": [
    {
     "name": "stdout",
     "output_type": "stream",
     "text": [
      "epoch: 1\n",
      "Training starts on device Quadro RTX 8000, number of samples 119\n",
      "train loss: 0.9251381519855346\n",
      "Training starts on device Quadro RTX 8000, number of samples 1\n",
      "test loss: 0.8633671682056694\n",
      "epoch: 2\n",
      "Training starts on device Quadro RTX 8000, number of samples 119\n",
      "train loss: 0.8857624898756262\n",
      "Training starts on device Quadro RTX 8000, number of samples 1\n",
      "test loss: 0.858854634232585\n",
      "epoch: 3\n",
      "Training starts on device Quadro RTX 8000, number of samples 119\n",
      "train loss: 0.8751040266075224\n",
      "Training starts on device Quadro RTX 8000, number of samples 1\n",
      "test loss: 0.8570222795050545\n",
      "epoch: 4\n",
      "Training starts on device Quadro RTX 8000, number of samples 119\n",
      "train loss: 0.8675190308667922\n",
      "Training starts on device Quadro RTX 8000, number of samples 1\n",
      "test loss: 0.8643845242517458\n",
      "epoch: 5\n",
      "Training starts on device Quadro RTX 8000, number of samples 119\n",
      "train loss: 0.8556257707007157\n",
      "Training starts on device Quadro RTX 8000, number of samples 1\n",
      "test loss: 0.8768897905043859\n",
      "epoch: 6\n",
      "Training starts on device Quadro RTX 8000, number of samples 119\n",
      "train loss: 0.8424289790737759\n",
      "Training starts on device Quadro RTX 8000, number of samples 1\n",
      "test loss: 0.8225960298551859\n",
      "epoch: 7\n",
      "Training starts on device Quadro RTX 8000, number of samples 119\n",
      "train loss: 0.8234644218026772\n",
      "Training starts on device Quadro RTX 8000, number of samples 1\n",
      "test loss: 0.8192886419581901\n",
      "epoch: 8\n",
      "Training starts on device Quadro RTX 8000, number of samples 119\n",
      "train loss: 0.8071096843855236\n",
      "Training starts on device Quadro RTX 8000, number of samples 1\n",
      "test loss: 0.7919978949907371\n",
      "epoch: 9\n",
      "Training starts on device Quadro RTX 8000, number of samples 119\n",
      "train loss: 0.7919122227681858\n",
      "Training starts on device Quadro RTX 8000, number of samples 1\n",
      "test loss: 0.7832355216396519\n",
      "epoch: 10\n",
      "Training starts on device Quadro RTX 8000, number of samples 119\n",
      "train loss: 0.7766151381888888\n",
      "Training starts on device Quadro RTX 8000, number of samples 1\n",
      "test loss: 0.7849684296480282\n",
      "epoch: 11\n",
      "Training starts on device Quadro RTX 8000, number of samples 119\n",
      "train loss: 0.7674934191756817\n",
      "Training starts on device Quadro RTX 8000, number of samples 1\n",
      "test loss: 0.7523943947113944\n",
      "epoch: 12\n",
      "Training starts on device Quadro RTX 8000, number of samples 119\n",
      "train loss: 0.757548763098566\n",
      "Training starts on device Quadro RTX 8000, number of samples 1\n",
      "test loss: 0.7330836349987881\n",
      "epoch: 13\n",
      "Training starts on device Quadro RTX 8000, number of samples 119\n",
      "train loss: 0.742419365458102\n",
      "Training starts on device Quadro RTX 8000, number of samples 1\n",
      "test loss: 0.7379058657533996\n",
      "epoch: 14\n",
      "Training starts on device Quadro RTX 8000, number of samples 119\n",
      "train loss: 0.7286575850308565\n",
      "Training starts on device Quadro RTX 8000, number of samples 1\n",
      "test loss: 0.7254363130768339\n",
      "epoch: 15\n",
      "Training starts on device Quadro RTX 8000, number of samples 119\n",
      "train loss: 0.7201814487416615\n",
      "Training starts on device Quadro RTX 8000, number of samples 1\n",
      "test loss: 0.6992233192289219\n",
      "epoch: 16\n",
      "Training starts on device Quadro RTX 8000, number of samples 119\n",
      "train loss: 0.7079746390595353\n",
      "Training starts on device Quadro RTX 8000, number of samples 1\n",
      "test loss: 0.6804978908733165\n",
      "epoch: 17\n",
      "Training starts on device Quadro RTX 8000, number of samples 119\n"
     ]
    }
   ],
   "source": [
    "torch.manual_seed(14)  # For reproducibility\n",
    "cnn_submeso = CNN_direct().double()\n",
    "\n",
    "n_epochs = 100  # Number of epocs could be increased\n",
    "optimizer = optim.Adam(cnn_submeso.parameters(), lr=0.1)\n",
    "test_loss = list()\n",
    "train_loss = list()\n",
    "for epoch in range(1, n_epochs + 1):\n",
    "    print(\"epoch:\", epoch)\n",
    "    train_loss.append(train_model_direct(cnn_submeso, criterion, loader_train, optimizer,len(torch_dataset_train)))\n",
    "    test_loss.append(test_model_direct(cnn_submeso, criterion, loader_test, optimizer,len(torch_dataset_test)))\n",
    "\n",
    "torch.save(cnn_submeso, PATH_NN_surface+'cnn_7l_k15_surface_inputs.pth')"
   ]
  },
  {
   "cell_type": "code",
   "execution_count": null,
   "metadata": {},
   "outputs": [],
   "source": [
    "import matplotlib.pyplot as plt\n",
    "\n",
    "plt.plot(train_loss[1:], \"b\", linewidth=3,label=\"training loss\")\n",
    "plt.plot(test_loss[1:], \"lightblue\",linewidth=3, label=\"test loss\")\n",
    "plt.xlabel('Epochs')\n",
    "plt.ylabel('MSE Loss')\n",
    "plt.legend();"
   ]
  },
  {
   "cell_type": "code",
   "execution_count": null,
   "metadata": {},
   "outputs": [],
   "source": [
    "plt.savefig('./cnn_7l_k15_surface_inputs_loss.png')"
   ]
  },
  {
   "cell_type": "code",
   "execution_count": 47,
   "metadata": {},
   "outputs": [],
   "source": [
    "cnn_submeso = torch.load(PATH_NN_surface+'cnn_7l_k5_surface_inputs.pth')\n"
   ]
  },
  {
   "cell_type": "code",
   "execution_count": 48,
   "metadata": {},
   "outputs": [
    {
     "data": {
      "text/plain": [
       "346691"
      ]
     },
     "execution_count": 48,
     "metadata": {},
     "output_type": "execute_result"
    }
   ],
   "source": [
    "total_params = sum(\n",
    "\tparam.numel() for param in cnn_submeso.parameters()\n",
    ")\n",
    "total_params\n"
   ]
  },
  {
   "cell_type": "code",
   "execution_count": 49,
   "metadata": {},
   "outputs": [
    {
     "name": "stdout",
     "output_type": "stream",
     "text": [
      "Training starts on device Quadro RTX 8000, number of samples 1\n",
      "test loss: 0.3084803222365302\n"
     ]
    }
   ],
   "source": [
    "b_x, b_y, prediction = plot_model_direct(cnn_submeso, criterion, loader_test,len(torch_dataset_test))"
   ]
  },
  {
   "cell_type": "code",
   "execution_count": 39,
   "metadata": {},
   "outputs": [],
   "source": [
    "# compare with FK\n",
    "#WB_FK = np.load(PATH_NN+'WB_FK.npy')\n",
    "#WB_FK_test = WB_FK[test_ind]\n",
    "\n",
    "# compare with FK_Lf\n",
    "#Lf_FK11 = np.load(PATH_NN+'Lf_FK11.npy')\n",
    "#Lf_FK11_test = Lf_FK11[test_ind]\n",
    "\n",
    "# compare with Bod_Lf\n",
    "#Lf_BD23 = np.load(PATH_NN+'Lf_BD23.npy')\n",
    "#Lf_BD23_test = Lf_BD23[test_ind]\n",
    "\n",
    "# renormalize using mean and std \n",
    "WB_sg_mean_test = WB_sg_mean[test_ind]\n",
    "WB_sg_std_test = WB_sg_std[test_ind] "
   ]
  },
  {
   "cell_type": "code",
   "execution_count": 18,
   "metadata": {},
   "outputs": [
    {
     "name": "stdout",
     "output_type": "stream",
     "text": [
      "correlation between prediction and target,  w'b': (0.8276855391967401, 0.0)\n"
     ]
    }
   ],
   "source": [
    "from scipy import stats\n",
    "\n",
    "device = torch.device(\"cuda:0\" if torch.cuda.is_available() else \"cpu\")\n",
    "\n",
    "corr_pred_wb = stats.pearsonr(cnn_submeso(b_x.to(device)).detach().cpu().numpy().flatten(), b_y.flatten())\n",
    "\n",
    "print(\"correlation between prediction and target,  w'b':\",corr_pred_wb )"
   ]
  },
  {
   "cell_type": "code",
   "execution_count": 40,
   "metadata": {},
   "outputs": [],
   "source": [
    "mean_tile = np.transpose(np.tile(WB_sg_mean_test,(40,40,1,1)))\n",
    "std_tile = np.transpose(np.tile(WB_sg_std_test,(40,40,1,1)))"
   ]
  },
  {
   "cell_type": "code",
   "execution_count": 36,
   "metadata": {},
   "outputs": [
    {
     "data": {
      "text/plain": [
       "Text(0.5, 0, '$\\\\overline{wb}^z$')"
      ]
     },
     "execution_count": 36,
     "metadata": {},
     "output_type": "execute_result"
    },
    {
     "data": {
      "image/png": "[encoded data removed]",
      "text/plain": [
       "<Figure size 1080x360 with 3 Axes>"
      ]
     },
     "metadata": {
      "needs_background": "light"
     },
     "output_type": "display_data"
    }
   ],
   "source": [
    "plt.subplots(nrows=1, ncols=3, figsize=(15, 5))\n",
    "\n",
    "plt.subplot(131)\n",
    "_=plt.hist(((0.07*17e3/np.maximum(Lf_FK11_test[:],5000))*WB_FK_test[:]).flatten(),bins=1000,alpha=0.5,histtype='stepfilled',label=\"FK11 param\")\n",
    "_=plt.hist((b_y.detach().cpu().numpy()*std_tile + mean_tile).flatten(),bins=1000,alpha=0.5,histtype='stepfilled',label=\"LLC4320\")\n",
    "plt.xlim([-.5e-8,3.5e-8])\n",
    "plt.ylim([0,3e5])\n",
    "plt.legend()\n",
    "plt.xlabel('$\\overline{wb}^z$',fontsize=12)\n",
    "\n",
    "plt.subplot(132)\n",
    "_=plt.hist(((0.07*17e3/np.maximum(Lf_BD23_test[:],5000))*WB_FK_test[:]).flatten(),bins=1000,alpha=0.5,histtype='stepfilled',label=\"Bodner23 param\")\n",
    "_=plt.hist((b_y.detach().cpu().numpy()*std_tile + mean_tile).flatten(),bins=1000,alpha=0.5,histtype='stepfilled',label=\"LLC4320\")\n",
    "plt.xlim([-.5e-8,3.5e-8])\n",
    "plt.ylim([0,3e5])\n",
    "plt.legend()\n",
    "plt.xlabel('$\\overline{wb}^z$',fontsize=12)\n",
    "\n",
    "\n",
    "plt.subplot(133)\n",
    "_=plt.hist((cnn_submeso(b_x.to(device)).detach().cpu().numpy()*std_tile + mean_tile).flatten(),bins=1000,alpha=0.5,histtype='stepfilled',label=\"CNN prediction\")\n",
    "_=plt.hist((b_y.detach().cpu().numpy()*std_tile + mean_tile).flatten(),bins=1000,alpha=0.5,histtype='stepfilled',label=\"LLC4320\")\n",
    "plt.xlim([-.5e-8,3.5e-8])\n",
    "plt.ylim([0,3e5])\n",
    "plt.legend()\n",
    "plt.xlabel('$\\overline{wb}^z$',fontsize=12)\n",
    "\n",
    "\n",
    "\n",
    "#plt.savefig(BASE+'plots/cnn_prediction_hist.png')\n",
    "#plt.xlabel('$\\overline{wb}^z$')\n"
   ]
  },
  {
   "cell_type": "code",
   "execution_count": 41,
   "metadata": {},
   "outputs": [
    {
     "data": {
      "text/plain": [
       "Text(0.5, 0, '$\\\\overline{wb}^z$')"
      ]
     },
     "execution_count": 41,
     "metadata": {},
     "output_type": "execute_result"
    },
    {
     "data": {
      "image/png": "[encoded data removed]",
      "text/plain": [
       "<Figure size 432x288 with 1 Axes>"
      ]
     },
     "metadata": {
      "needs_background": "light"
     },
     "output_type": "display_data"
    }
   ],
   "source": [
    "_=plt.hist((cnn_submeso(b_x.to(device)).detach().cpu().numpy()*std_tile + mean_tile).flatten(),bins=1000,alpha=0.5,histtype='stepfilled',label=\"CNN prediction\")\n",
    "_=plt.hist((b_y.detach().cpu().numpy()*std_tile + mean_tile).flatten(),bins=1000,alpha=0.5,histtype='stepfilled',label=\"LLC4320\")\n",
    "plt.xlim([-.5e-8,3.5e-8])\n",
    "plt.ylim([0,3e5])\n",
    "plt.legend()\n",
    "plt.xlabel('$\\overline{wb}^z$',fontsize=12)"
   ]
  },
  {
   "cell_type": "code",
   "execution_count": 18,
   "metadata": {},
   "outputs": [],
   "source": [
    "target_da = xr.DataArray((b_y.detach().cpu().numpy()*std_tile + mean_tile), dims=[\"time\", \"axis\", \"i\",\"j\"])[:,0,:,:]\n",
    "param_FK11_da = xr.DataArray((0.07*25e3/np.maximum(Lf_FK11_test[:],5000))*WB_FK_test[:], dims=[\"time\", \"i\",\"j\"])\n",
    "param_BD23_da = xr.DataArray((0.07*25e3/np.maximum(Lf_BD23_test[:],5000))*WB_FK_test[:], dims=[\"time\", \"i\",\"j\"])\n",
    "prediction_da = xr.DataArray((cnn_submeso(b_x.to(device)).detach().cpu().numpy()*std_tile + mean_tile), dims=[\"time\", \"axis\", \"i\",\"j\"])[:,0,:,:]"
   ]
  },
  {
   "cell_type": "code",
   "execution_count": 19,
   "metadata": {},
   "outputs": [
    {
     "name": "stderr",
     "output_type": "stream",
     "text": [
      "/home/ab10313/.local/lib/python3.9/site-packages/xrft/xrft.py:47: FutureWarning: Please provide the name of window adhering to scipy.signal.windows. The boolean option will be deprecated in future releases.\n",
      "  warnings.warn(\n",
      "/home/ab10313/.local/lib/python3.9/site-packages/xrft/xrft.py:1025: FutureWarning: Isotropic wavenumber larger than the Nyquist wavenumber may result.\n",
      "  warnings.warn(msg, FutureWarning)\n",
      "/home/ab10313/.local/lib/python3.9/site-packages/xrft/xrft.py:47: FutureWarning: Please provide the name of window adhering to scipy.signal.windows. The boolean option will be deprecated in future releases.\n",
      "  warnings.warn(\n",
      "/home/ab10313/.local/lib/python3.9/site-packages/xrft/xrft.py:1025: FutureWarning: Isotropic wavenumber larger than the Nyquist wavenumber may result.\n",
      "  warnings.warn(msg, FutureWarning)\n",
      "/home/ab10313/.local/lib/python3.9/site-packages/xrft/xrft.py:47: FutureWarning: Please provide the name of window adhering to scipy.signal.windows. The boolean option will be deprecated in future releases.\n",
      "  warnings.warn(\n",
      "/home/ab10313/.local/lib/python3.9/site-packages/xrft/xrft.py:1025: FutureWarning: Isotropic wavenumber larger than the Nyquist wavenumber may result.\n",
      "  warnings.warn(msg, FutureWarning)\n",
      "/home/ab10313/.local/lib/python3.9/site-packages/xrft/xrft.py:47: FutureWarning: Please provide the name of window adhering to scipy.signal.windows. The boolean option will be deprecated in future releases.\n",
      "  warnings.warn(\n",
      "/home/ab10313/.local/lib/python3.9/site-packages/xrft/xrft.py:1025: FutureWarning: Isotropic wavenumber larger than the Nyquist wavenumber may result.\n",
      "  warnings.warn(msg, FutureWarning)\n"
     ]
    }
   ],
   "source": [
    "import xrft\n",
    "\n",
    "# target vs prediction spectra\n",
    "\n",
    "WsBs_target_spectra = xrft.isotropic_power_spectrum(target_da,dim=['i','j'], \n",
    "                                           detrend='linear', window=True).compute().mean('time')\n",
    "\n",
    "WsBs_prediction_spectra = xrft.isotropic_power_spectrum(prediction_da,dim=['i','j'], \n",
    "                                           detrend='linear', window=True).compute().mean('time')\n",
    "\n",
    "WsBs_param_FK11_spectra = xrft.isotropic_power_spectrum(param_FK11_da,dim=['i','j'], \n",
    "                                           detrend='linear', window=True).compute().mean('time')\n",
    "\n",
    "WsBs_param_BD23_spectra = xrft.isotropic_power_spectrum(param_BD23_da,dim=['i','j'], \n",
    "                                           detrend='linear', window=True).compute().mean('time')\n",
    "\n"
   ]
  },
  {
   "cell_type": "code",
   "execution_count": 26,
   "metadata": {},
   "outputs": [
    {
     "data": {
      "text/plain": [
       "Text(0.5, 1.0, 'WsBs')"
      ]
     },
     "execution_count": 26,
     "metadata": {},
     "output_type": "execute_result"
    },
    {
     "data": {
      "image/png": "[encoded data removed]",
      "text/plain": [
       "<Figure size 288x720 with 1 Axes>"
      ]
     },
     "metadata": {
      "needs_background": "light"
     },
     "output_type": "display_data"
    }
   ],
   "source": [
    "fig, axes = plt.subplots(nrows=1, ncols=3, figsize=(4, 10))\n",
    "fig.tight_layout() # Or equivalently,  \"plt.tight_layout()\"\n",
    "\n",
    "plt.subplot(311)\n",
    "#plt.loglog(WsBs_target_spectra.freq_r*2*np.pi, 5e-3*WsBs_target_spectra.freq_r**-2, '--',linewidth=1.5,color='black', label='k^{-2}')\n",
    "#plt.loglog(WsBs_target_spectra.freq_r*2*np.pi, 2e-3*WsBs_target_spectra.freq_r**-3, '--',linewidth=1.5,color='gray', label='k^{-3}')\n",
    "plt.loglog(WsBs_target_spectra.freq_r*2*np.pi, WsBs_target_spectra,linewidth=3, label='target')\n",
    "plt.loglog(WsBs_target_spectra.freq_r*2*np.pi, WsBs_prediction_spectra,linewidth=3, label='prediction')\n",
    "plt.loglog(WsBs_target_spectra.freq_r*2*np.pi, WsBs_param_FK11_spectra,linewidth=3, label='FK11')\n",
    "plt.loglog(WsBs_target_spectra.freq_r*2*np.pi, WsBs_param_BD23_spectra,linewidth=3, label='Bodner23')\n",
    "#plt.loglog(WsBs_target_spectra.freq_r*2*np.pi, WsBs_param_BD_spectra*WsBs_target_spectra.freq_r,linewidth=3, label='BD23')\n",
    "\n",
    "\n",
    "\n",
    "plt.legend()\n",
    "plt.xlabel('$k_r$')\n",
    "#plt.ylabel('Normalized isotropic spectra')\n",
    "plt.title('WsBs')\n",
    "#plt.ylim([1e-3,1e-1])"
   ]
  },
  {
   "cell_type": "markdown",
   "metadata": {},
   "source": [
    "# Better statistics"
   ]
  },
  {
   "cell_type": "code",
   "execution_count": 42,
   "metadata": {},
   "outputs": [],
   "source": [
    "WB_sg = xr.DataArray((b_y.detach().cpu().numpy()*std_tile + mean_tile).flatten())\n",
    "WB_cnn = xr.DataArray((cnn_submeso(b_x.to(device)).detach().cpu().numpy()*std_tile + mean_tile).flatten())"
   ]
  },
  {
   "cell_type": "code",
   "execution_count": 43,
   "metadata": {},
   "outputs": [],
   "source": [
    "WB_sg.name = 'WB_subgrid'\n",
    "WB_cnn.name = 'WB_cnn'"
   ]
  },
  {
   "cell_type": "code",
   "execution_count": 44,
   "metadata": {},
   "outputs": [],
   "source": [
    "from xhistogram.xarray import histogram as xhist\n",
    "\n",
    "\n",
    "\n",
    "xhist_CNN = xhist(WB_cnn, \n",
    "      WB_sg,\n",
    "      bins=[np.logspace(-10,-6,30), \n",
    "            np.concatenate((-np.logspace(-6,-10,30),\n",
    "                            np.concatenate((np.linspace(-9e-11,9e-11,5),\n",
    "                                            np.logspace(-10,-6,30)))))\n",
    "           ]\n",
    "     ).compute()"
   ]
  },
  {
   "cell_type": "code",
   "execution_count": 45,
   "metadata": {},
   "outputs": [
    {
     "data": {
      "text/plain": [
       "Text(0, 0.5, '$CNN prediction$')"
      ]
     },
     "execution_count": 45,
     "metadata": {},
     "output_type": "execute_result"
    },
    {
     "data": {
      "image/png": "[encoded data removed]",
      "text/plain": [
       "<Figure size 432x216 with 2 Axes>"
      ]
     },
     "metadata": {
      "needs_background": "light"
     },
     "output_type": "display_data"
    }
   ],
   "source": [
    "import matplotlib as mpl\n",
    "\n",
    "fig, ax = plt.subplots(figsize=(6,3))\n",
    "fig.set_tight_layout(True)\n",
    "\n",
    "xhist_CNN.plot(ax=ax, vmax=10000, cmap='Blues')\n",
    "\n",
    "ax.plot(np.linspace(1e-10,1e-6), np.linspace(1e-10,1e-6), c='grey', ls='--')\n",
    "ax.plot(np.linspace(-1e-6,-1e-10), np.linspace(1e-6,1e-10), c='grey', ls='--')\n",
    "ax.set_xscale('symlog', linthresh=1e-10)\n",
    "ax.set_yscale('log')\n",
    "ax.set_ylim([1e-10,1e-6])\n",
    "ax.set_xlim([-1e-6,1e-6])\n",
    "ax.set_xlabel(r\"$\\overline{wb}^z-\\overline{w}^z\\overline{b}^z$\", fontsize=13)\n",
    "ax.set_ylabel(r\"$CNN prediction$\", \n",
    "              fontsize=13)\n",
    "\n",
    "#plt.savefig(op.join(sdir,'Figs/eNATL60-wb_medianCr-hist_region%02d.pdf' % reg))"
   ]
  },
  {
   "cell_type": "code",
   "execution_count": 39,
   "metadata": {},
   "outputs": [
    {
     "data": {
      "text/plain": [
       "<matplotlib.legend.Legend at 0x152c9c127610>"
      ]
     },
     "execution_count": 39,
     "metadata": {},
     "output_type": "execute_result"
    },
    {
     "data": {
      "image/png": "[encoded data removed]",
      "text/plain": [
       "<Figure size 432x288 with 1 Axes>"
      ]
     },
     "metadata": {
      "needs_background": "light"
     },
     "output_type": "display_data"
    }
   ],
   "source": [
    "fig, ax = plt.subplots(figsize=(6,4))\n",
    "fig.set_tight_layout(True)\n",
    "\n",
    "#xhist(WB_Bodner23_param, \n",
    "#      bins=[np.concatenate((-np.logspace(-6,-11,30),\n",
    "#                            np.concatenate((np.linspace(-9e-12,9e-12,5),\n",
    "#                                            np.logspace(-11,-4,30)))))\n",
    "#           ]\n",
    "     ).plot(ax=ax, label=r\"Bodner23\")\n",
    "xhist(WB_cnn, \n",
    "      bins=[np.concatenate((-np.logspace(-6,-11,30),\n",
    "                            np.concatenate((np.linspace(-9e-12,9e-12,5),\n",
    "                                            np.logspace(-11,-4,30)))))\n",
    "           ]\n",
    "     ).plot(ax=ax, label=r\"CNN\")\n",
    "xhist(WB_FK11_param, \n",
    "      bins=[np.concatenate((-np.logspace(-6,-11,30),\n",
    "                            np.concatenate((np.linspace(-9e-12,9e-12,5),\n",
    "                                            np.logspace(-11,-4,30)))))\n",
    "           ]\n",
    "     ).plot(ax=ax, label=r\"Bodner23\")\n",
    "xhist(WB_sg, \n",
    "      bins=[np.concatenate((-np.logspace(-6,-11,30),\n",
    "                            np.concatenate((np.linspace(-9e-12,9e-12,5),\n",
    "                                            np.logspace(-11,-4,30)))))\n",
    "           ]\n",
    "     ).plot(ax=ax, label=r\"$\\overline{wb}^z-\\overline{w}^z\\overline{b}^z$\")\n",
    "ax.set_xscale('symlog', linthresh=1e-11)\n",
    "ax.set_xlabel(r\"[m$^2$ s$^{-3}$]\", fontsize=13)\n",
    "ax.legend(loc='upper left', fontsize=12)\n",
    "#plt.savefig(op.join(sdir,'Figs/eNATL60-wb-1Dhist_region%02d.pdf' % reg))"
   ]
  },
  {
   "cell_type": "code",
   "execution_count": 40,
   "metadata": {},
   "outputs": [
    {
     "data": {
      "text/plain": [
       "<matplotlib.legend.Legend at 0x152c9c4e5d90>"
      ]
     },
     "execution_count": 40,
     "metadata": {},
     "output_type": "execute_result"
    },
    {
     "data": {
      "image/png": "[encoded data removed]",
      "text/plain": [
       "<Figure size 432x288 with 1 Axes>"
      ]
     },
     "metadata": {
      "needs_background": "light"
     },
     "output_type": "display_data"
    }
   ],
   "source": [
    "fig, ax = plt.subplots(figsize=(6,4))\n",
    "fig.set_tight_layout(True)\n",
    "\n",
    "#xhist(WB_Bodner23_param, \n",
    "#      bins=[np.concatenate((-np.logspace(-6,-11,30),\n",
    "#                            np.concatenate((np.linspace(-9e-12,9e-12,5),\n",
    "#                                            np.logspace(-11,-4,30)))))\n",
    "#           ]\n",
    "#     ).plot(ax=ax, label=r\"Bodner23\")\n",
    "#xhist(WB_cnn, \n",
    "#      bins=[np.concatenate((-np.logspace(-6,-11,30),\n",
    "#                            np.concatenate((np.linspace(-9e-12,9e-12,5),\n",
    "#                                            np.logspace(-11,-4,30)))))\n",
    "#           ]\n",
    "#     ).plot(ax=ax, label=r\"CNN\")\n",
    "xhist(WB_FK11_param, \n",
    "      bins=[np.concatenate((-np.logspace(-6,-11,30),\n",
    "                            np.concatenate((np.linspace(-9e-12,9e-12,5),\n",
    "                                            np.logspace(-11,-4,30)))))\n",
    "           ]\n",
    "     ).plot(ax=ax, label=r\"Bodner23\")\n",
    "xhist(WB_sg, \n",
    "      bins=[np.concatenate((-np.logspace(-6,-11,30),\n",
    "                            np.concatenate((np.linspace(-9e-12,9e-12,5),\n",
    "                                            np.logspace(-11,-4,30)))))\n",
    "           ]\n",
    "     ).plot(ax=ax, label=r\"$\\overline{wb}^z-\\overline{w}^z\\overline{b}^z$\")\n",
    "ax.set_xscale('symlog', linthresh=1e-11)\n",
    "ax.set_xlabel(r\"[m$^2$ s$^{-3}$]\", fontsize=13)\n",
    "ax.legend(loc='upper left', fontsize=12)\n",
    "#plt.savefig(op.join(sdir,'Figs/eNATL60-wb-1Dhist_region%02d.pdf' % reg))"
   ]
  },
  {
   "cell_type": "code",
   "execution_count": null,
   "metadata": {},
   "outputs": [],
   "source": []
  }
 ],
 "metadata": {
  "kernelspec": {
   "display_name": "my_env",
   "language": "python",
   "name": "my_env"
  },
  "language_info": {
   "codemirror_mode": {
    "name": "ipython",
    "version": 3
   },
   "file_extension": ".py",
   "mimetype": "text/x-python",
   "name": "python",
   "nbconvert_exporter": "python",
   "pygments_lexer": "ipython3",
   "version": "3.9.5"
  }
 },
 "nbformat": 4,
 "nbformat_minor": 4
}
