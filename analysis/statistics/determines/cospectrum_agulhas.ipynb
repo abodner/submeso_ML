{
 "cells": [
  {
   "cell_type": "code",
   "execution_count": 1,
   "metadata": {},
   "outputs": [],
   "source": [
    "import numpy as np\n",
    "import matplotlib.pyplot as plt\n",
    "import os\n",
    "import xarray as xr\n",
    "import seaborn as sns\n"
   ]
  },
  {
   "cell_type": "markdown",
   "metadata": {},
   "source": [
    "# cospectrum of w and b at the surface"
   ]
  },
  {
   "cell_type": "code",
   "execution_count": 11,
   "metadata": {},
   "outputs": [],
   "source": [
    "CASE_NAME = 'agulhas/'\n",
    "BASE = '/scratch/ab10313/submeso_ML_data/'\n",
    "PATH = BASE+CASE_NAME\n",
    "\n",
    "PATH_RAW = PATH+'raw_data/'\n",
    "\n",
    "B = xr.open_dataarray(PATH_RAW+'B.nc')\n",
    "W = xr.open_dataarray(PATH_RAW+'W.nc')"
   ]
  },
  {
   "cell_type": "code",
   "execution_count": 3,
   "metadata": {},
   "outputs": [],
   "source": [
    "dxC = xr.open_dataarray(PATH_RAW+'U.nc')['dxC']\n",
    "dx = dxC.mean()"
   ]
  },
  {
   "cell_type": "code",
   "execution_count": 4,
   "metadata": {},
   "outputs": [],
   "source": [
    "B_drop = B.drop(['PHrefC', 'Z', 'drF','CS', 'Depth', 'SN', 'XC', 'YC', 'dxF', 'dyF', 'rA','hFacC'])\n",
    "W_drop = W.drop(['Zl', 'k_l', 'rhoRef','PHrefC', 'Z', 'drF','CS', 'Depth', 'SN', 'XC', 'YC', 'dxF', 'dyF', 'rA'])"
   ]
  },
  {
   "cell_type": "code",
   "execution_count": 5,
   "metadata": {},
   "outputs": [],
   "source": [
    "del B, W"
   ]
  },
  {
   "cell_type": "code",
   "execution_count": 6,
   "metadata": {},
   "outputs": [
    {
     "name": "stderr",
     "output_type": "stream",
     "text": [
      "/home/ab10313/.local/lib/python3.9/site-packages/xrft/xrft.py:47: FutureWarning: Please provide the name of window adhering to scipy.signal.windows. The boolean option will be deprecated in future releases.\n",
      "  warnings.warn(\n",
      "/home/ab10313/.local/lib/python3.9/site-packages/xrft/xrft.py:1025: FutureWarning: Isotropic wavenumber larger than the Nyquist wavenumber may result.\n",
      "  warnings.warn(msg, FutureWarning)\n"
     ]
    }
   ],
   "source": [
    "#  spectra\n",
    "import xrft\n",
    "B_spectra = xrft.isotropic_power_spectrum(B_drop.isel(time=slice(0,50)),dim=['i','j'], \n",
    "                                           detrend='linear', window=True).compute().mean('time')\n",
    "del B_drop"
   ]
  },
  {
   "cell_type": "code",
   "execution_count": 7,
   "metadata": {},
   "outputs": [
    {
     "name": "stderr",
     "output_type": "stream",
     "text": [
      "/home/ab10313/.local/lib/python3.9/site-packages/xrft/xrft.py:47: FutureWarning: Please provide the name of window adhering to scipy.signal.windows. The boolean option will be deprecated in future releases.\n",
      "  warnings.warn(\n",
      "/home/ab10313/.local/lib/python3.9/site-packages/xrft/xrft.py:1025: FutureWarning: Isotropic wavenumber larger than the Nyquist wavenumber may result.\n",
      "  warnings.warn(msg, FutureWarning)\n"
     ]
    }
   ],
   "source": [
    "W_spectra = xrft.isotropic_power_spectrum(W_drop.isel(time=slice(0,50)),dim=['i','j'], \n",
    "                                           detrend='linear', window=True).compute().mean('time')\n",
    "del W_drop"
   ]
  },
  {
   "cell_type": "code",
   "execution_count": 8,
   "metadata": {},
   "outputs": [],
   "source": [
    "WB_cross_spectra = (W_spectra*np.conjugate(B_spectra)).real"
   ]
  },
  {
   "cell_type": "code",
   "execution_count": 9,
   "metadata": {},
   "outputs": [],
   "source": [
    "k_r = B_spectra.freq_r/dx/1e-3"
   ]
  },
  {
   "cell_type": "code",
   "execution_count": 14,
   "metadata": {},
   "outputs": [
    {
     "data": {
      "text/plain": [
       "Text(0.5, 1.0, 'isotropic wb cross-spectrum')"
      ]
     },
     "execution_count": 14,
     "metadata": {},
     "output_type": "execute_result"
    },
    {
     "data": {
      "image/png": "[encoded data removed]",
      "text/plain": [
       "<Figure size 432x288 with 2 Axes>"
      ]
     },
     "metadata": {
      "needs_background": "light"
     },
     "output_type": "display_data"
    }
   ],
   "source": [
    "import matplotlib.colors as colors\n",
    "\n",
    "plt.pcolor(k_r, B.Z[:39], WB_cross_spectra[:39,:], cmap='Blues')\n",
    "plt.xscale(\"log\")\n",
    "plt.xlabel('k_r')\n",
    "plt.ylabel('Z (m)')\n",
    "plt.colorbar()\n",
    "plt.title('isotropic wb cross-spectrum')"
   ]
  },
  {
   "cell_type": "code",
   "execution_count": null,
   "metadata": {},
   "outputs": [],
   "source": []
  }
 ],
 "metadata": {
  "kernelspec": {
   "display_name": "regrid_env",
   "language": "python",
   "name": "regrid_env"
  },
  "language_info": {
   "codemirror_mode": {
    "name": "ipython",
    "version": 3
   },
   "file_extension": ".py",
   "mimetype": "text/x-python",
   "name": "python",
   "nbconvert_exporter": "python",
   "pygments_lexer": "ipython3",
   "version": "3.9.5"
  }
 },
 "nbformat": 4,
 "nbformat_minor": 4
}
