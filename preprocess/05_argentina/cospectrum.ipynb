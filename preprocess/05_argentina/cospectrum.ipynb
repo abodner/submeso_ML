{
 "cells": [
  {
   "cell_type": "code",
   "execution_count": 4,
   "metadata": {},
   "outputs": [],
   "source": [
    "import numpy as np\n",
    "import matplotlib.pyplot as plt\n",
    "import os\n",
    "import xarray as xr\n",
    "\n",
    "#path\n",
    "PATH_PP = '/scratch/ab10313/pleiades/05_argentina/preprcossed_data/'\n",
    "\n",
    "# load data\n",
    "\n",
    "lat = xr.open_dataarray(PATH_PP+'lat.nc',engine=\"h5netcdf\")\n",
    "lon = xr.open_dataarray(PATH_PP+'lon.nc',engine=\"h5netcdf\")\n",
    "\n",
    "B = xr.open_dataarray(PATH_PP+'B.nc',engine=\"h5netcdf\")\n",
    "W = xr.open_dataarray(PATH_PP+'W.nc',engine=\"h5netcdf\")\n"
   ]
  },
  {
   "cell_type": "markdown",
   "metadata": {},
   "source": [
    "# cospectrum of w and b at the surface"
   ]
  },
  {
   "cell_type": "code",
   "execution_count": 5,
   "metadata": {},
   "outputs": [],
   "source": [
    "dx = B.dxF.mean()"
   ]
  },
  {
   "cell_type": "code",
   "execution_count": 6,
   "metadata": {},
   "outputs": [],
   "source": [
    "B_drop = B.drop(['CS', 'SN', 'Depth', 'dxF', 'dyF', 'rA', 'XC', 'YC']).fillna(0)\n",
    "W_drop = W.drop(['CS', 'SN', 'Depth', 'dxF', 'dyF', 'rA', 'XC', 'YC']).fillna(0)"
   ]
  },
  {
   "cell_type": "code",
   "execution_count": 7,
   "metadata": {},
   "outputs": [
    {
     "name": "stderr",
     "output_type": "stream",
     "text": [
      "/home/ab10313/.local/lib/python3.9/site-packages/xrft/xrft.py:47: FutureWarning: Please provide the name of window adhering to scipy.signal.windows. The boolean option will be deprecated in future releases.\n",
      "  warnings.warn(\n",
      "/home/ab10313/.local/lib/python3.9/site-packages/xrft/xrft.py:1025: FutureWarning: Isotropic wavenumber larger than the Nyquist wavenumber may result.\n",
      "  warnings.warn(msg, FutureWarning)\n"
     ]
    }
   ],
   "source": [
    "#  spectra\n",
    "import xrft\n",
    "B_spectra = xrft.isotropic_power_spectrum(B_drop,dim=['i','j'], \n",
    "                                           detrend='linear', window=True).compute().mean('time')"
   ]
  },
  {
   "cell_type": "code",
   "execution_count": 8,
   "metadata": {},
   "outputs": [
    {
     "name": "stderr",
     "output_type": "stream",
     "text": [
      "/home/ab10313/.local/lib/python3.9/site-packages/xrft/xrft.py:47: FutureWarning: Please provide the name of window adhering to scipy.signal.windows. The boolean option will be deprecated in future releases.\n",
      "  warnings.warn(\n",
      "/home/ab10313/.local/lib/python3.9/site-packages/xrft/xrft.py:1025: FutureWarning: Isotropic wavenumber larger than the Nyquist wavenumber may result.\n",
      "  warnings.warn(msg, FutureWarning)\n"
     ]
    }
   ],
   "source": [
    "W_spectra = xrft.isotropic_power_spectrum(W_drop,dim=['i','j'], \n",
    "                                           detrend='linear', window=True).compute().mean('time')\n",
    "del W_drop"
   ]
  },
  {
   "cell_type": "code",
   "execution_count": 9,
   "metadata": {},
   "outputs": [],
   "source": [
    "WB_cross_spectra = (W_spectra*np.conjugate(B_spectra)).real"
   ]
  },
  {
   "cell_type": "code",
   "execution_count": 12,
   "metadata": {},
   "outputs": [],
   "source": [
    "WB_cross_spectra_r = (B_spectra*np.conjugate(W_spectra)).real"
   ]
  },
  {
   "cell_type": "code",
   "execution_count": 10,
   "metadata": {},
   "outputs": [],
   "source": [
    "k_r = B_spectra.freq_r/dx/1e-3"
   ]
  },
  {
   "cell_type": "code",
   "execution_count": 11,
   "metadata": {},
   "outputs": [
    {
     "data": {
      "text/plain": [
       "Text(0.5, 1.0, 'isotropic wb cross-spectrum')"
      ]
     },
     "execution_count": 11,
     "metadata": {},
     "output_type": "execute_result"
    },
    {
     "data": {
      "image/png": "[encoded data removed]",
      "text/plain": [
       "<Figure size 432x288 with 1 Axes>"
      ]
     },
     "metadata": {
      "needs_background": "light"
     },
     "output_type": "display_data"
    }
   ],
   "source": [
    "import matplotlib.colors as colors\n",
    "\n",
    "plt.plot(k_r,  WB_cross_spectra)\n",
    "plt.xscale(\"log\")\n",
    "plt.xlabel('k_r')\n",
    "plt.title('isotropic wb cross-spectrum')"
   ]
  },
  {
   "cell_type": "code",
   "execution_count": null,
   "metadata": {},
   "outputs": [],
   "source": []
  }
 ],
 "metadata": {
  "kernelspec": {
   "display_name": "regrid_env",
   "language": "python",
   "name": "regrid_env"
  },
  "language_info": {
   "codemirror_mode": {
    "name": "ipython",
    "version": 3
   },
   "file_extension": ".py",
   "mimetype": "text/x-python",
   "name": "python",
   "nbconvert_exporter": "python",
   "pygments_lexer": "ipython3",
   "version": "3.9.5"
  }
 },
 "nbformat": 4,
 "nbformat_minor": 4
}
