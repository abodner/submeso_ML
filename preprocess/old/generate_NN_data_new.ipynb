{
 "cells": [
  {
   "cell_type": "code",
   "execution_count": 1,
   "metadata": {},
   "outputs": [],
   "source": [
    "import numpy as np\n",
    "import matplotlib.pyplot as plt\n",
    "import os\n",
    "import xarray as xr\n",
    "import glob\n",
    "\n",
    "\n",
    "#path\n",
    "BASE = '/scratch/ab10313/pleiades/'\n",
    "\n",
    "PATH_NN = BASE+'NN_data_new/'\n",
    "#os.mkdir(PATH_NN)\n",
    "\n",
    "PATH_LIST_all = glob.glob(BASE+'*/preprcossed_data/')\n",
    "PATH_LIST_full_smooth = glob.glob(BASE+'*_smooth/preprcossed_data/')\n",
    "PATH_LIST_full = [i for i in PATH_LIST_all if i not in PATH_LIST_full_smooth]"
   ]
  },
  {
   "cell_type": "code",
   "execution_count": 2,
   "metadata": {},
   "outputs": [
    {
     "data": {
      "text/plain": [
       "['/scratch/ab10313/pleiades/10_north_pacific/preprcossed_data/',\n",
       " '/scratch/ab10313/pleiades/12_agulhas/preprcossed_data/',\n",
       " '/scratch/ab10313/pleiades/13_australia/preprcossed_data/',\n",
       " '/scratch/ab10313/pleiades/03_south_atlantic/preprcossed_data/',\n",
       " '/scratch/ab10313/pleiades/05_argentina/preprcossed_data/',\n",
       " '/scratch/ab10313/pleiades/04_equator_atlantic/preprcossed_data/',\n",
       " '/scratch/ab10313/pleiades/11_new_zealand/preprcossed_data/',\n",
       " '/scratch/ab10313/pleiades/01_gulf/preprcossed_data/',\n",
       " '/scratch/ab10313/pleiades/14_indian_ocean/preprcossed_data/',\n",
       " '/scratch/ab10313/pleiades/15_bengal/preprcossed_data/']"
      ]
     },
     "execution_count": 2,
     "metadata": {},
     "output_type": "execute_result"
    }
   ],
   "source": [
    "PATH_LIST_full"
   ]
  },
  {
   "cell_type": "code",
   "execution_count": 9,
   "metadata": {},
   "outputs": [],
   "source": [
    "# function that splits datasets along the spacial axes and concats them back into single array under time\n",
    "\n",
    "def normalize(data):\n",
    "    normalized_data =  (data - np.nanmean(data))/np.nanstd(data)\n",
    "    return normalized_data\n",
    "\n",
    "def smooth(data,time_window, coarsen_factor):\n",
    "    if len(data.dims) == 3:\n",
    "        smoothed_data = data.rolling(time=time_window, center=True).mean().dropna(dim=\"time\", how=\"all\").coarsen(i=coarsen_factor,j=coarsen_factor, boundary=\"trim\").mean()\n",
    "    elif len(data.dims) == 2:\n",
    "        smoothed_data = np.tile(data.coarsen(i=coarsen_factor,j=coarsen_factor, boundary=\"trim\").mean(),(846,1,1))\n",
    "    return smoothed_data\n",
    "\n",
    "\n",
    "def load_data_norm(var_name_string,time_window=15,coarsen_factor=12):\n",
    "    PATH_LIST_all = glob.glob(BASE+'*/preprcossed_data/')\n",
    "    PATH_LIST_full_smooth = glob.glob(BASE+'*_smooth/preprcossed_data/')\n",
    "    PATH_LIST = [i for i in PATH_LIST_all if i not in PATH_LIST_full_smooth] \n",
    "    data_0 = xr.open_dataarray(PATH_LIST[0])\n",
    "    data_smooth_0 = smooth(data_0,time_window,coarsen_factor)\n",
    "    data_smooth_norm_0 = normalize(data_smooth_0)\n",
    "    data_app = data_smooth_norm_0\n",
    "    for i_file in np.arange(1,len(PATH_LIST)):\n",
    "        PATH = PATH_LIST[i_file]\n",
    "        data = xr.open_dataarray(PATH)\n",
    "        data_smooth = smooth(data,time_window,coarsen_factor)\n",
    "        data_smooth_norm = normalize(data_smooth)\n",
    "        data_app = np.concatenate((data_app,data_smooth_norm),axis=0)\n",
    "    return data_app\n",
    "\n",
    "\n",
    "def load_data(var_name_string,time_window=15,coarsen_factor=12):\n",
    "    PATH_LIST_all = glob.glob(BASE+'*/preprcossed_data/')\n",
    "    PATH_LIST_full_smooth = glob.glob(BASE+'*_smooth/preprcossed_data/')\n",
    "    PATH_LIST = [i for i in PATH_LIST_all if i not in PATH_LIST_full_smooth] \n",
    "    data_0 = xr.open_dataarray(PATH_LIST[0])\n",
    "    data_smooth_0 = smooth(data_0,time_window,coarsen_factor)\n",
    "    data_app = data_smooth_0\n",
    "    for i_file in np.arange(1,len(PATH_LIST)):\n",
    "        PATH = PATH_LIST[i_file]\n",
    "        data = xr.open_dataarray(PATH)\n",
    "        data_smooth = smooth(data,time_window,coarsen_factor)\n",
    "        data_app = np.concatenate((data_app,data_smooth),axis=0)\n",
    "    return data_app\n",
    "\n",
    "def FK_param(PATH,time_window=15,coarsen_factor=12):\n",
    "    # FK08 parameterization inputs\n",
    "    tau = 86400\n",
    "    FCOR = smooth(xr.open_dataarray(PATH+'FCOR.nc'),time_window,coarsen_factor)\n",
    "    B_x = smooth(xr.open_dataarray(PATH+'B_x.nc'),time_window,coarsen_factor).values\n",
    "    B_y = smooth(xr.open_dataarray(PATH+'B_y.nc'),time_window,coarsen_factor).values\n",
    "    grad_B = np.sqrt(B_y**2 + B_x**2)\n",
    "    \n",
    "    HML = smooth(xr.open_dataarray(PATH+'HML.nc'),time_window,coarsen_factor).values\n",
    "    Nsquared = smooth(xr.open_dataarray(PATH+'Nsquared.nc'),time_window,coarsen_factor).values\n",
    "    \n",
    "    WB_FK = ((HML**2) * (grad_B**2))/np.abs(FCOR**2 + tau**-2)\n",
    "    WB_FK_norm = normalize(WB_FK)\n",
    "    \n",
    "    # WB FK11 with Lf rescaling factor\n",
    "   # ds = 25e3 # approx 1/4 degree resolution  ~ 25km\n",
    "   # Lf = (np.sqrt(np.abs(Nsquared))*HML)/np.sqrt(FCOR**2 + tau**-2)\n",
    "\n",
    "   # WB_FK_Lf = (ds /Lf)*((HML**2) * (grad_B**2))/np.sqrt(FCOR**2 + tau**-2)\n",
    "   # WB_FK_Lf_norm = normalize(WB_FK_Lf)\n",
    "    return WB_FK_norm\n",
    "    \n",
    "    \n",
    "def load_data_FK(time_window=15,coarsen_factor=12):\n",
    "    PATH_LIST_all = glob.glob(BASE+'*/preprcossed_data/')\n",
    "    PATH_LIST_full_smooth = glob.glob(BASE+'*_smooth/preprcossed_data/')\n",
    "    PATH_LIST_full = [i for i in PATH_LIST_all if i not in PATH_LIST_full_smooth] \n",
    "    WB_FK_norm_0 = FK_param(PATH_LIST_full[0])\n",
    "    data_app = WB_FK_norm_0\n",
    "    for i_file in np.arange(1,len(PATH_LIST_full)):\n",
    "        WB_FK_norm = FK_param(PATH_LIST_full[i_file])\n",
    "        data_app = np.concatenate((data_app,WB_FK_norm),axis=0)\n",
    "    return data_app\n",
    "    \n",
    "    \n",
    "def WB_sg(PATH,time_window=15,coarsen_factor=12):\n",
    "    # WB\n",
    "    B = smooth(xr.open_dataarray(PATH+'B.nc'),time_window,coarsen_factor).values\n",
    "    W = smooth(xr.open_dataarray(PATH+'W.nc'),time_window,coarsen_factor).values\n",
    "    WB = smooth(xr.open_dataarray(PATH+'WB.nc'),time_window,coarsen_factor).values\n",
    "    \n",
    "    # WB subgrid\n",
    "    WB_sg = WB - W*B\n",
    "    WB_sg_norm = normalize(WB_sg)\n",
    "\n",
    "    return WB_sg_norm\n",
    "\n",
    "\n",
    "    \n",
    "def load_data_WB(time_window=15,coarsen_factor=12):\n",
    "    PATH_LIST_all = glob.glob(BASE+'*/preprcossed_data/')\n",
    "    PATH_LIST_full_smooth = glob.glob(BASE+'*_smooth/preprcossed_data/')\n",
    "    PATH_LIST_full = [i for i in PATH_LIST_all if i not in PATH_LIST_full_smooth] \n",
    "    WB_sg_norm_0 = WB_sg(PATH_LIST_full[0])\n",
    "    data_app = WB_sg_norm_0\n",
    "    for i_file in np.arange(1,len(PATH_LIST_full)):\n",
    "        WB_sg_norm = FK_param(PATH_LIST_full[i_file])\n",
    "        data_app = np.concatenate((data_app,WB_sg_norm),axis=0)\n",
    "    return data_app"
   ]
  },
  {
   "cell_type": "code",
   "execution_count": 10,
   "metadata": {},
   "outputs": [],
   "source": [
    "WB_FK = load_data_FK()\n",
    "\n",
    "WB_sg = load_data_WB()"
   ]
  },
  {
   "cell_type": "code",
   "execution_count": 11,
   "metadata": {},
   "outputs": [
    {
     "data": {
      "text/plain": [
       "(8460, 40, 40)"
      ]
     },
     "execution_count": 11,
     "metadata": {},
     "output_type": "execute_result"
    }
   ],
   "source": [
    "WB_FK.shape"
   ]
  },
  {
   "cell_type": "code",
   "execution_count": 12,
   "metadata": {},
   "outputs": [
    {
     "name": "stderr",
     "output_type": "stream",
     "text": [
      "/ext3/miniconda3/lib/python3.9/site-packages/xarray/backends/plugins.py:117: RuntimeWarning: 'netcdf4' fails while guessing\n",
      "  warnings.warn(f\"{engine!r} fails while guessing\", RuntimeWarning)\n",
      "/ext3/miniconda3/lib/python3.9/site-packages/xarray/backends/plugins.py:117: RuntimeWarning: 'h5netcdf' fails while guessing\n",
      "  warnings.warn(f\"{engine!r} fails while guessing\", RuntimeWarning)\n",
      "/ext3/miniconda3/lib/python3.9/site-packages/xarray/backends/plugins.py:117: RuntimeWarning: 'scipy' fails while guessing\n",
      "  warnings.warn(f\"{engine!r} fails while guessing\", RuntimeWarning)\n",
      "/ext3/miniconda3/lib/python3.9/site-packages/xarray/backends/plugins.py:126: RuntimeWarning: 'netcdf4' fails while guessing\n",
      "  warnings.warn(f\"{engine!r} fails while guessing\", RuntimeWarning)\n",
      "/ext3/miniconda3/lib/python3.9/site-packages/xarray/backends/plugins.py:126: RuntimeWarning: 'h5netcdf' fails while guessing\n",
      "  warnings.warn(f\"{engine!r} fails while guessing\", RuntimeWarning)\n",
      "/ext3/miniconda3/lib/python3.9/site-packages/xarray/backends/plugins.py:126: RuntimeWarning: 'scipy' fails while guessing\n",
      "  warnings.warn(f\"{engine!r} fails while guessing\", RuntimeWarning)\n"
     ]
    },
    {
     "ename": "ValueError",
     "evalue": "did not find a match in any of xarray's currently installed IO backends ['netcdf4', 'h5netcdf', 'scipy', 'zarr']. Consider explicitly selecting one of the installed engines via the ``engine`` parameter, or installing additional IO dependencies, see:\nhttps://docs.xarray.dev/en/stable/getting-started-guide/installing.html\nhttps://docs.xarray.dev/en/stable/user-guide/io.html",
     "output_type": "error",
     "traceback": [
      "\u001b[0;31m---------------------------------------------------------------------------\u001b[0m",
      "\u001b[0;31mValueError\u001b[0m                                Traceback (most recent call last)",
      "Input \u001b[0;32mIn [12]\u001b[0m, in \u001b[0;36m<cell line: 2>\u001b[0;34m()\u001b[0m\n\u001b[1;32m      1\u001b[0m \u001b[38;5;66;03m# load FK08 variables relevant for w'b' parameterization:\u001b[39;00m\n\u001b[0;32m----> 2\u001b[0m FCOR \u001b[38;5;241m=\u001b[39m \u001b[43mload_data_norm\u001b[49m\u001b[43m(\u001b[49m\u001b[38;5;124;43m'\u001b[39;49m\u001b[38;5;124;43mFCOR\u001b[39;49m\u001b[38;5;124;43m'\u001b[39;49m\u001b[43m)\u001b[49m \n\u001b[1;32m      3\u001b[0m B_x \u001b[38;5;241m=\u001b[39m load_data_norm(\u001b[38;5;124m'\u001b[39m\u001b[38;5;124mB_x\u001b[39m\u001b[38;5;124m'\u001b[39m) \n\u001b[1;32m      4\u001b[0m B_y \u001b[38;5;241m=\u001b[39m load_data_norm(\u001b[38;5;124m'\u001b[39m\u001b[38;5;124mB_y\u001b[39m\u001b[38;5;124m'\u001b[39m)\n",
      "Input \u001b[0;32mIn [9]\u001b[0m, in \u001b[0;36mload_data_norm\u001b[0;34m(var_name_string, time_window, coarsen_factor)\u001b[0m\n\u001b[1;32m     17\u001b[0m PATH_LIST_full_smooth \u001b[38;5;241m=\u001b[39m glob\u001b[38;5;241m.\u001b[39mglob(BASE\u001b[38;5;241m+\u001b[39m\u001b[38;5;124m'\u001b[39m\u001b[38;5;124m*_smooth/preprcossed_data/\u001b[39m\u001b[38;5;124m'\u001b[39m)\n\u001b[1;32m     18\u001b[0m PATH_LIST \u001b[38;5;241m=\u001b[39m [i \u001b[38;5;28;01mfor\u001b[39;00m i \u001b[38;5;129;01min\u001b[39;00m PATH_LIST_all \u001b[38;5;28;01mif\u001b[39;00m i \u001b[38;5;129;01mnot\u001b[39;00m \u001b[38;5;129;01min\u001b[39;00m PATH_LIST_full_smooth] \n\u001b[0;32m---> 19\u001b[0m data_0 \u001b[38;5;241m=\u001b[39m \u001b[43mxr\u001b[49m\u001b[38;5;241;43m.\u001b[39;49m\u001b[43mopen_dataarray\u001b[49m\u001b[43m(\u001b[49m\u001b[43mPATH_LIST\u001b[49m\u001b[43m[\u001b[49m\u001b[38;5;241;43m0\u001b[39;49m\u001b[43m]\u001b[49m\u001b[43m)\u001b[49m\n\u001b[1;32m     20\u001b[0m data_smooth_0 \u001b[38;5;241m=\u001b[39m smooth(data_0,time_window,coarsen_factor)\n\u001b[1;32m     21\u001b[0m data_smooth_norm_0 \u001b[38;5;241m=\u001b[39m normalize(data_smooth_0)\n",
      "File \u001b[0;32m/ext3/miniconda3/lib/python3.9/site-packages/xarray/backends/api.py:692\u001b[0m, in \u001b[0;36mopen_dataarray\u001b[0;34m(filename_or_obj, engine, chunks, cache, decode_cf, mask_and_scale, decode_times, decode_timedelta, use_cftime, concat_characters, decode_coords, drop_variables, inline_array, backend_kwargs, **kwargs)\u001b[0m\n\u001b[1;32m    552\u001b[0m \u001b[38;5;28;01mdef\u001b[39;00m \u001b[38;5;21mopen_dataarray\u001b[39m(\n\u001b[1;32m    553\u001b[0m     filename_or_obj: \u001b[38;5;28mstr\u001b[39m \u001b[38;5;241m|\u001b[39m os\u001b[38;5;241m.\u001b[39mPathLike,\n\u001b[1;32m    554\u001b[0m     \u001b[38;5;241m*\u001b[39m,\n\u001b[0;32m   (...)\u001b[0m\n\u001b[1;32m    568\u001b[0m     \u001b[38;5;241m*\u001b[39m\u001b[38;5;241m*\u001b[39mkwargs,\n\u001b[1;32m    569\u001b[0m ) \u001b[38;5;241m-\u001b[39m\u001b[38;5;241m>\u001b[39m DataArray:\n\u001b[1;32m    570\u001b[0m     \u001b[38;5;124;03m\"\"\"Open an DataArray from a file or file-like object containing a single\u001b[39;00m\n\u001b[1;32m    571\u001b[0m \u001b[38;5;124;03m    data variable.\u001b[39;00m\n\u001b[1;32m    572\u001b[0m \n\u001b[0;32m   (...)\u001b[0m\n\u001b[1;32m    689\u001b[0m \u001b[38;5;124;03m    open_dataset\u001b[39;00m\n\u001b[1;32m    690\u001b[0m \u001b[38;5;124;03m    \"\"\"\u001b[39;00m\n\u001b[0;32m--> 692\u001b[0m     dataset \u001b[38;5;241m=\u001b[39m \u001b[43mopen_dataset\u001b[49m\u001b[43m(\u001b[49m\n\u001b[1;32m    693\u001b[0m \u001b[43m        \u001b[49m\u001b[43mfilename_or_obj\u001b[49m\u001b[43m,\u001b[49m\n\u001b[1;32m    694\u001b[0m \u001b[43m        \u001b[49m\u001b[43mdecode_cf\u001b[49m\u001b[38;5;241;43m=\u001b[39;49m\u001b[43mdecode_cf\u001b[49m\u001b[43m,\u001b[49m\n\u001b[1;32m    695\u001b[0m \u001b[43m        \u001b[49m\u001b[43mmask_and_scale\u001b[49m\u001b[38;5;241;43m=\u001b[39;49m\u001b[43mmask_and_scale\u001b[49m\u001b[43m,\u001b[49m\n\u001b[1;32m    696\u001b[0m \u001b[43m        \u001b[49m\u001b[43mdecode_times\u001b[49m\u001b[38;5;241;43m=\u001b[39;49m\u001b[43mdecode_times\u001b[49m\u001b[43m,\u001b[49m\n\u001b[1;32m    697\u001b[0m \u001b[43m        \u001b[49m\u001b[43mconcat_characters\u001b[49m\u001b[38;5;241;43m=\u001b[39;49m\u001b[43mconcat_characters\u001b[49m\u001b[43m,\u001b[49m\n\u001b[1;32m    698\u001b[0m \u001b[43m        \u001b[49m\u001b[43mdecode_coords\u001b[49m\u001b[38;5;241;43m=\u001b[39;49m\u001b[43mdecode_coords\u001b[49m\u001b[43m,\u001b[49m\n\u001b[1;32m    699\u001b[0m \u001b[43m        \u001b[49m\u001b[43mengine\u001b[49m\u001b[38;5;241;43m=\u001b[39;49m\u001b[43mengine\u001b[49m\u001b[43m,\u001b[49m\n\u001b[1;32m    700\u001b[0m \u001b[43m        \u001b[49m\u001b[43mchunks\u001b[49m\u001b[38;5;241;43m=\u001b[39;49m\u001b[43mchunks\u001b[49m\u001b[43m,\u001b[49m\n\u001b[1;32m    701\u001b[0m \u001b[43m        \u001b[49m\u001b[43mcache\u001b[49m\u001b[38;5;241;43m=\u001b[39;49m\u001b[43mcache\u001b[49m\u001b[43m,\u001b[49m\n\u001b[1;32m    702\u001b[0m \u001b[43m        \u001b[49m\u001b[43mdrop_variables\u001b[49m\u001b[38;5;241;43m=\u001b[39;49m\u001b[43mdrop_variables\u001b[49m\u001b[43m,\u001b[49m\n\u001b[1;32m    703\u001b[0m \u001b[43m        \u001b[49m\u001b[43minline_array\u001b[49m\u001b[38;5;241;43m=\u001b[39;49m\u001b[43minline_array\u001b[49m\u001b[43m,\u001b[49m\n\u001b[1;32m    704\u001b[0m \u001b[43m        \u001b[49m\u001b[43mbackend_kwargs\u001b[49m\u001b[38;5;241;43m=\u001b[39;49m\u001b[43mbackend_kwargs\u001b[49m\u001b[43m,\u001b[49m\n\u001b[1;32m    705\u001b[0m \u001b[43m        \u001b[49m\u001b[43muse_cftime\u001b[49m\u001b[38;5;241;43m=\u001b[39;49m\u001b[43muse_cftime\u001b[49m\u001b[43m,\u001b[49m\n\u001b[1;32m    706\u001b[0m \u001b[43m        \u001b[49m\u001b[43mdecode_timedelta\u001b[49m\u001b[38;5;241;43m=\u001b[39;49m\u001b[43mdecode_timedelta\u001b[49m\u001b[43m,\u001b[49m\n\u001b[1;32m    707\u001b[0m \u001b[43m        \u001b[49m\u001b[38;5;241;43m*\u001b[39;49m\u001b[38;5;241;43m*\u001b[39;49m\u001b[43mkwargs\u001b[49m\u001b[43m,\u001b[49m\n\u001b[1;32m    708\u001b[0m \u001b[43m    \u001b[49m\u001b[43m)\u001b[49m\n\u001b[1;32m    710\u001b[0m     \u001b[38;5;28;01mif\u001b[39;00m \u001b[38;5;28mlen\u001b[39m(dataset\u001b[38;5;241m.\u001b[39mdata_vars) \u001b[38;5;241m!=\u001b[39m \u001b[38;5;241m1\u001b[39m:\n\u001b[1;32m    711\u001b[0m         \u001b[38;5;28;01mraise\u001b[39;00m \u001b[38;5;167;01mValueError\u001b[39;00m(\n\u001b[1;32m    712\u001b[0m             \u001b[38;5;124m\"\u001b[39m\u001b[38;5;124mGiven file dataset contains more than one data \u001b[39m\u001b[38;5;124m\"\u001b[39m\n\u001b[1;32m    713\u001b[0m             \u001b[38;5;124m\"\u001b[39m\u001b[38;5;124mvariable. Please read with xarray.open_dataset and \u001b[39m\u001b[38;5;124m\"\u001b[39m\n\u001b[1;32m    714\u001b[0m             \u001b[38;5;124m\"\u001b[39m\u001b[38;5;124mthen select the variable you want.\u001b[39m\u001b[38;5;124m\"\u001b[39m\n\u001b[1;32m    715\u001b[0m         )\n",
      "File \u001b[0;32m/ext3/miniconda3/lib/python3.9/site-packages/xarray/backends/api.py:515\u001b[0m, in \u001b[0;36mopen_dataset\u001b[0;34m(filename_or_obj, engine, chunks, cache, decode_cf, mask_and_scale, decode_times, decode_timedelta, use_cftime, concat_characters, decode_coords, drop_variables, inline_array, backend_kwargs, **kwargs)\u001b[0m\n\u001b[1;32m    512\u001b[0m     kwargs\u001b[38;5;241m.\u001b[39mupdate(backend_kwargs)\n\u001b[1;32m    514\u001b[0m \u001b[38;5;28;01mif\u001b[39;00m engine \u001b[38;5;129;01mis\u001b[39;00m \u001b[38;5;28;01mNone\u001b[39;00m:\n\u001b[0;32m--> 515\u001b[0m     engine \u001b[38;5;241m=\u001b[39m \u001b[43mplugins\u001b[49m\u001b[38;5;241;43m.\u001b[39;49m\u001b[43mguess_engine\u001b[49m\u001b[43m(\u001b[49m\u001b[43mfilename_or_obj\u001b[49m\u001b[43m)\u001b[49m\n\u001b[1;32m    517\u001b[0m backend \u001b[38;5;241m=\u001b[39m plugins\u001b[38;5;241m.\u001b[39mget_backend(engine)\n\u001b[1;32m    519\u001b[0m decoders \u001b[38;5;241m=\u001b[39m _resolve_decoders_kwargs(\n\u001b[1;32m    520\u001b[0m     decode_cf,\n\u001b[1;32m    521\u001b[0m     open_backend_dataset_parameters\u001b[38;5;241m=\u001b[39mbackend\u001b[38;5;241m.\u001b[39mopen_dataset_parameters,\n\u001b[0;32m   (...)\u001b[0m\n\u001b[1;32m    527\u001b[0m     decode_coords\u001b[38;5;241m=\u001b[39mdecode_coords,\n\u001b[1;32m    528\u001b[0m )\n",
      "File \u001b[0;32m/ext3/miniconda3/lib/python3.9/site-packages/xarray/backends/plugins.py:155\u001b[0m, in \u001b[0;36mguess_engine\u001b[0;34m(store_spec)\u001b[0m\n\u001b[1;32m    147\u001b[0m \u001b[38;5;28;01melse\u001b[39;00m:\n\u001b[1;32m    148\u001b[0m     error_msg \u001b[38;5;241m=\u001b[39m (\n\u001b[1;32m    149\u001b[0m         \u001b[38;5;124m\"\u001b[39m\u001b[38;5;124mfound the following matches with the input file in xarray\u001b[39m\u001b[38;5;124m'\u001b[39m\u001b[38;5;124ms IO \u001b[39m\u001b[38;5;124m\"\u001b[39m\n\u001b[1;32m    150\u001b[0m         \u001b[38;5;124mf\u001b[39m\u001b[38;5;124m\"\u001b[39m\u001b[38;5;124mbackends: \u001b[39m\u001b[38;5;132;01m{\u001b[39;00mcompatible_engines\u001b[38;5;132;01m}\u001b[39;00m\u001b[38;5;124m. But their dependencies may not be installed, see:\u001b[39m\u001b[38;5;130;01m\\n\u001b[39;00m\u001b[38;5;124m\"\u001b[39m\n\u001b[1;32m    151\u001b[0m         \u001b[38;5;124m\"\u001b[39m\u001b[38;5;124mhttps://docs.xarray.dev/en/stable/user-guide/io.html \u001b[39m\u001b[38;5;130;01m\\n\u001b[39;00m\u001b[38;5;124m\"\u001b[39m\n\u001b[1;32m    152\u001b[0m         \u001b[38;5;124m\"\u001b[39m\u001b[38;5;124mhttps://docs.xarray.dev/en/stable/getting-started-guide/installing.html\u001b[39m\u001b[38;5;124m\"\u001b[39m\n\u001b[1;32m    153\u001b[0m     )\n\u001b[0;32m--> 155\u001b[0m \u001b[38;5;28;01mraise\u001b[39;00m \u001b[38;5;167;01mValueError\u001b[39;00m(error_msg)\n",
      "\u001b[0;31mValueError\u001b[0m: did not find a match in any of xarray's currently installed IO backends ['netcdf4', 'h5netcdf', 'scipy', 'zarr']. Consider explicitly selecting one of the installed engines via the ``engine`` parameter, or installing additional IO dependencies, see:\nhttps://docs.xarray.dev/en/stable/getting-started-guide/installing.html\nhttps://docs.xarray.dev/en/stable/user-guide/io.html"
     ]
    }
   ],
   "source": [
    "# load FK08 variables relevant for w'b' parameterization:\n",
    "FCOR = load_data_norm('FCOR') \n",
    "B_x = load_data_norm('B_x') \n",
    "B_y = load_data_norm('B_y')\n",
    "grad_B = np.sqrt(B_y**2 + B_x**2)\n",
    "\n",
    "HML = load_data_norm('HML') \n",
    "Nsquared = load_data_norm('Nsquared')\n"
   ]
  },
  {
   "cell_type": "code",
   "execution_count": null,
   "metadata": {},
   "outputs": [],
   "source": [
    "# load other variables that may be relevant for w'b':\n",
    "\n",
    "U = load_data_norm('U') \n",
    "V = load_data_norm('V') \n",
    "\n",
    "TAUX = load_data_norm('TAUX') \n",
    "TAUY = load_data_norm('TAUY')\n",
    "TAU = np.sqrt(TAUY**2 + TAUX**2)\n",
    "\n",
    "Q = load_data_norm('Q')\n",
    "HBL = load_data_norm('HBL')\n"
   ]
  },
  {
   "cell_type": "code",
   "execution_count": null,
   "metadata": {},
   "outputs": [],
   "source": [
    "# save normalized NN data\n",
    "\n",
    "np.save(PATH_NN+'grad_B.npy',grad_B)\n",
    "np.save(PATH_NN+'FCOR.npy',FCOR)\n",
    "np.save(PATH_NN+'WB_sg.npy',WB_sg)\n",
    "np.save(PATH_NN+'WB_FK.npy',WB_FK)\n",
    "np.save(PATH_NN+'HML.npy',HML)\n",
    "\n",
    "np.save(PATH_NN+'TAU.npy',TAU)\n",
    "np.save(PATH_NN+'U.npy',U)\n",
    "np.save(PATH_NN+'V.npy',V)\n",
    "np.save(PATH_NN+'Q.npy',Q)\n",
    "np.save(PATH_NN+'HBL.npy',HBL)\n",
    "np.save(PATH_NN+'FCOR.nc',FCOR)"
   ]
  },
  {
   "cell_type": "code",
   "execution_count": 103,
   "metadata": {},
   "outputs": [
    {
     "data": {
      "text/plain": [
       "<matplotlib.colorbar.Colorbar at 0x1510432236d0>"
      ]
     },
     "execution_count": 103,
     "metadata": {},
     "output_type": "execute_result"
    },
    {
     "data": {
      "image/png": "[encoded data removed]",
      "text/plain": [
       "<Figure size 640x480 with 2 Axes>"
      ]
     },
     "metadata": {},
     "output_type": "display_data"
    }
   ],
   "source": [
    "plt.pcolor(grad_B_norm[1400],vmin=-1,vmax=1)\n",
    "plt.colorbar()"
   ]
  },
  {
   "cell_type": "code",
   "execution_count": null,
   "metadata": {},
   "outputs": [],
   "source": []
  }
 ],
 "metadata": {
  "kernelspec": {
   "display_name": "submeso_env",
   "language": "python",
   "name": "submeso_env"
  },
  "language_info": {
   "codemirror_mode": {
    "name": "ipython",
    "version": 3
   },
   "file_extension": ".py",
   "mimetype": "text/x-python",
   "name": "python",
   "nbconvert_exporter": "python",
   "pygments_lexer": "ipython3",
   "version": "3.9.12"
  }
 },
 "nbformat": 4,
 "nbformat_minor": 4
}
