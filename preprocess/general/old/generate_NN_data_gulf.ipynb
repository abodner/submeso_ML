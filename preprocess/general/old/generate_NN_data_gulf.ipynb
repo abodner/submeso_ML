{
 "cells": [
  {
   "cell_type": "code",
   "execution_count": null,
   "metadata": {},
   "outputs": [],
   "source": [
    "# generate data for gulf"
   ]
  },
  {
   "cell_type": "code",
   "execution_count": 4,
   "metadata": {},
   "outputs": [],
   "source": [
    "import numpy as np\n",
    "import matplotlib.pyplot as plt\n",
    "import os\n",
    "import xarray as xr\n",
    "import glob\n",
    "from xgcm import Grid\n",
    "\n",
    "\n",
    "#path\n",
    "BASE = '/scratch/ab10313/pleiades/01_gulf_smooth/'\n",
    "\n",
    "PATH_NN = BASE+'NN_data_smooth/'\n",
    "#os.mkdir(PATH_NN)\n",
    "\n",
    "# gulf stream path\n",
    "PATH_LIST_full = BASE+'preprcossed_data/'\n"
   ]
  },
  {
   "cell_type": "code",
   "execution_count": 5,
   "metadata": {},
   "outputs": [
    {
     "data": {
      "text/plain": [
       "'/scratch/ab10313/pleiades/01_gulf_smooth/preprcossed_data/'"
      ]
     },
     "execution_count": 5,
     "metadata": {},
     "output_type": "execute_result"
    }
   ],
   "source": [
    "PATH_LIST_full"
   ]
  },
  {
   "cell_type": "code",
   "execution_count": 6,
   "metadata": {},
   "outputs": [],
   "source": [
    "##### function that splits datasets along the spacial axes and concats them back into single array under time\n",
    "\n",
    "def normalize(data):\n",
    "    normalized_data =  (data - np.nanmean(data))/np.nanstd(data)\n",
    "    data_mean = np.tile(np.nanmean(data),(845))\n",
    "    data_std = np.tile(np.nanstd(data),(845))\n",
    "    return normalized_data,data_mean, data_std\n",
    "\n",
    "def smooth(data,time_window, coarsen_factor):\n",
    "    if len(data.dims) == 3:\n",
    "        smoothed_data = data.rolling(time=time_window, center=True).mean().dropna(dim=\"time\", how=\"all\").coarsen(i=coarsen_factor,j=coarsen_factor, boundary=\"trim\").mean()\n",
    "    elif len(data.dims) == 2:\n",
    "        smoothed_data = np.tile(data.coarsen(i=coarsen_factor,j=coarsen_factor, boundary=\"trim\").mean(),(845,1,1))\n",
    "    return smoothed_data\n",
    "\n",
    "\n",
    "def load_data_norm(var_name_string,time_window=15,coarsen_factor=12):\n",
    "    PATH_LIST = glob.glob(BASE+'preprcossed_data/'+var_name_string+'.nc') \n",
    "    data_0 = xr.open_dataarray(PATH_LIST[0])\n",
    "    data_smooth_0 = smooth(data_0,time_window,coarsen_factor)\n",
    "    data_smooth_norm_0, data_mean_0, data_std_0 = normalize(data_smooth_0)\n",
    "    data_app = data_smooth_norm_0\n",
    "    data_mean_app = data_mean_0\n",
    "    data_std_app = data_std_0\n",
    "    for i_file in np.arange(1,len(PATH_LIST)):\n",
    "        PATH = PATH_LIST[i_file]\n",
    "        data = xr.open_dataarray(PATH)\n",
    "        data_smooth = smooth(data,time_window,coarsen_factor)\n",
    "        data_smooth_norm, data_mean, data_std = normalize(data_smooth)\n",
    "        data_app = np.concatenate((data_app,data_smooth_norm),axis=0)\n",
    "        data_mean_app = np.concatenate((data_mean_app,data_mean),axis=0)\n",
    "        data_std_app = np.concatenate((data_std_app,data_std),axis=0)\n",
    "    return data_app, data_mean_app, data_std_app\n",
    "\n",
    "\n",
    "def load_data(var_name_string,time_window=15,coarsen_factor=12):\n",
    "    PATH_LIST = glob.glob(BASE+'preprcossed_data/'+var_name_string+'.nc') \n",
    "    data_0 = xr.open_dataarray(PATH_LIST[0])\n",
    "    data_smooth_0 = smooth(data_0,time_window,coarsen_factor)\n",
    "    data_app = data_smooth_0\n",
    "    for i_file in np.arange(1,len(PATH_LIST)):\n",
    "        PATH = PATH_LIST[i_file]\n",
    "        data = xr.open_dataarray(PATH)\n",
    "        data_smooth = smooth(data,time_window,coarsen_factor)\n",
    "        data_app = np.concatenate((data_app,data_smooth),axis=0)\n",
    "    return data_app\n",
    "\n",
    "def FK_param(PATH,time_window=15,coarsen_factor=12):\n",
    "    # FK08 parameterization inputs\n",
    "    tau = 86400\n",
    "    FCOR = smooth(xr.open_dataarray(PATH+'FCOR.nc'),time_window,coarsen_factor)\n",
    "    \n",
    "    # coarse-res horizontal buoyancy gradient\n",
    "    B = smooth(xr.open_dataarray(PATH+'B.nc'),time_window=15,coarsen_factor=12)\n",
    "    B_x = (B.diff(dim='i')/(12*B.dxF)).interp(i=B.i,j=B.j,kwargs={\"fill_value\": \"extrapolate\"}).values\n",
    "    B_y = (B.diff(dim='j')/(12*B.dyF)).interp(i=B.i,j=B.j,kwargs={\"fill_value\": \"extrapolate\"}).values\n",
    "    grad_B = np.sqrt(B_y**2 + B_x**2)\n",
    "    \n",
    "    HML = smooth(xr.open_dataarray(PATH+'HML.nc'),time_window,coarsen_factor).values\n",
    "    \n",
    "    WB_FK = ((HML**2) * (grad_B**2))/np.sqrt(FCOR**2 + tau**-2)#( (grad_B**2))/np.sqrt(FCOR**2 + tau**-2)#\n",
    "    \n",
    "    return WB_FK\n",
    "    \n",
    "    \n",
    "def load_data_FK(time_window=15,coarsen_factor=12):\n",
    "    PATH_LIST_full = glob.glob(BASE+'preprcossed_data/') \n",
    "    WB_FK_0 = FK_param(PATH_LIST_full[0])\n",
    "    data_app = WB_FK_0\n",
    "    for i_file in np.arange(1,len(PATH_LIST_full)):\n",
    "        WB_FK = FK_param(PATH_LIST_full[i_file])\n",
    "        data_app = np.concatenate((data_app,WB_FK),axis=0)\n",
    "    return data_app\n",
    "\n",
    "    \n",
    "    \n",
    "def WB_sg_target(PATH,time_window=15,coarsen_factor=12):\n",
    "    # WB\n",
    "    B = smooth(xr.open_dataarray(PATH+'B.nc'),time_window,coarsen_factor).values\n",
    "    W = smooth(xr.open_dataarray(PATH+'W.nc'),time_window,coarsen_factor).values\n",
    "    WB = smooth(xr.open_dataarray(PATH+'WB.nc'),time_window,coarsen_factor).values\n",
    "    \n",
    "    # WB subgrid\n",
    "    WB_sg = WB - W*B\n",
    "    WB_sg_norm, WB_sg_mean, WB_sg_std = normalize(WB_sg)\n",
    "    return WB_sg_norm, WB_sg_mean, WB_sg_std\n",
    "\n",
    "\n",
    "    \n",
    "def load_data_WB(time_window=15,coarsen_factor=12):\n",
    "    PATH_LIST_full = glob.glob(BASE+'preprcossed_data/') \n",
    "    WB_sg_norm_0, WB_sg_mean_0, WB_sg_std_0 = WB_sg_target(PATH_LIST_full[0])\n",
    "    data_app = WB_sg_norm_0\n",
    "    data_mean_app = WB_sg_mean_0\n",
    "    data_std_app = WB_sg_std_0\n",
    "    for i_file in np.arange(1,len(PATH_LIST_full)):\n",
    "        WB_sg_norm, WB_sg_mean, WB_sg_std = WB_sg_target(PATH_LIST_full[i_file])\n",
    "        data_app = np.concatenate((data_app,WB_sg_norm),axis=0)\n",
    "        data_mean_app = np.concatenate((data_mean_app,WB_sg_mean),axis=0)\n",
    "        data_std_app = np.concatenate((data_std_app,WB_sg_std),axis=0)\n",
    "    return data_app, data_mean_app, data_std_app"
   ]
  },
  {
   "cell_type": "code",
   "execution_count": 7,
   "metadata": {},
   "outputs": [],
   "source": [
    "def load_gradients(time_window=15,coarsen_factor=12):\n",
    "    PATH_LIST_full = glob.glob(BASE+'preprcossed_data/') \n",
    "    # coarse-res gradients\n",
    "    B = smooth(xr.open_dataarray(PATH_LIST_full[0]+'B.nc'),time_window=15,coarsen_factor=12)\n",
    "    B_x = (B.diff(dim='i')/(12*B.dxF)).interp(i=B.i,j=B.j,kwargs={\"fill_value\": \"extrapolate\"}).values\n",
    "    B_y = (B.diff(dim='j')/(12*B.dyF)).interp(i=B.i,j=B.j,kwargs={\"fill_value\": \"extrapolate\"}).values\n",
    "    \n",
    "    U = smooth(xr.open_dataarray(PATH_LIST_full[0]+'U.nc'),time_window=15,coarsen_factor=12)\n",
    "    U_x = (U.diff(dim='i')/(12*U.dxF)).interp(i=U.i,j=U.j,kwargs={\"fill_value\": \"extrapolate\"}).values\n",
    "    U_y = (U.diff(dim='j')/(12*U.dyF)).interp(i=U.i,j=U.j,kwargs={\"fill_value\": \"extrapolate\"}).values\n",
    "    \n",
    "    V = smooth(xr.open_dataarray(PATH_LIST_full[0]+'V.nc'),time_window=15,coarsen_factor=12)\n",
    "    V_x = (V.diff(dim='i')/(12*V.dxF)).interp(i=V.i,j=V.j,kwargs={\"fill_value\": \"extrapolate\"}).values\n",
    "    V_y = (V.diff(dim='j')/(12*V.dyF)).interp(i=V.i,j=V.j,kwargs={\"fill_value\": \"extrapolate\"}).values\n",
    "    \n",
    "    # grad B\n",
    "    grad_B_0 ,_,_= normalize(np.sqrt(B_y**2 + B_x**2))\n",
    "    grad_B_app = grad_B_0\n",
    "    \n",
    "    # divergence\n",
    "    div_0,_,_ = normalize(U_x + V_y)\n",
    "    div_app = div_0\n",
    "    \n",
    "    # vorticity\n",
    "    vort_0,_,_ = normalize(V_x - U_y)\n",
    "    vort_app = vort_0\n",
    "    \n",
    "    # strain\n",
    "    strain_0,_,_ = normalize(np.sqrt((U_x - V_y)**2 + (V_x + U_y)**2))\n",
    "    strain_app = strain_0\n",
    "\n",
    "    for i_file in np.arange(1,len(PATH_LIST_full)):\n",
    "        # coarse-res gradients\n",
    "        B = smooth(xr.open_dataarray(PATH_LIST_full[i_file]+'B.nc'),time_window=15,coarsen_factor=12)\n",
    "        B_x = (B.diff(dim='i')/(12*B.dxF)).interp(i=B.i,j=B.j,kwargs={\"fill_value\": \"extrapolate\"}).values\n",
    "        B_y = (B.diff(dim='j')/(12*B.dyF)).interp(i=B.i,j=B.j,kwargs={\"fill_value\": \"extrapolate\"}).values\n",
    "\n",
    "        U = smooth(xr.open_dataarray(PATH_LIST_full[i_file]+'U.nc'),time_window=15,coarsen_factor=12)\n",
    "        U_x = (U.diff(dim='i')/(12*U.dxF)).interp(i=U.i,j=U.j,kwargs={\"fill_value\": \"extrapolate\"}).values\n",
    "        U_y = (U.diff(dim='j')/(12*U.dyF)).interp(i=U.i,j=U.j,kwargs={\"fill_value\": \"extrapolate\"}).values\n",
    "\n",
    "        V = smooth(xr.open_dataarray(PATH_LIST_full[i_file]+'V.nc'),time_window=15,coarsen_factor=12)\n",
    "        V_x = (V.diff(dim='i')/(12*V.dxF)).interp(i=V.i,j=V.j,kwargs={\"fill_value\": \"extrapolate\"}).values\n",
    "        V_y = (V.diff(dim='j')/(12*V.dyF)).interp(i=V.i,j=V.j,kwargs={\"fill_value\": \"extrapolate\"}).values\n",
    "\n",
    "        # grad B\n",
    "        grad_B ,_,_= normalize(np.sqrt(B_y**2 + B_x**2))\n",
    "        grad_B_app = np.concatenate((grad_B_app,grad_B),axis=0)\n",
    "\n",
    "        # divergence\n",
    "        div,_,_ = normalize(U_x + V_y)\n",
    "        div_app = np.concatenate((div_app,div),axis=0)\n",
    "\n",
    "        # vorticity\n",
    "        vort,_,_ = normalize(V_x - U_y)\n",
    "        vort_app = np.concatenate((vort_app,vort),axis=0)\n",
    "\n",
    "        # strain\n",
    "        strain,_,_ = normalize(np.sqrt((U_x - V_y)**2 + (V_x + U_y)**2))\n",
    "        strain_app = np.concatenate((strain_app,strain),axis=0)\n",
    "    \n",
    "                             \n",
    "    return grad_B_app, div_app, vort_app, strain_app"
   ]
  },
  {
   "cell_type": "code",
   "execution_count": 8,
   "metadata": {},
   "outputs": [],
   "source": [
    "def FK_param_Lf(PATH,time_window=15,coarsen_factor=12):\n",
    "    # FK08 parameterization inputs\n",
    "    tau = 86400\n",
    "    FCOR = smooth(xr.open_dataarray(PATH+'FCOR.nc'),time_window,coarsen_factor)\n",
    "    \n",
    "    HML = smooth(xr.open_dataarray(PATH+'HML.nc'),time_window,coarsen_factor).values\n",
    "    #also making Nsquared very small but not zero to avoid singularity\n",
    "    Nsquared = smooth(xr.open_dataarray(PATH+'Nsquared.nc'),time_window,coarsen_factor).values\n",
    "    Nsquared[Nsquared<=0]=1e-25\n",
    "    \n",
    "    # WB FK11 with Lf rescaling factor\n",
    "    ds = 25e3 # approx 1/4 degree resolution  ~ 25km\n",
    "    Lf = (np.sqrt(Nsquared)*(-HML))/np.sqrt(FCOR**2 + tau**-2)\n",
    "    return Lf \n",
    "    \n",
    "    \n",
    "def load_data_FK_Lf(time_window=15,coarsen_factor=12):\n",
    "    PATH_LIST_full = glob.glob(BASE+'preprcossed_data/') \n",
    "    WB_FK_0 = FK_param_Lf(PATH_LIST_full[0])\n",
    "    data_app = WB_FK_0\n",
    "    for i_file in np.arange(1,len(PATH_LIST_full)):\n",
    "        WB_FK = FK_param_Lf(PATH_LIST_full[i_file])\n",
    "        data_app = np.concatenate((data_app,WB_FK),axis=0)\n",
    "    return data_app\n",
    "\n",
    "\n",
    "\n",
    "def Bod_param_Lf(PATH,time_window=15,coarsen_factor=12):\n",
    "    # Bodner23 parameterization inputs\n",
    "    FCOR = smooth(xr.open_dataarray(PATH+'FCOR.nc'),time_window,coarsen_factor)\n",
    "\n",
    "    TAUX = smooth(xr.open_dataarray(PATH+'TAUX.nc'),time_window,coarsen_factor).values\n",
    "    TAUY = smooth(xr.open_dataarray(PATH+'TAUY.nc'),time_window,coarsen_factor).values\n",
    "    TAU = np.sqrt(TAUY**2 + TAUX**2)\n",
    "\n",
    "    Q = smooth(xr.open_dataarray(PATH+'Q.nc'),time_window,coarsen_factor).values\n",
    "    HBL = smooth(xr.open_dataarray(PATH+'HBL.nc'),time_window,coarsen_factor).values\n",
    "    \n",
    "    # WB FK11 with Bod Lf rescaling factor\n",
    "    ds = 25e3 # approx 1/4 degree resolution  ~ 25km\n",
    "    m_star = 0.5\n",
    "    n_star = 0.066\n",
    "    Cl = 0.25\n",
    "    rho0 = 1025\n",
    "    u_star = np.sqrt(np.abs(TAU)/rho0)\n",
    "    \n",
    "    # w_star\n",
    "    cp_w = 4.2e3 \n",
    "    grav = 9.81 \n",
    "    gcp = grav/cp_w \n",
    "    t00b = 5000 \n",
    "    bfac = 1 \n",
    "    batag = bfac*grav/t00b  #multiply temp*batag to get buoyancy\n",
    "    galpha = 1.962e-3              #conversion from T to b (Ttob)\n",
    "    w_fac = galpha/rho0/cp_w \n",
    "    w_star = (abs(batag*gcp * Q*HBL))**(1/3) \n",
    "\n",
    "    Lf = (Cl * (m_star*u_star**3 + n_star*w_star**3)**(2/3))/((FCOR**2)*(HBL))\n",
    "    return Lf\n",
    "    \n",
    "    \n",
    "def load_data_Bod_Lf(time_window=15,coarsen_factor=12):\n",
    "    PATH_LIST_full = glob.glob(BASE+'preprcossed_data/') \n",
    "    WB_Bod_0 = Bod_param_Lf(PATH_LIST_full[0])\n",
    "    data_app = WB_Bod_0\n",
    "    for i_file in np.arange(1,len(PATH_LIST_full)):\n",
    "        WB_Bod = Bod_param_Lf(PATH_LIST_full[i_file])\n",
    "        data_app = np.concatenate((data_app,WB_Bod),axis=0)\n",
    "    return data_app"
   ]
  },
  {
   "cell_type": "code",
   "execution_count": 11,
   "metadata": {},
   "outputs": [],
   "source": [
    "WB_FK = load_data_FK()\n",
    "np.save(PATH_NN+'WB_FK.npy',WB_FK)"
   ]
  },
  {
   "cell_type": "code",
   "execution_count": 12,
   "metadata": {},
   "outputs": [],
   "source": [
    "WB_sg = np.load(PATH_NN+'WB_sg.npy')\n",
    "WB_sg_mean = np.load(PATH_NN+'WB_sg_mean.npy')\n",
    "WB_sg_std = np.load(PATH_NN+'WB_sg_std.npy')"
   ]
  },
  {
   "cell_type": "code",
   "execution_count": 20,
   "metadata": {},
   "outputs": [
    {
     "data": {
      "text/plain": [
       "(0.0, 40.0, 0.0, 40.0)"
      ]
     },
     "execution_count": 20,
     "metadata": {},
     "output_type": "execute_result"
    },
    {
     "data": {
      "image/png": "[encoded data removed]",
      "text/plain": [
       "<Figure size 1500x300 with 6 Axes>"
      ]
     },
     "metadata": {},
     "output_type": "display_data"
    }
   ],
   "source": [
    "plt.subplots(nrows=1, ncols=3, figsize=(15, 3))\n",
    "\n",
    "it =400\n",
    "mean_it = WB_sg_mean[it]\n",
    "std_it = WB_sg_std[it]\n",
    "\n",
    "plt.pcolor(WB_sg[it]*mean_it + std_it)\n",
    "plt.colorbar()\n",
    "\n",
    "plt.subplot(131)\n",
    "plt.pcolor(WB_sg[it]*std_it + mean_it,cmap='Spectral_r', vmin=-2e-8, vmax=2e-8)\n",
    "plt.title('$\\overline{wb}^z$ LLC4320',fontsize = 12)\n",
    "plt.colorbar()\n",
    "plt.axis('off')\n",
    "\n",
    "plt.subplot(132)\n",
    "plt.pcolor((0.07*15e3/np.maximum(Lf_FK11[it],5000))*WB_FK[it],cmap='Spectral_r', vmin=-2e-8, vmax=2e-8)\n",
    "plt.title('$\\overline{wb}^z$ FK11 param',fontsize = 12)\n",
    "plt.colorbar()\n",
    "plt.axis('off')\n",
    "\n",
    "plt.subplot(133)\n",
    "plt.pcolor((0.07*15e3/(Lf_BD23[it]))*WB_FK[it],cmap='Spectral_r', vmin=-2e-8, vmax=2e-8)\n",
    "plt.title('$\\overline{wb}^z$ Bodner23 param',fontsize = 12)\n",
    "plt.colorbar()\n",
    "plt.axis('off')"
   ]
  },
  {
   "cell_type": "code",
   "execution_count": 28,
   "metadata": {},
   "outputs": [],
   "source": [
    "# WB subgrid\n",
    "WB_sg, WB_sg_mean, WB_sg_std = load_data_WB()\n",
    "\n",
    "np.save(PATH_NN+'WB_sg.npy',WB_sg)\n",
    "np.save(PATH_NN+'WB_sg_mean.npy',WB_sg_mean)\n",
    "np.save(PATH_NN+'WB_sg_std.npy',WB_sg_std)"
   ]
  },
  {
   "cell_type": "code",
   "execution_count": 9,
   "metadata": {},
   "outputs": [],
   "source": [
    "# Lf from FK and Bod\n",
    "Lf_FK11 = load_data_FK_Lf()\n",
    "Lf_BD23 = load_data_Bod_Lf()\n",
    "#WB_FK = load_data_FK()\n",
    "\n",
    "np.save(PATH_NN+'Lf_FK11.npy',Lf_FK11)\n",
    "np.save(PATH_NN+'Lf_BD23.npy',Lf_BD23)\n",
    "#np.save(PATH_NN+'WB_FK.npy',WB_FK)"
   ]
  },
  {
   "cell_type": "code",
   "execution_count": 5,
   "metadata": {},
   "outputs": [],
   "source": [
    "# WB FK parameterization\n",
    "WB_FK = load_data_FK()\n",
    "WB_FK_Lf = load_data_FK_Lf()\n",
    "WB_BD_Lf = load_data_Bod_Lf()\n",
    "\n",
    "np.save(PATH_NN+'WB_FK_Lf.npy',WB_FK_Lf)\n",
    "np.save(PATH_NN+'WB_BD_Lf.npy',WB_BD_Lf)\n",
    "np.save(PATH_NN+'WB_FK.npy',WB_FK)"
   ]
  },
  {
   "cell_type": "code",
   "execution_count": 34,
   "metadata": {},
   "outputs": [],
   "source": [
    "TAUX = smooth(xr.open_dataarray(PATH_LIST_full[0]+'TAUX.nc'),time_window=15,coarsen_factor=12).values\n",
    "TAUY = smooth(xr.open_dataarray(PATH_LIST_full[0]+'TAUY.nc'),time_window=15,coarsen_factor=12).values\n",
    "TAU = np.sqrt(TAUY**2 + TAUX**2)"
   ]
  },
  {
   "cell_type": "code",
   "execution_count": 29,
   "metadata": {},
   "outputs": [],
   "source": [
    "grad_B, div, vort, strain = load_gradients()"
   ]
  },
  {
   "cell_type": "code",
   "execution_count": 30,
   "metadata": {},
   "outputs": [],
   "source": [
    "np.save(PATH_NN+'grad_B.npy',grad_B)\n",
    "np.save(PATH_NN+'div.npy',div)\n",
    "np.save(PATH_NN+'vort.npy',vort)\n",
    "np.save(PATH_NN+'strain.npy',strain)"
   ]
  },
  {
   "cell_type": "code",
   "execution_count": 65,
   "metadata": {},
   "outputs": [
    {
     "data": {
      "text/plain": [
       "False"
      ]
     },
     "execution_count": 65,
     "metadata": {},
     "output_type": "execute_result"
    }
   ],
   "source": [
    "np.isnan(Lf_FK11).any()"
   ]
  },
  {
   "cell_type": "code",
   "execution_count": 62,
   "metadata": {},
   "outputs": [
    {
     "data": {
      "text/plain": [
       "<matplotlib.colorbar.Colorbar at 0x14a965697f10>"
      ]
     },
     "execution_count": 62,
     "metadata": {},
     "output_type": "execute_result"
    },
    {
     "data": {
      "image/png": "[encoded data removed]",
      "text/plain": [
       "<Figure size 640x480 with 2 Axes>"
      ]
     },
     "metadata": {},
     "output_type": "display_data"
    }
   ],
   "source": [
    "plt.pcolor(-Lf_BD23[3000])\n",
    "plt.colorbar()"
   ]
  },
  {
   "cell_type": "code",
   "execution_count": 31,
   "metadata": {},
   "outputs": [],
   "source": [
    "# load FK08 variables relevant for w'b' parameterization:\n",
    "FCOR, FCOR_mean, FCOR_std = load_data_norm('FCOR') \n",
    "#B_x, B_x_mean, B_x_std = load_data_norm('B_x') \n",
    "#B_y, B_y_mean, B_y_std = load_data_norm('B_y')\n",
    "#grad_B = np.sqrt(B_y**2 + B_x**2)\n",
    "\n",
    "HML, HML_mean, HML_std = load_data_norm('HML') \n",
    "Nsquared, Nsquared_mean, Nsquared_std = load_data_norm('Nsquared')\n"
   ]
  },
  {
   "cell_type": "code",
   "execution_count": 50,
   "metadata": {},
   "outputs": [],
   "source": [
    "Nsquared, Nsquared_mean, Nsquared_std = load_data_norm('Nsquared')\n"
   ]
  },
  {
   "cell_type": "code",
   "execution_count": 32,
   "metadata": {},
   "outputs": [],
   "source": [
    "np.save(PATH_NN+'Nsquared.npy',Nsquared)\n"
   ]
  },
  {
   "cell_type": "code",
   "execution_count": 33,
   "metadata": {},
   "outputs": [],
   "source": [
    "# load other variables that may be relevant for w'b':\n",
    "\n",
    "U, U_mean, U_std = load_data_norm('U') \n",
    "V, V_mean, V_std = load_data_norm('V') \n",
    "\n",
    "TAUX, TAUX_mean, TAUX_std = load_data_norm('TAUX')\n",
    "TAUY, TAUY_mean, TAUY_std = load_data_norm('TAUY')\n",
    "TAU = np.sqrt(TAUY**2 + TAUX**2)\n",
    "\n",
    "Q, Q_mean, Q_std = load_data_norm('Q')\n",
    "HBL, HBL_mean, HBL_std = load_data_norm('HBL')\n"
   ]
  },
  {
   "cell_type": "code",
   "execution_count": 34,
   "metadata": {},
   "outputs": [],
   "source": [
    "# save normalized NN data\n",
    "\n",
    "#np.save(PATH_NN+'grad_B.npy',grad_B)\n",
    "np.save(PATH_NN+'FCOR.npy',FCOR)\n",
    "#np.save(PATH_NN+'WB_sg.npy',WB_sg)\n",
    "#np.save(PATH_NN+'WB_FK.npy',WB_FK)\n",
    "np.save(PATH_NN+'HML.npy',HML)\n",
    "\n",
    "np.save(PATH_NN+'TAU.npy',TAU)\n",
    "np.save(PATH_NN+'U.npy',U)\n",
    "np.save(PATH_NN+'V.npy',V)\n",
    "np.save(PATH_NN+'Q.npy',Q)\n",
    "np.save(PATH_NN+'HBL.npy',HBL)\n",
    "np.save(PATH_NN+'FCOR.npy',FCOR)\n",
    "np.save(PATH_NN+'Nsquared.npy',Nsquared)\n",
    "#np.save(PATH_NN+'WB_sg.npy',WB_sg)"
   ]
  },
  {
   "cell_type": "code",
   "execution_count": null,
   "metadata": {},
   "outputs": [],
   "source": []
  },
  {
   "cell_type": "code",
   "execution_count": null,
   "metadata": {},
   "outputs": [],
   "source": []
  }
 ],
 "metadata": {
  "kernelspec": {
   "display_name": "submeso_env",
   "language": "python",
   "name": "submeso_env"
  },
  "language_info": {
   "codemirror_mode": {
    "name": "ipython",
    "version": 3
   },
   "file_extension": ".py",
   "mimetype": "text/x-python",
   "name": "python",
   "nbconvert_exporter": "python",
   "pygments_lexer": "ipython3",
   "version": "3.9.12"
  }
 },
 "nbformat": 4,
 "nbformat_minor": 4
}
