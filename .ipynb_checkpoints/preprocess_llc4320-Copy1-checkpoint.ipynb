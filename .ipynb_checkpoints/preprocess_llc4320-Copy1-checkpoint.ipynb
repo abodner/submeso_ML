{
 "cells": [
  {
   "cell_type": "markdown",
   "metadata": {},
   "source": [
    "# Preprocess LLC4320 data"
   ]
  },
  {
   "cell_type": "markdown",
   "metadata": {},
   "source": [
    "This program is to preprcess the LLC4320 data using the xmitgcm llcreader package. \n",
    "\n",
    "Note that it needs the 'submeso_env' environment"
   ]
  },
  {
   "cell_type": "code",
   "execution_count": 6,
   "metadata": {
    "scrolled": true
   },
   "outputs": [
    {
     "name": "stderr",
     "output_type": "stream",
     "text": [
      "/ext3/miniconda3/lib/python3.9/site-packages/numba/core/cpu.py:97: UserWarning: Numba extension module 'sparse._numba_extension' failed to load due to 'ContextualVersionConflict((numpy 1.22.4 (/ext3/miniconda3/lib/python3.9/site-packages), Requirement.parse('numpy<1.22,>=1.18'), {'numba'}))'.\n",
      "  numba.core.entrypoints.init_all()\n"
     ]
    }
   ],
   "source": [
    "from xmitgcm import llcreader\n",
    "model = llcreader.ECCOPortalLLC4320Model()\n",
    "import numpy as np\n",
    "import pandas as pd\n",
    "import matplotlib.pyplot as plt\n",
    "import xarray as xr\n",
    "import xrft\n",
    "import xgcm\n",
    "import gcm_filters\n",
    "import matplotlib.pyplot as plt\n",
    "import xesmf as xe\n",
    "import gsw_xarray as gsw"
   ]
  },
  {
   "cell_type": "code",
   "execution_count": 7,
   "metadata": {},
   "outputs": [
    {
     "ename": "KeyboardInterrupt",
     "evalue": "",
     "output_type": "error",
     "traceback": [
      "\u001b[0;31m---------------------------------------------------------------------------\u001b[0m",
      "\u001b[0;31mKeyboardInterrupt\u001b[0m                         Traceback (most recent call last)",
      "Input \u001b[0;32mIn [7]\u001b[0m, in \u001b[0;36m<cell line: 2>\u001b[0;34m()\u001b[0m\n\u001b[1;32m      1\u001b[0m \u001b[38;5;66;03m# load full temperature and salinity datasets\u001b[39;00m\n\u001b[0;32m----> 2\u001b[0m ds_T_full \u001b[38;5;241m=\u001b[39m \u001b[43mmodel\u001b[49m\u001b[38;5;241;43m.\u001b[39;49m\u001b[43mget_dataset\u001b[49m\u001b[43m(\u001b[49m\u001b[43mvarnames\u001b[49m\u001b[38;5;241;43m=\u001b[39;49m\u001b[43m[\u001b[49m\u001b[38;5;124;43m'\u001b[39;49m\u001b[38;5;124;43mTheta\u001b[39;49m\u001b[38;5;124;43m'\u001b[39;49m\u001b[43m]\u001b[49m\u001b[43m,\u001b[49m\u001b[43m \u001b[49m\u001b[38;5;28;43mtype\u001b[39;49m\u001b[38;5;241;43m=\u001b[39;49m\u001b[38;5;124;43m'\u001b[39;49m\u001b[38;5;124;43mlatlon\u001b[39;49m\u001b[38;5;124;43m'\u001b[39;49m\u001b[43m)\u001b[49m\n\u001b[1;32m      3\u001b[0m ds_S_full \u001b[38;5;241m=\u001b[39m model\u001b[38;5;241m.\u001b[39mget_dataset(varnames\u001b[38;5;241m=\u001b[39m[\u001b[38;5;124m'\u001b[39m\u001b[38;5;124mSalt\u001b[39m\u001b[38;5;124m'\u001b[39m], \u001b[38;5;28mtype\u001b[39m\u001b[38;5;241m=\u001b[39m\u001b[38;5;124m'\u001b[39m\u001b[38;5;124mlatlon\u001b[39m\u001b[38;5;124m'\u001b[39m)\n",
      "File \u001b[0;32m~/.local/lib/python3.9/site-packages/xmitgcm/llcreader/llcmodel.py:917\u001b[0m, in \u001b[0;36mBaseLLCModel.get_dataset\u001b[0;34m(self, varnames, iter_start, iter_stop, iter_step, iters, k_levels, k_chunksize, type, read_grid, grid_vars_to_coords)\u001b[0m\n\u001b[1;32m    913\u001b[0m data_transformers \u001b[38;5;241m=\u001b[39m {\u001b[38;5;124m'\u001b[39m\u001b[38;5;124mfaces\u001b[39m\u001b[38;5;124m'\u001b[39m: _all_facets_to_faces,\n\u001b[1;32m    914\u001b[0m                      \u001b[38;5;124m'\u001b[39m\u001b[38;5;124mlatlon\u001b[39m\u001b[38;5;124m'\u001b[39m: _all_facets_to_latlon}\n\u001b[1;32m    916\u001b[0m transformer \u001b[38;5;241m=\u001b[39m data_transformers[\u001b[38;5;28mtype\u001b[39m]\n\u001b[0;32m--> 917\u001b[0m data \u001b[38;5;241m=\u001b[39m \u001b[43mtransformer\u001b[49m\u001b[43m(\u001b[49m\u001b[43mdata_facets\u001b[49m\u001b[43m,\u001b[49m\u001b[43m \u001b[49m\u001b[43m_VAR_METADATA\u001b[49m\u001b[43m,\u001b[49m\u001b[43m \u001b[49m\u001b[38;5;28;43mself\u001b[39;49m\u001b[38;5;241;43m.\u001b[39;49m\u001b[43mnface\u001b[49m\u001b[43m)\u001b[49m\n\u001b[1;32m    919\u001b[0m \u001b[38;5;66;03m# separate horizontal and vertical grid variables\u001b[39;00m\n\u001b[1;32m    920\u001b[0m hgrid_facets \u001b[38;5;241m=\u001b[39m {key: grid_facets[key]\n\u001b[1;32m    921\u001b[0m         \u001b[38;5;28;01mfor\u001b[39;00m key \u001b[38;5;129;01min\u001b[39;00m grid_varnames \u001b[38;5;28;01mif\u001b[39;00m \u001b[38;5;129;01mnot\u001b[39;00m _is_vgrid(key)}\n",
      "File \u001b[0;32m~/.local/lib/python3.9/site-packages/xmitgcm/llcreader/llcmodel.py:436\u001b[0m, in \u001b[0;36m_all_facets_to_latlon\u001b[0;34m(data_facets, meta, nfaces)\u001b[0m\n\u001b[1;32m    434\u001b[0m data \u001b[38;5;241m=\u001b[39m {}\n\u001b[1;32m    435\u001b[0m \u001b[38;5;28;01mfor\u001b[39;00m vname \u001b[38;5;129;01min\u001b[39;00m scalars:\n\u001b[0;32m--> 436\u001b[0m     data[vname] \u001b[38;5;241m=\u001b[39m \u001b[43m_facets_to_latlon_scalar\u001b[49m\u001b[43m(\u001b[49m\u001b[43mdata_facets\u001b[49m\u001b[43m[\u001b[49m\u001b[43mvname\u001b[49m\u001b[43m]\u001b[49m\u001b[43m)\u001b[49m\n\u001b[1;32m    438\u001b[0m \u001b[38;5;28;01mfor\u001b[39;00m vname_u, vname_v \u001b[38;5;129;01min\u001b[39;00m vector_pairs:\n\u001b[1;32m    439\u001b[0m     data_u, data_v \u001b[38;5;241m=\u001b[39m _facets_to_latlon_vector(data_facets[vname_u],\n\u001b[1;32m    440\u001b[0m                                               data_facets[vname_v])\n",
      "File \u001b[0;32m~/.local/lib/python3.9/site-packages/xmitgcm/llcreader/llcmodel.py:239\u001b[0m, in \u001b[0;36m_facets_to_latlon_scalar\u001b[0;34m(all_facets)\u001b[0m\n\u001b[1;32m    236\u001b[0m rotated \u001b[38;5;241m=\u001b[39m (all_facets[:\u001b[38;5;241m2\u001b[39m]\n\u001b[1;32m    237\u001b[0m            \u001b[38;5;241m+\u001b[39m [_rotate_scalar_facet(facet) \u001b[38;5;28;01mfor\u001b[39;00m facet \u001b[38;5;129;01min\u001b[39;00m all_facets[\u001b[38;5;241m-\u001b[39m\u001b[38;5;241m2\u001b[39m:]])\n\u001b[1;32m    238\u001b[0m \u001b[38;5;66;03m# drop facet dimension\u001b[39;00m\n\u001b[0;32m--> 239\u001b[0m rotated \u001b[38;5;241m=\u001b[39m [r[\u001b[38;5;241m.\u001b[39m\u001b[38;5;241m.\u001b[39m\u001b[38;5;241m.\u001b[39m, \u001b[38;5;241m0\u001b[39m, :, :] \u001b[38;5;28;01mfor\u001b[39;00m r \u001b[38;5;129;01min\u001b[39;00m rotated]\n\u001b[1;32m    240\u001b[0m \u001b[38;5;28;01mreturn\u001b[39;00m concatenate(rotated, axis\u001b[38;5;241m=\u001b[39m\u001b[38;5;241m-\u001b[39m\u001b[38;5;241m1\u001b[39m)\n",
      "File \u001b[0;32m~/.local/lib/python3.9/site-packages/xmitgcm/llcreader/llcmodel.py:239\u001b[0m, in \u001b[0;36m<listcomp>\u001b[0;34m(.0)\u001b[0m\n\u001b[1;32m    236\u001b[0m rotated \u001b[38;5;241m=\u001b[39m (all_facets[:\u001b[38;5;241m2\u001b[39m]\n\u001b[1;32m    237\u001b[0m            \u001b[38;5;241m+\u001b[39m [_rotate_scalar_facet(facet) \u001b[38;5;28;01mfor\u001b[39;00m facet \u001b[38;5;129;01min\u001b[39;00m all_facets[\u001b[38;5;241m-\u001b[39m\u001b[38;5;241m2\u001b[39m:]])\n\u001b[1;32m    238\u001b[0m \u001b[38;5;66;03m# drop facet dimension\u001b[39;00m\n\u001b[0;32m--> 239\u001b[0m rotated \u001b[38;5;241m=\u001b[39m [\u001b[43mr\u001b[49m\u001b[43m[\u001b[49m\u001b[38;5;241;43m.\u001b[39;49m\u001b[38;5;241;43m.\u001b[39;49m\u001b[38;5;241;43m.\u001b[39;49m\u001b[43m,\u001b[49m\u001b[43m \u001b[49m\u001b[38;5;241;43m0\u001b[39;49m\u001b[43m,\u001b[49m\u001b[43m \u001b[49m\u001b[43m:\u001b[49m\u001b[43m,\u001b[49m\u001b[43m \u001b[49m\u001b[43m:\u001b[49m\u001b[43m]\u001b[49m \u001b[38;5;28;01mfor\u001b[39;00m r \u001b[38;5;129;01min\u001b[39;00m rotated]\n\u001b[1;32m    240\u001b[0m \u001b[38;5;28;01mreturn\u001b[39;00m concatenate(rotated, axis\u001b[38;5;241m=\u001b[39m\u001b[38;5;241m-\u001b[39m\u001b[38;5;241m1\u001b[39m)\n",
      "File \u001b[0;32m/ext3/miniconda3/lib/python3.9/site-packages/dask/array/core.py:1892\u001b[0m, in \u001b[0;36mArray.__getitem__\u001b[0;34m(self, index)\u001b[0m\n\u001b[1;32m   1889\u001b[0m     \u001b[38;5;28;01mreturn\u001b[39;00m \u001b[38;5;28mself\u001b[39m\n\u001b[1;32m   1891\u001b[0m out \u001b[38;5;241m=\u001b[39m \u001b[38;5;124m\"\u001b[39m\u001b[38;5;124mgetitem-\u001b[39m\u001b[38;5;124m\"\u001b[39m \u001b[38;5;241m+\u001b[39m tokenize(\u001b[38;5;28mself\u001b[39m, index2)\n\u001b[0;32m-> 1892\u001b[0m dsk, chunks \u001b[38;5;241m=\u001b[39m \u001b[43mslice_array\u001b[49m\u001b[43m(\u001b[49m\u001b[43mout\u001b[49m\u001b[43m,\u001b[49m\u001b[43m \u001b[49m\u001b[38;5;28;43mself\u001b[39;49m\u001b[38;5;241;43m.\u001b[39;49m\u001b[43mname\u001b[49m\u001b[43m,\u001b[49m\u001b[43m \u001b[49m\u001b[38;5;28;43mself\u001b[39;49m\u001b[38;5;241;43m.\u001b[39;49m\u001b[43mchunks\u001b[49m\u001b[43m,\u001b[49m\u001b[43m \u001b[49m\u001b[43mindex2\u001b[49m\u001b[43m,\u001b[49m\u001b[43m \u001b[49m\u001b[38;5;28;43mself\u001b[39;49m\u001b[38;5;241;43m.\u001b[39;49m\u001b[43mitemsize\u001b[49m\u001b[43m)\u001b[49m\n\u001b[1;32m   1894\u001b[0m graph \u001b[38;5;241m=\u001b[39m HighLevelGraph\u001b[38;5;241m.\u001b[39mfrom_collections(out, dsk, dependencies\u001b[38;5;241m=\u001b[39m[\u001b[38;5;28mself\u001b[39m])\n\u001b[1;32m   1896\u001b[0m meta \u001b[38;5;241m=\u001b[39m meta_from_array(\u001b[38;5;28mself\u001b[39m\u001b[38;5;241m.\u001b[39m_meta, ndim\u001b[38;5;241m=\u001b[39m\u001b[38;5;28mlen\u001b[39m(chunks))\n",
      "File \u001b[0;32m/ext3/miniconda3/lib/python3.9/site-packages/dask/array/slicing.py:174\u001b[0m, in \u001b[0;36mslice_array\u001b[0;34m(out_name, in_name, blockdims, index, itemsize)\u001b[0m\n\u001b[1;32m    171\u001b[0m index \u001b[38;5;241m+\u001b[39m\u001b[38;5;241m=\u001b[39m (\u001b[38;5;28mslice\u001b[39m(\u001b[38;5;28;01mNone\u001b[39;00m, \u001b[38;5;28;01mNone\u001b[39;00m, \u001b[38;5;28;01mNone\u001b[39;00m),) \u001b[38;5;241m*\u001b[39m missing\n\u001b[1;32m    173\u001b[0m \u001b[38;5;66;03m# Pass down to next function\u001b[39;00m\n\u001b[0;32m--> 174\u001b[0m dsk_out, bd_out \u001b[38;5;241m=\u001b[39m \u001b[43mslice_with_newaxes\u001b[49m\u001b[43m(\u001b[49m\u001b[43mout_name\u001b[49m\u001b[43m,\u001b[49m\u001b[43m \u001b[49m\u001b[43min_name\u001b[49m\u001b[43m,\u001b[49m\u001b[43m \u001b[49m\u001b[43mblockdims\u001b[49m\u001b[43m,\u001b[49m\u001b[43m \u001b[49m\u001b[43mindex\u001b[49m\u001b[43m,\u001b[49m\u001b[43m \u001b[49m\u001b[43mitemsize\u001b[49m\u001b[43m)\u001b[49m\n\u001b[1;32m    176\u001b[0m bd_out \u001b[38;5;241m=\u001b[39m \u001b[38;5;28mtuple\u001b[39m(\u001b[38;5;28mmap\u001b[39m(\u001b[38;5;28mtuple\u001b[39m, bd_out))\n\u001b[1;32m    177\u001b[0m \u001b[38;5;28;01mreturn\u001b[39;00m dsk_out, bd_out\n",
      "File \u001b[0;32m/ext3/miniconda3/lib/python3.9/site-packages/dask/array/slicing.py:196\u001b[0m, in \u001b[0;36mslice_with_newaxes\u001b[0;34m(out_name, in_name, blockdims, index, itemsize)\u001b[0m\n\u001b[1;32m    193\u001b[0m         where_none[i] \u001b[38;5;241m-\u001b[39m\u001b[38;5;241m=\u001b[39m n\n\u001b[1;32m    195\u001b[0m \u001b[38;5;66;03m# Pass down and do work\u001b[39;00m\n\u001b[0;32m--> 196\u001b[0m dsk, blockdims2 \u001b[38;5;241m=\u001b[39m \u001b[43mslice_wrap_lists\u001b[49m\u001b[43m(\u001b[49m\u001b[43mout_name\u001b[49m\u001b[43m,\u001b[49m\u001b[43m \u001b[49m\u001b[43min_name\u001b[49m\u001b[43m,\u001b[49m\u001b[43m \u001b[49m\u001b[43mblockdims\u001b[49m\u001b[43m,\u001b[49m\u001b[43m \u001b[49m\u001b[43mindex2\u001b[49m\u001b[43m,\u001b[49m\u001b[43m \u001b[49m\u001b[43mitemsize\u001b[49m\u001b[43m)\u001b[49m\n\u001b[1;32m    198\u001b[0m \u001b[38;5;28;01mif\u001b[39;00m where_none:\n\u001b[1;32m    199\u001b[0m     expand \u001b[38;5;241m=\u001b[39m expander(where_none)\n",
      "File \u001b[0;32m/ext3/miniconda3/lib/python3.9/site-packages/dask/array/slicing.py:252\u001b[0m, in \u001b[0;36mslice_wrap_lists\u001b[0;34m(out_name, in_name, blockdims, index, itemsize)\u001b[0m\n\u001b[1;32m    250\u001b[0m \u001b[38;5;66;03m# No lists, hooray! just use slice_slices_and_integers\u001b[39;00m\n\u001b[1;32m    251\u001b[0m \u001b[38;5;28;01mif\u001b[39;00m \u001b[38;5;129;01mnot\u001b[39;00m where_list:\n\u001b[0;32m--> 252\u001b[0m     \u001b[38;5;28;01mreturn\u001b[39;00m \u001b[43mslice_slices_and_integers\u001b[49m\u001b[43m(\u001b[49m\u001b[43mout_name\u001b[49m\u001b[43m,\u001b[49m\u001b[43m \u001b[49m\u001b[43min_name\u001b[49m\u001b[43m,\u001b[49m\u001b[43m \u001b[49m\u001b[43mblockdims\u001b[49m\u001b[43m,\u001b[49m\u001b[43m \u001b[49m\u001b[43mindex\u001b[49m\u001b[43m)\u001b[49m\n\u001b[1;32m    254\u001b[0m \u001b[38;5;66;03m# Replace all lists with full slices  [3, 1, 0] -> slice(None, None, None)\u001b[39;00m\n\u001b[1;32m    255\u001b[0m index_without_list \u001b[38;5;241m=\u001b[39m \u001b[38;5;28mtuple\u001b[39m(\n\u001b[1;32m    256\u001b[0m     \u001b[38;5;28mslice\u001b[39m(\u001b[38;5;28;01mNone\u001b[39;00m, \u001b[38;5;28;01mNone\u001b[39;00m, \u001b[38;5;28;01mNone\u001b[39;00m) \u001b[38;5;28;01mif\u001b[39;00m is_arraylike(i) \u001b[38;5;28;01melse\u001b[39;00m i \u001b[38;5;28;01mfor\u001b[39;00m i \u001b[38;5;129;01min\u001b[39;00m index\n\u001b[1;32m    257\u001b[0m )\n",
      "File \u001b[0;32m/ext3/miniconda3/lib/python3.9/site-packages/dask/array/slicing.py:329\u001b[0m, in \u001b[0;36mslice_slices_and_integers\u001b[0;34m(out_name, in_name, blockdims, index)\u001b[0m\n\u001b[1;32m    316\u001b[0m out_names \u001b[38;5;241m=\u001b[39m \u001b[38;5;28mlist\u001b[39m(\n\u001b[1;32m    317\u001b[0m     product(\n\u001b[1;32m    318\u001b[0m         [out_name],\n\u001b[0;32m   (...)\u001b[0m\n\u001b[1;32m    324\u001b[0m     )\n\u001b[1;32m    325\u001b[0m )\n\u001b[1;32m    327\u001b[0m all_slices \u001b[38;5;241m=\u001b[39m \u001b[38;5;28mlist\u001b[39m(product(\u001b[38;5;241m*\u001b[39m[pluck(\u001b[38;5;241m1\u001b[39m, s) \u001b[38;5;28;01mfor\u001b[39;00m s \u001b[38;5;129;01min\u001b[39;00m sorted_block_slices]))\n\u001b[0;32m--> 329\u001b[0m dsk_out \u001b[38;5;241m=\u001b[39m {\n\u001b[1;32m    330\u001b[0m     out_name: (getitem, in_name, slices)\n\u001b[1;32m    331\u001b[0m     \u001b[38;5;28;01mfor\u001b[39;00m out_name, in_name, slices \u001b[38;5;129;01min\u001b[39;00m \u001b[38;5;28mzip\u001b[39m(out_names, in_names, all_slices)\n\u001b[1;32m    332\u001b[0m }\n\u001b[1;32m    334\u001b[0m new_blockdims \u001b[38;5;241m=\u001b[39m [\n\u001b[1;32m    335\u001b[0m     new_blockdim(d, db, i)\n\u001b[1;32m    336\u001b[0m     \u001b[38;5;28;01mfor\u001b[39;00m d, i, db \u001b[38;5;129;01min\u001b[39;00m \u001b[38;5;28mzip\u001b[39m(shape, index, blockdims)\n\u001b[1;32m    337\u001b[0m     \u001b[38;5;28;01mif\u001b[39;00m \u001b[38;5;129;01mnot\u001b[39;00m \u001b[38;5;28misinstance\u001b[39m(i, Integral)\n\u001b[1;32m    338\u001b[0m ]\n\u001b[1;32m    340\u001b[0m \u001b[38;5;28;01mreturn\u001b[39;00m dsk_out, new_blockdims\n",
      "File \u001b[0;32m/ext3/miniconda3/lib/python3.9/site-packages/dask/array/slicing.py:330\u001b[0m, in \u001b[0;36m<dictcomp>\u001b[0;34m(.0)\u001b[0m\n\u001b[1;32m    316\u001b[0m out_names \u001b[38;5;241m=\u001b[39m \u001b[38;5;28mlist\u001b[39m(\n\u001b[1;32m    317\u001b[0m     product(\n\u001b[1;32m    318\u001b[0m         [out_name],\n\u001b[0;32m   (...)\u001b[0m\n\u001b[1;32m    324\u001b[0m     )\n\u001b[1;32m    325\u001b[0m )\n\u001b[1;32m    327\u001b[0m all_slices \u001b[38;5;241m=\u001b[39m \u001b[38;5;28mlist\u001b[39m(product(\u001b[38;5;241m*\u001b[39m[pluck(\u001b[38;5;241m1\u001b[39m, s) \u001b[38;5;28;01mfor\u001b[39;00m s \u001b[38;5;129;01min\u001b[39;00m sorted_block_slices]))\n\u001b[1;32m    329\u001b[0m dsk_out \u001b[38;5;241m=\u001b[39m {\n\u001b[0;32m--> 330\u001b[0m     out_name: (getitem, in_name, slices)\n\u001b[1;32m    331\u001b[0m     \u001b[38;5;28;01mfor\u001b[39;00m out_name, in_name, slices \u001b[38;5;129;01min\u001b[39;00m \u001b[38;5;28mzip\u001b[39m(out_names, in_names, all_slices)\n\u001b[1;32m    332\u001b[0m }\n\u001b[1;32m    334\u001b[0m new_blockdims \u001b[38;5;241m=\u001b[39m [\n\u001b[1;32m    335\u001b[0m     new_blockdim(d, db, i)\n\u001b[1;32m    336\u001b[0m     \u001b[38;5;28;01mfor\u001b[39;00m d, i, db \u001b[38;5;129;01min\u001b[39;00m \u001b[38;5;28mzip\u001b[39m(shape, index, blockdims)\n\u001b[1;32m    337\u001b[0m     \u001b[38;5;28;01mif\u001b[39;00m \u001b[38;5;129;01mnot\u001b[39;00m \u001b[38;5;28misinstance\u001b[39m(i, Integral)\n\u001b[1;32m    338\u001b[0m ]\n\u001b[1;32m    340\u001b[0m \u001b[38;5;28;01mreturn\u001b[39;00m dsk_out, new_blockdims\n",
      "\u001b[0;31mKeyboardInterrupt\u001b[0m: "
     ]
    }
   ],
   "source": [
    "# load full temperature and salinity datasets\n",
    "ds_T_full = model.get_dataset(varnames=['Theta'], type='latlon')\n",
    "ds_S_full = model.get_dataset(varnames=['Salt'], type='latlon')"
   ]
  },
  {
   "cell_type": "code",
   "execution_count": null,
   "metadata": {},
   "outputs": [],
   "source": [
    "# load full velocity dataset \n",
    "ds_UV_full = model.get_dataset(varnames=['U','V'], type='latlon')\n",
    "ds_W_full = model.get_dataset(varnames=['W'], type='latlon')\n",
    "\n",
    "# interp full velocities onto tracer grid\n",
    "ds_W_full_interp = ds_W_full.interp(k_l=ds_T_full.k)\n",
    "ds_UV_full_interp = ds_UV_full.interp(j_g=ds_T_full.j, i_g=ds_T_full.i)"
   ]
  },
  {
   "cell_type": "code",
   "execution_count": null,
   "metadata": {},
   "outputs": [],
   "source": [
    "# select subdomain area and downsample every 24 hours to reduce auto-correlation between samples (Uchida et. al. 2022)\n",
    "# depth above -1000m (as we will average over the mixed layer below)\n",
    "# lat= -57:-42, lon=25:40 # change domain to be larger than 12 degrees\n",
    "\n",
    "lat_min = -57\n",
    "lat_max = -42\n",
    "lon_min = 25\n",
    "lon_max = 40\n",
    "depth_lim = -1000 \n",
    "\n",
    "sel_area = np.logical_and(np.logical_and(np.logical_and(ds_T_full.XC>lon_min, ds_T_full.XC<lon_max ),\n",
    "                           np.logical_and(ds_T_full.YC>lat_min, ds_T_full.YC<lat_max)), ds_T_full.Z>depth_lim)\n",
    "\n",
    "# temp, salt and velocity in subdomain\n",
    "T = ds_T_full.Theta.resample(time='24H').nearest(tolerance=\"1H\").where(sel_area, drop=True)\n",
    "S = ds_S_full.Salt.resample(time='24H').nearest(tolerance=\"1H\").where(sel_area, drop=True)\n",
    "U = ds_UV_full_interp.U.resample(time='24H').nearest(tolerance=\"1H\").where(sel_area, drop=True)\n",
    "V = ds_UV_full_interp.V.resample(time='24H').nearest(tolerance=\"1H\").where(sel_area, drop=True)\n",
    "W = ds_W_full_interp.W.resample(time='24H').nearest(tolerance=\"1H\").where(sel_area, drop=True)"
   ]
  },
  {
   "cell_type": "code",
   "execution_count": null,
   "metadata": {},
   "outputs": [],
   "source": [
    "# calculate buoyancy from temp and salt, using the gsw package\n",
    "# pressure\n",
    "P = gsw.p_from_z(T.Z, T.YC)\n",
    "\n",
    "# gravity\n",
    "G = gsw.grav(T.YC, P)\n",
    "\n",
    "# Conservative Temperature (CT)\n",
    "CT = gsw.CT_from_pt(S, T)\n",
    "\n",
    "# potential density anomaly \n",
    "# with the reference pressure of 0 dbar and ρ0 = 1000 kg m−3\n",
    "sigma0 = gsw.sigma0(S, CT)\n",
    "\n",
    "# reference density \n",
    "rho0 = 1000 #kg/m^3\n",
    "\n",
    "# buoyancy\n",
    "B = -G*sigma0/rho0\n",
    "\n",
    "B = B.rename('Buoyancy')"
   ]
  },
  {
   "cell_type": "code",
   "execution_count": null,
   "metadata": {},
   "outputs": [],
   "source": [
    "B.isel(time=0,k=0).plot()\n",
    "plt.savefig('/figs/B.png')"
   ]
  },
  {
   "cell_type": "code",
   "execution_count": null,
   "metadata": {},
   "outputs": [],
   "source": [
    "# sigma0 at 10m depth for reference\n",
    "sigma0_10m = sigma0.isel(k=6).broadcast_like(sigma0).chunk(chunks={'time': 1, 'k':1, 'j': sigma0.j.size, 'i': sigma0.i.size})\n",
    "\n",
    "delta_sigma = sigma0 - sigma0_10m\n",
    "\n",
    "# mixed layer depth\n",
    "MLD = sigma0.Z.broadcast_like(sigma0).where(delta_sigma<=0.03).min(dim=\"k\",skipna=True).chunk(chunks={'time': 1, 'j': sigma0.j.size, 'i': sigma0.i.size}).rename('Mixed Layer Depth')\n"
   ]
  },
  {
   "cell_type": "code",
   "execution_count": null,
   "metadata": {},
   "outputs": [],
   "source": [
    "MLD.isel(time=0).plot()\n",
    "plt.savefig('/figs/MLD.png')"
   ]
  },
  {
   "cell_type": "markdown",
   "metadata": {},
   "source": [
    "# Filtering: fixed factor scale 24"
   ]
  },
  {
   "cell_type": "code",
   "execution_count": null,
   "metadata": {},
   "outputs": [],
   "source": [
    "gcm_filters.required_grid_vars(gcm_filters.GridType.IRREGULAR_WITH_LAND)"
   ]
  },
  {
   "cell_type": "code",
   "execution_count": null,
   "metadata": {},
   "outputs": [],
   "source": [
    "# define input parameters\n",
    "\n",
    "# wet mask\n",
    "wet_mask = xr.DataArray(np.logical_not(np.isnan(T.Depth)).values,coords={'j':T.j.values , 'i': T.i.values})\n",
    "\n",
    "# area\n",
    "area= T.rA\n",
    "\n",
    "#grid\n",
    "dxw = xr.DataArray(\n",
    "    data=U.dxC, \n",
    "    coords={'i':T.i,'j':T.j}, \n",
    "    dims=('j','i')\n",
    ")\n",
    "\n",
    "dyw = xr.DataArray(\n",
    "    data=U.dyC, \n",
    "    coords={'i':T.i,'j':T.j}, \n",
    "    dims=('j','i')\n",
    ")\n",
    "\n",
    "\n",
    "dxs = xr.DataArray(\n",
    "    data=U.dxG, \n",
    "    coords={'i':T.i,'j':T.j}, \n",
    "    dims=('j','i')\n",
    ")\n",
    "\n",
    "\n",
    "dys = xr.DataArray(\n",
    "    data=U.dyG, \n",
    "    coords={'i':T.i,'j':T.j}, \n",
    "    dims=('j','i')\n",
    ")\n",
    "\n",
    "# dx_min\n",
    "dx_min = min(dxw.min(),dyw.min(),dxs.min(),dys.min())\n",
    "dx_min = dx_min.values\n",
    "dx_min\n",
    "\n",
    "#dx_max\n",
    "dx_max = max(dxw.max(),dys.max()) #removed ,dyw.max(),dxs.max()\n",
    "dx_max = dx_max.values\n",
    "dx_max\n",
    "\n",
    "#kappa_w and kappa_s\n",
    "kappa_w_fac = dxw * dxw / (dx_max * dx_max) \n",
    "kappa_s_fac = dys * dys / (dx_max * dx_max)\n"
   ]
  },
  {
   "cell_type": "code",
   "execution_count": null,
   "metadata": {},
   "outputs": [],
   "source": [
    "# define filter\n",
    "filter_factor24 = gcm_filters.Filter(\n",
    "    filter_scale=24 * dx_max, # factor of 24\n",
    "    dx_min=dx_min,\n",
    "    filter_shape=gcm_filters.FilterShape.GAUSSIAN,\n",
    "    grid_type=gcm_filters.GridType.IRREGULAR_WITH_LAND,\n",
    "    grid_vars={\n",
    "        'wet_mask': wet_mask, \n",
    "        'dxw': dxw, 'dyw': dyw, 'dxs': dxs, 'dys': dys, 'area': area, \n",
    "        'kappa_w': kappa_w_fac, 'kappa_s': kappa_s_fac\n",
    "    }\n",
    ")\n",
    "filter_factor24"
   ]
  },
  {
   "cell_type": "markdown",
   "metadata": {},
   "source": [
    "## Define Mesoscale and submesoscale fields"
   ]
  },
  {
   "cell_type": "code",
   "execution_count": null,
   "metadata": {},
   "outputs": [],
   "source": [
    "# mesoscale field defined by the 24 factor filter\n",
    "\n",
    "Um = filter_factor24.apply(U.where(wet_mask), dims=['i', 'j'])\n",
    "Vm = filter_factor24.apply(V.where(wet_mask), dims=['i', 'j'])\n",
    "Wm = filter_factor24.apply(W.where(wet_mask), dims=['i', 'j'])\n",
    "Bm = filter_factor24.apply(B.where(wet_mask), dims=['i', 'j'])"
   ]
  },
  {
   "cell_type": "code",
   "execution_count": null,
   "metadata": {},
   "outputs": [],
   "source": [
    "Bm.isel(time=0,k=0).plot()\n",
    "plt.savefig('/figs/Bm.png')"
   ]
  },
  {
   "cell_type": "code",
   "execution_count": null,
   "metadata": {},
   "outputs": [],
   "source": [
    "# submesoscale field defined as the deviation between the full resolved field and mesoscale field\n",
    "\n",
    "Us = U - Um\n",
    "Vs = V - Vm\n",
    "Ws = W - Wm\n",
    "Bs = B - Bm"
   ]
  },
  {
   "cell_type": "code",
   "execution_count": null,
   "metadata": {},
   "outputs": [],
   "source": [
    "Bs.isel(time=0,k=0).plot()\n",
    "plt.savefig('/figs/Bs.png')"
   ]
  },
  {
   "cell_type": "code",
   "execution_count": null,
   "metadata": {},
   "outputs": [],
   "source": [
    "# submesoscale buoyancy fluxes\n",
    "\n",
    "UsBs = Us * Bs\n",
    "VsBs = Vs * Bs\n",
    "WsBs = Ws * Bs"
   ]
  },
  {
   "cell_type": "code",
   "execution_count": null,
   "metadata": {},
   "outputs": [],
   "source": [
    "WsBs.isel(time=0,k=0).plot()\n",
    "plt.savefig('/figs/WsBs.png')"
   ]
  },
  {
   "cell_type": "code",
   "execution_count": null,
   "metadata": {},
   "outputs": [],
   "source": [
    "# mesoscale buoyancy gradient\n",
    "\n",
    "Bm_x = Bm.differentiate(\"i\")\n",
    "Bm_y = Bm.differentiate(\"j\")\n",
    "#Bm_z = Bm.differentiate(\"k\")"
   ]
  },
  {
   "cell_type": "code",
   "execution_count": null,
   "metadata": {},
   "outputs": [],
   "source": [
    "Bm_y.isel(time=0,k=0).plot()\n",
    "plt.savefig('/figs/Bm_y.png')"
   ]
  },
  {
   "cell_type": "markdown",
   "metadata": {},
   "source": [
    "## Coarse-grain to 1/4 degree\n",
    "\n"
   ]
  },
  {
   "cell_type": "code",
   "execution_count": null,
   "metadata": {},
   "outputs": [],
   "source": [
    "# building regridder: coarse grain to 1/4 degree\n",
    "\n",
    "ds_out_qurter = xr.Dataset(\n",
    "    {\n",
    "        \"lat\": ([\"lat\"], np.arange(lat_min, lat_max, 0.25)),\n",
    "        \"lon\": ([\"lon\"], np.arange(lon_min, lon_max, 0.25)),\n",
    "    }\n",
    ")\n",
    "\n",
    "regridder_quarter = xe.Regridder(T.isel(time=0, k=0), ds_out_qurter, \"bilinear\", periodic=False, reuse_weights=False)\n",
    "regridder_quarter"
   ]
  },
  {
   "cell_type": "code",
   "execution_count": null,
   "metadata": {},
   "outputs": [],
   "source": [
    "# regrid and select middle 10 degree box\n",
    "lon_mid = (lon_min + lon_max)/2\n",
    "lat_mid = (lat_min + lat_max)/2\n",
    "\n",
    "lon_slice_10deg = slice(lon_mid-5,lon_mid+5)\n",
    "lat_slice_10deg = slice(lat_mid-5,lat_mid+5)\n",
    "\n",
    "# meso velocities and buoyancy\n",
    "Um_lowres = regridder_quarter(Um).sel(lon=lon_slice_10deg,lat=lat_slice_10deg) \n",
    "Vm_lowres = regridder_quarter(Vm).sel(lon=lon_slice_10deg,lat=lat_slice_10deg) \n",
    "Wm_lowres = regridder_quarter(Wm).sel(lon=lon_slice_10deg,lat=lat_slice_10deg) \n",
    "Bm_lowres = regridder_quarter(Bm).sel(lon=lon_slice_10deg,lat=lat_slice_10deg) \n",
    "\n",
    "# meso gradients\n",
    "Bm_x_lowres = regridder_quarter(Bm_x).sel(lon=lon_slice_10deg,lat=lat_slice_10deg) \n",
    "Bm_y_lowres = regridder_quarter(Bm_y).sel(lon=lon_slice_10deg,lat=lat_slice_10deg) \n",
    "#Bm_z_lowres = regridder_quarter(Bm_z).sel(lon=lon_slice_10deg,lat=lat_slice_10deg) \n",
    "\n",
    "# submeso fluxes\n",
    "UsBs_lowres = regridder_quarter(UsBs).sel(lon=lon_slice_10deg,lat=lat_slice_10deg)  \n",
    "VsBs_lowres = regridder_quarter(VsBs).sel(lon=lon_slice_10deg,lat=lat_slice_10deg) \n",
    "WsBs_lowres = regridder_quarter(WsBs).sel(lon=lon_slice_10deg,lat=lat_slice_10deg)  "
   ]
  },
  {
   "cell_type": "code",
   "execution_count": null,
   "metadata": {},
   "outputs": [],
   "source": [
    "Bm_lowres.isel(time=0,k=0).plot()\n",
    "plt.savefig('/figs/Bm_lowres.png')\n",
    "\n",
    "Bm_y_lowres.isel(time=0,k=0).plot()\n",
    "plt.savefig('/figs/Bm_y_lowres.png')\n",
    "\n",
    "WsBs_lowres.isel(time=0,k=0).plot()\n",
    "plt.savefig('/figs/WsBs_lowres.png')"
   ]
  },
  {
   "cell_type": "markdown",
   "metadata": {},
   "source": [
    "## Depth averaged"
   ]
  },
  {
   "cell_type": "code",
   "execution_count": null,
   "metadata": {},
   "outputs": [],
   "source": [
    "# meso velocities and buoyancy\n",
    "Um_lowres_MLD = Um_lowres.where(delta_sigma<=0.03).min(dim=\"k\",skipna=True).rename('Um_lowres_MLD')\n",
    "Vm_lowres_MLD = Vm_lowres.where(delta_sigma<=0.03).min(dim=\"k\",skipna=True).rename('Vm_lowres_MLD')\n",
    "Wm_lowres_MLD = Wm_lowres.where(delta_sigma<=0.03).min(dim=\"k\",skipna=True).rename('Wm_lowres_MLD')\n",
    "Bm_lowres_MLD = Bm_lowres.where(delta_sigma<=0.03).min(dim=\"k\",skipna=True).rename('Bm_lowres_MLD')\n",
    "\n",
    "# submeso fluxes \n",
    "UsBs_lowres_MLD = UsBs_lowres.where(delta_sigma<=0.03).min(dim=\"k\",skipna=True).rename('UsBs_lowres_MLD')\n",
    "VsBs_lowres_MLD = VsBs_lowres.where(delta_sigma<=0.03).min(dim=\"k\",skipna=True).rename('VsBs_lowres_MLD')\n",
    "WsBs_lowres_MLD = WsBs_lowres.where(delta_sigma<=0.03).min(dim=\"k\",skipna=True).rename('WsBs_lowres_MLD')\n",
    "\n",
    "# meso gradients\n",
    "Bm_x_lowres_MLD = Bm_x_lowres.where(delta_sigma<=0.03).min(dim=\"k\",skipna=True).rename('Bm_x_lowres_MLD')\n",
    "Bm_y_lowres_MLD = Bm_y_lowres.where(delta_sigma<=0.03).min(dim=\"k\",skipna=True).rename('Bm_y_lowres_MLD')\n",
    "#Bm_z_lowres_MLD = Bm_z_lowres.where(delta_sigma<=0.03).min(dim=\"k\",skipna=True).rename('Bm_z_lowres_MLD')"
   ]
  },
  {
   "cell_type": "code",
   "execution_count": null,
   "metadata": {},
   "outputs": [],
   "source": [
    "Bm_lowres_MLD.isel(time=0,k=0).plot()\n",
    "plt.savefig('/figs/Bm_lowres_MLD.png')\n",
    "\n",
    "Bm_y_lowres_MLD.isel(time=0,k=0).plot()\n",
    "plt.savefig('/figs/Bm_y_lowres_MLD.png')\n",
    "\n",
    "WsBs_lowres_MLD.isel(time=0,k=0).plot()\n",
    "plt.savefig('/figs/WsBs_lowres_MLD.png')"
   ]
  },
  {
   "cell_type": "markdown",
   "metadata": {},
   "source": [
    "# Save data: stack input and output, save snapshots"
   ]
  },
  {
   "cell_type": "code",
   "execution_count": null,
   "metadata": {},
   "outputs": [],
   "source": [
    "def save_data(PATH, CASE_NAME, dataset_ind, Um_lowres_MLD, Vm_lowres_MLD, Wm_lowres_MLD, Bm_lowres_MLD,...\n",
    "             UsBs_lowres_MLD, VsBs_lowres_MLD, WsBs_lowres_MLD, Bm_x_lowres_MLD, Bm_y_lowres_MLD, Bm_z_lowres_MLD):\n",
    "    \n",
    "    for ii in tqdm(range(len(dataset_ind))):\n",
    "        # input channels: lowres mesoscale fields averaged over the mixed layer Um, Vm, Wm, Bm\n",
    "        Um_data = np.nan_to_num(Um_lowres_MLD.Um_lowres_MLD.isel(time=dataset_ind[ii]).values)\n",
    "        Vm_data = np.nan_to_num(Vm_lowres_MLD.Vm_lowres_MLD.isel(time=dataset_ind[ii]).values)\n",
    "        Wm_data = np.nan_to_num(Wm_lowres_MLD.Wm_lowres_MLD.isel(time=dataset_ind[ii]).values)\n",
    "        Bm_data = np.nan_to_num(Bm_lowres_MLD.Bm_lowres_MLD.isel(time=dataset_ind[ii]).values)\n",
    "        \n",
    "        # output channels: lowres submeso fluxes and meso gradient fields averaged over the mixed layer UsBs, VsBs, WsBs, Bm_x, Bm_y, Bm_z\n",
    "        UsBs_data = np.nan_to_num(UsBs_lowres_MLD.UsBs_lowres_MLD.isel(time=dataset_ind[ii]).values)\n",
    "        VsBs_data = np.nan_to_num(VsBs_lowres_MLD.VsBs_lowres_MLD.isel(time=dataset_ind[ii]).values)\n",
    "        WsBs_data = np.nan_to_num(WsBs_lowres_MLD.WsBs_lowres_MLD.isel(time=dataset_ind[ii]).values)\n",
    "        \n",
    "        Bm_x_data = np.nan_to_num(Bm_x_lowres_MLD.Bm_x_lowres_MLD.isel(time=dataset_ind[ii]).values)\n",
    "        Bm_y_data = np.nan_to_num(Bm_y_lowres_MLD.Bm_y_lowres_MLD.isel(time=dataset_ind[ii]).values)\n",
    "        Bm_z_data = np.nan_to_num(Bm_z_lowres_MLD.Bm_z_lowres_MLD.isel(time=dataset_ind[ii]).values)\n",
    "        \n",
    "\n",
    "        # input: \n",
    "        cnn_input_ii = np.stack([\n",
    "            Um_data,\n",
    "            Vm_data,\n",
    "            Wm_data,\n",
    "            Bm_data\n",
    "        ], axis=0).astype(np.float32)\n",
    "        \n",
    "        #output\n",
    "        cnn_output_ii = np.stack([\n",
    "            UsBs_data,\n",
    "            VsBs_data,\n",
    "            WsBs_data,\n",
    "            Bm_x_data,\n",
    "            Bm_y_data,\n",
    "            Bm_z_data\n",
    "        ], axis=0).astype(np.float32)\n",
    "\n",
    "\n",
    "    \n",
    "    \n",
    "        ########## Save  data\n",
    "        FULL_PATH_input = PATH+CASE_NAME+'input/'\n",
    "        FULL_PATH_output = PATH+CASE_NAME+'output/'\n",
    "\n",
    "        # Check whether the specified path exists or not\n",
    "        isExist = os.path.exists(FULL_PATH_input)\n",
    "        if not isExist:\n",
    "            os.makedirs(FULL_PATH_input)\n",
    "            print(\"The new input directory is created!\")\n",
    "            os.makedirs(FULL_PATH_output)\n",
    "            print(\"The new output directory is created!\")\n",
    "        \n",
    "\n",
    "        np.save(FULL_PATH_input+str(ii)+'.npy', cnn_input_ii)\n",
    "        np.save(FULL_PATH_output+str(ii)+'.npy', cnn_output_ii)\n",
    "\n",
    "    np.save(PATH+CASE_NAME+'dataset_ind.npy', dataset_ind)"
   ]
  },
  {
   "cell_type": "code",
   "execution_count": null,
   "metadata": {},
   "outputs": [],
   "source": [
    "# randomnly generate test and training time indecies (need to make sure no overlapping times)\n",
    "\n",
    "time_ind = len(T.time)\n",
    "rand_ind = np.arange(time_ind)\n",
    "np.random.shuffle(rand_ind)\n",
    "train_percent = 0.7\n",
    "test_percent = 0.2 \n",
    "print(f\"Dataset: train {np.round(train_percent*100)}%, test {np.round(test_percent*100)}%, val {np.round((1-train_percent-test_percent)*100)}%\")\n",
    "train_ind, test_ind, val_ind =  rand_ind[:round(train_percent*time_ind)], rand_ind[round(train_percent*time_ind):round((train_percent+test_percent)*time_ind)], rand_ind[round((train_percent+test_percent)*time_ind):]                                                                        \n"
   ]
  },
  {
   "cell_type": "code",
   "execution_count": null,
   "metadata": {},
   "outputs": [],
   "source": [
    "# Save train, test and val datasets\n",
    "CASE_NAME = 'lat_-57_-42_lon_25_40'\n",
    "BASE = '/scratch/ab10313/submeso_ML_data/'\n",
    "\n",
    "# Train set\n",
    "print('TRAIN: START')\n",
    "TRAIN_PATH = BASE+'train/'\n",
    "save_data(TRAIN_PATH, CASE_NAME, train_ind, Um_lowres_MLD, Vm_lowres_MLD, Wm_lowres_MLD, Bm_lowres_MLD,...\n",
    "             UsBs_lowres_MLD, VsBs_lowres_MLD, WsBs_lowres_MLD, Bm_x_lowres_MLD, Bm_y_lowres_MLD, Bm_y_lowres_MLD)\n",
    "print('DONE')\n",
    "\n",
    "# TEST set\n",
    "print('TEST: START')\n",
    "TEST_PATH = BASE+'test/'\n",
    "save_data(TEST_PATH, CASE_NAME, test_ind,  Um_lowres_MLD, Vm_lowres_MLD, Wm_lowres_MLD, Bm_lowres_MLD,...\n",
    "             UsBs_lowres_MLD, VsBs_lowres_MLD, WsBs_lowres_MLD, Bm_x_lowres_MLD, Bm_y_lowres_MLD, Bm_y_lowres_MLD)\n",
    "print('DONE')\n",
    "\n",
    "# VAL set\n",
    "print('VAL: START')\n",
    "VAL_PATH = BASE+'val/'\n",
    "save_data(VAL_PATH, CASE_NAME, val_ind, Um_lowres_MLD, Vm_lowres_MLD, Wm_lowres_MLD, Bm_lowres_MLD,...\n",
    "             UsBs_lowres_MLD, VsBs_lowres_MLD, WsBs_lowres_MLD, Bm_x_lowres_MLD, Bm_y_lowres_MLD, Bm_y_lowres_MLD)\n",
    "print('DONE')"
   ]
  },
  {
   "cell_type": "markdown",
   "metadata": {},
   "source": [
    "# Visualization\n",
    "## histograms, 2D snapshots"
   ]
  }
 ],
 "metadata": {
  "kernelspec": {
   "display_name": "submeso_env",
   "language": "python",
   "name": "submeso_env"
  },
  "language_info": {
   "codemirror_mode": {
    "name": "ipython",
    "version": 3
   },
   "file_extension": ".py",
   "mimetype": "text/x-python",
   "name": "python",
   "nbconvert_exporter": "python",
   "pygments_lexer": "ipython3",
   "version": "3.9.12"
  }
 },
 "nbformat": 4,
 "nbformat_minor": 4
}
